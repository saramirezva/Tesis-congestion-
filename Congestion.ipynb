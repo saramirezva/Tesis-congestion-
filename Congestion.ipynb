{
 "cells": [
  {
   "cell_type": "markdown",
   "metadata": {},
   "source": [
    "# Congestión"
   ]
  },
  {
   "cell_type": "markdown",
   "metadata": {},
   "source": [
    "En este documento se realizara un dataframe en el cual se tendran los tiempos de viaje, hora de salida y de llegada de cada viaje para primero contar, en una determinada hora (tengo metido en la cabeza a las 6 am XD) cuantas personas no han llegado a sus destinos, como una primera medida de congestion y revisar esto mediante un intervalo, el cual yo considero minimo de media hoa, aunque eso debe tener un argumento mas fuerte como la demora promedio por viaje.\n",
    "\n",
    "Antes de esto se deben conocer cantidades determinantes como la demora promedio de todos los viajes, y tambien podria ser una medida de congestion medir este paramertro dependiendo de la hora, y estas cantidades habra que norlmalizarlas, pero con respecto a que???? no estoy seguro pero a medida que avance el problema y hablando con Hurtado lo averiguare. "
   ]
  },
  {
   "cell_type": "code",
   "execution_count": 1,
   "metadata": {},
   "outputs": [],
   "source": [
    "#Se llaman las librerias necesarias\n",
    "import pandas as pd\n",
    "import numpy as np\n",
    "import networkx as nx \n",
    "import matplotlib.pyplot as plt\n",
    "import operator\n",
    "import itertools\n",
    "import datetime\n",
    "from scipy.optimize import curve_fit"
   ]
  },
  {
   "cell_type": "code",
   "execution_count": 2,
   "metadata": {},
   "outputs": [
    {
     "data": {
      "text/html": [
       "<div>\n",
       "<style scoped>\n",
       "    .dataframe tbody tr th:only-of-type {\n",
       "        vertical-align: middle;\n",
       "    }\n",
       "\n",
       "    .dataframe tbody tr th {\n",
       "        vertical-align: top;\n",
       "    }\n",
       "\n",
       "    .dataframe thead th {\n",
       "        text-align: right;\n",
       "    }\n",
       "</style>\n",
       "<table border=\"1\" class=\"dataframe\">\n",
       "  <thead>\n",
       "    <tr style=\"text-align: right;\">\n",
       "      <th></th>\n",
       "      <th>Unnamed: 0</th>\n",
       "      <th>Unnamed: 0.1</th>\n",
       "      <th>id_hogar</th>\n",
       "      <th>Estado</th>\n",
       "      <th>Utam</th>\n",
       "      <th>Sector</th>\n",
       "      <th>Seccion</th>\n",
       "      <th>Manzana</th>\n",
       "      <th>p5_fecha</th>\n",
       "      <th>p7_Barrio_vivienda</th>\n",
       "      <th>...</th>\n",
       "      <th>p7_id_actividad_economica</th>\n",
       "      <th>p7v_lugar_inicio_dia</th>\n",
       "      <th>p8v_barrio_vereda</th>\n",
       "      <th>p9v_id_municipio</th>\n",
       "      <th>p9v_municipio</th>\n",
       "      <th>p10v_hora_salida</th>\n",
       "      <th>p11v_condujo_vehiculo</th>\n",
       "      <th>p13v_condujo_bicicleta</th>\n",
       "      <th>p15v_subsidio_SITP</th>\n",
       "      <th>Sexo</th>\n",
       "    </tr>\n",
       "  </thead>\n",
       "  <tbody>\n",
       "    <tr>\n",
       "      <th>0</th>\n",
       "      <td>0</td>\n",
       "      <td>7089</td>\n",
       "      <td>17081</td>\n",
       "      <td>2</td>\n",
       "      <td>UTAM9</td>\n",
       "      <td>8534</td>\n",
       "      <td>3</td>\n",
       "      <td>14</td>\n",
       "      <td>2019-05-21</td>\n",
       "      <td>MIRADOR</td>\n",
       "      <td>...</td>\n",
       "      <td>6.0</td>\n",
       "      <td>1.0</td>\n",
       "      <td>NaN</td>\n",
       "      <td>NaN</td>\n",
       "      <td>NaN</td>\n",
       "      <td>05:20:00</td>\n",
       "      <td>2.0</td>\n",
       "      <td>2.0</td>\n",
       "      <td>4.0</td>\n",
       "      <td>Hombre</td>\n",
       "    </tr>\n",
       "    <tr>\n",
       "      <th>1</th>\n",
       "      <td>1</td>\n",
       "      <td>7090</td>\n",
       "      <td>17081</td>\n",
       "      <td>2</td>\n",
       "      <td>UTAM9</td>\n",
       "      <td>8534</td>\n",
       "      <td>3</td>\n",
       "      <td>14</td>\n",
       "      <td>2019-05-21</td>\n",
       "      <td>MIRADOR</td>\n",
       "      <td>...</td>\n",
       "      <td>6.0</td>\n",
       "      <td>1.0</td>\n",
       "      <td>NaN</td>\n",
       "      <td>NaN</td>\n",
       "      <td>NaN</td>\n",
       "      <td>05:20:00</td>\n",
       "      <td>2.0</td>\n",
       "      <td>2.0</td>\n",
       "      <td>4.0</td>\n",
       "      <td>Hombre</td>\n",
       "    </tr>\n",
       "    <tr>\n",
       "      <th>2</th>\n",
       "      <td>2</td>\n",
       "      <td>7091</td>\n",
       "      <td>17081</td>\n",
       "      <td>2</td>\n",
       "      <td>UTAM9</td>\n",
       "      <td>8534</td>\n",
       "      <td>3</td>\n",
       "      <td>14</td>\n",
       "      <td>2019-05-21</td>\n",
       "      <td>MIRADOR</td>\n",
       "      <td>...</td>\n",
       "      <td>NaN</td>\n",
       "      <td>1.0</td>\n",
       "      <td>NaN</td>\n",
       "      <td>NaN</td>\n",
       "      <td>NaN</td>\n",
       "      <td>14:00:00</td>\n",
       "      <td>2.0</td>\n",
       "      <td>2.0</td>\n",
       "      <td>4.0</td>\n",
       "      <td>Mujer</td>\n",
       "    </tr>\n",
       "    <tr>\n",
       "      <th>3</th>\n",
       "      <td>3</td>\n",
       "      <td>7092</td>\n",
       "      <td>17081</td>\n",
       "      <td>2</td>\n",
       "      <td>UTAM9</td>\n",
       "      <td>8534</td>\n",
       "      <td>3</td>\n",
       "      <td>14</td>\n",
       "      <td>2019-05-21</td>\n",
       "      <td>MIRADOR</td>\n",
       "      <td>...</td>\n",
       "      <td>NaN</td>\n",
       "      <td>1.0</td>\n",
       "      <td>NaN</td>\n",
       "      <td>NaN</td>\n",
       "      <td>NaN</td>\n",
       "      <td>14:00:00</td>\n",
       "      <td>2.0</td>\n",
       "      <td>2.0</td>\n",
       "      <td>4.0</td>\n",
       "      <td>Mujer</td>\n",
       "    </tr>\n",
       "    <tr>\n",
       "      <th>4</th>\n",
       "      <td>4</td>\n",
       "      <td>7096</td>\n",
       "      <td>P07096</td>\n",
       "      <td>1</td>\n",
       "      <td>UTAM9</td>\n",
       "      <td>8534</td>\n",
       "      <td>3</td>\n",
       "      <td>14</td>\n",
       "      <td>2019-05-21</td>\n",
       "      <td>MIRADOR DEL NORTE</td>\n",
       "      <td>...</td>\n",
       "      <td>NaN</td>\n",
       "      <td>1.0</td>\n",
       "      <td>NaN</td>\n",
       "      <td>NaN</td>\n",
       "      <td>NaN</td>\n",
       "      <td>06:30:00</td>\n",
       "      <td>2.0</td>\n",
       "      <td>2.0</td>\n",
       "      <td>4.0</td>\n",
       "      <td>Mujer</td>\n",
       "    </tr>\n",
       "  </tbody>\n",
       "</table>\n",
       "<p>5 rows × 70 columns</p>\n",
       "</div>"
      ],
      "text/plain": [
       "   Unnamed: 0  Unnamed: 0.1 id_hogar  Estado   Utam  Sector  Seccion  Manzana  \\\n",
       "0           0          7089    17081       2  UTAM9    8534        3       14   \n",
       "1           1          7090    17081       2  UTAM9    8534        3       14   \n",
       "2           2          7091    17081       2  UTAM9    8534        3       14   \n",
       "3           3          7092    17081       2  UTAM9    8534        3       14   \n",
       "4           4          7096   P07096       1  UTAM9    8534        3       14   \n",
       "\n",
       "     p5_fecha p7_Barrio_vivienda  ...  p7_id_actividad_economica  \\\n",
       "0  2019-05-21            MIRADOR  ...                        6.0   \n",
       "1  2019-05-21            MIRADOR  ...                        6.0   \n",
       "2  2019-05-21            MIRADOR  ...                        NaN   \n",
       "3  2019-05-21            MIRADOR  ...                        NaN   \n",
       "4  2019-05-21  MIRADOR DEL NORTE  ...                        NaN   \n",
       "\n",
       "   p7v_lugar_inicio_dia  p8v_barrio_vereda  p9v_id_municipio  p9v_municipio  \\\n",
       "0                   1.0                NaN               NaN            NaN   \n",
       "1                   1.0                NaN               NaN            NaN   \n",
       "2                   1.0                NaN               NaN            NaN   \n",
       "3                   1.0                NaN               NaN            NaN   \n",
       "4                   1.0                NaN               NaN            NaN   \n",
       "\n",
       "   p10v_hora_salida  p11v_condujo_vehiculo  p13v_condujo_bicicleta  \\\n",
       "0          05:20:00                    2.0                     2.0   \n",
       "1          05:20:00                    2.0                     2.0   \n",
       "2          14:00:00                    2.0                     2.0   \n",
       "3          14:00:00                    2.0                     2.0   \n",
       "4          06:30:00                    2.0                     2.0   \n",
       "\n",
       "   p15v_subsidio_SITP    Sexo  \n",
       "0                 4.0  Hombre  \n",
       "1                 4.0  Hombre  \n",
       "2                 4.0   Mujer  \n",
       "3                 4.0   Mujer  \n",
       "4                 4.0   Mujer  \n",
       "\n",
       "[5 rows x 70 columns]"
      ]
     },
     "execution_count": 2,
     "metadata": {},
     "output_type": "execute_result"
    }
   ],
   "source": [
    "# Se importa la base de datos necesaria parael problema\n",
    "great_df = pd.read_csv('Viajes_en_Bogota.csv')\n",
    "great_df.head()"
   ]
  },
  {
   "cell_type": "markdown",
   "metadata": {},
   "source": [
    "## Funciones importantes "
   ]
  },
  {
   "cell_type": "code",
   "execution_count": 3,
   "metadata": {},
   "outputs": [],
   "source": [
    "# Cuenta la cantidad de un elemento sobre todos los elementos de un arreglo \n",
    "def count(array):\n",
    "    y_dist = np.asarray([list(array).count(x) for x in np.unique(array)])\n",
    "    x_dist = np.asarray([x for x in np.unique(array)])\n",
    "    return x_dist, y_dist\n",
    "\n",
    "#Cambia los datos de hora a tipo datatime \n",
    "def to_time(clmn):\n",
    "    array = []\n",
    "    for i in clmn:\n",
    "        array.append(datetime.datetime.strptime(i, '%H:%M:%S').time())\n",
    "    return array\n",
    "\n",
    "# Funcion en la que se aplica el metodo de newman\n",
    "def newman(array):\n",
    "    my_array = []\n",
    "    for i in range(len(array)):\n",
    "        P = sum(array[i:])\n",
    "        my_array.append(P)\n",
    "    return my_array"
   ]
  },
  {
   "cell_type": "markdown",
   "metadata": {},
   "source": [
    "### Analisis y distribucion de la duracion de los tiempos de viaje en la red"
   ]
  },
  {
   "cell_type": "code",
   "execution_count": 4,
   "metadata": {},
   "outputs": [
    {
     "data": {
      "text/plain": [
       "50.06132017038145"
      ]
     },
     "execution_count": 4,
     "metadata": {},
     "output_type": "execute_result"
    }
   ],
   "source": [
    "great_df['duracion'].agg('average')"
   ]
  },
  {
   "cell_type": "markdown",
   "metadata": {},
   "source": [
    "El tiempo promedio de viajes para la red de Bogotá y Suacha es $\\bar{t} = 50,08$ minutos"
   ]
  },
  {
   "cell_type": "code",
   "execution_count": 5,
   "metadata": {},
   "outputs": [
    {
     "data": {
      "text/html": [
       "<div>\n",
       "<style scoped>\n",
       "    .dataframe tbody tr th:only-of-type {\n",
       "        vertical-align: middle;\n",
       "    }\n",
       "\n",
       "    .dataframe tbody tr th {\n",
       "        vertical-align: top;\n",
       "    }\n",
       "\n",
       "    .dataframe thead th {\n",
       "        text-align: right;\n",
       "    }\n",
       "</style>\n",
       "<table border=\"1\" class=\"dataframe\">\n",
       "  <thead>\n",
       "    <tr style=\"text-align: right;\">\n",
       "      <th></th>\n",
       "      <th>hora_inicio_viaje</th>\n",
       "      <th>p10v_hora_salida</th>\n",
       "      <th>hora_llegada</th>\n",
       "      <th>duracion</th>\n",
       "    </tr>\n",
       "  </thead>\n",
       "  <tbody>\n",
       "    <tr>\n",
       "      <th>0</th>\n",
       "      <td>18:00:00</td>\n",
       "      <td>05:20:00</td>\n",
       "      <td>18:10:00</td>\n",
       "      <td>10</td>\n",
       "    </tr>\n",
       "    <tr>\n",
       "      <th>1</th>\n",
       "      <td>06:00:00</td>\n",
       "      <td>05:20:00</td>\n",
       "      <td>06:10:00</td>\n",
       "      <td>10</td>\n",
       "    </tr>\n",
       "    <tr>\n",
       "      <th>2</th>\n",
       "      <td>15:30:00</td>\n",
       "      <td>14:00:00</td>\n",
       "      <td>16:15:00</td>\n",
       "      <td>45</td>\n",
       "    </tr>\n",
       "    <tr>\n",
       "      <th>3</th>\n",
       "      <td>06:20:00</td>\n",
       "      <td>14:00:00</td>\n",
       "      <td>06:25:00</td>\n",
       "      <td>5</td>\n",
       "    </tr>\n",
       "    <tr>\n",
       "      <th>4</th>\n",
       "      <td>12:00:00</td>\n",
       "      <td>06:30:00</td>\n",
       "      <td>20:00:00</td>\n",
       "      <td>480</td>\n",
       "    </tr>\n",
       "    <tr>\n",
       "      <th>...</th>\n",
       "      <td>...</td>\n",
       "      <td>...</td>\n",
       "      <td>...</td>\n",
       "      <td>...</td>\n",
       "    </tr>\n",
       "    <tr>\n",
       "      <th>104936</th>\n",
       "      <td>06:20:00</td>\n",
       "      <td>06:05:00</td>\n",
       "      <td>06:50:00</td>\n",
       "      <td>30</td>\n",
       "    </tr>\n",
       "    <tr>\n",
       "      <th>104937</th>\n",
       "      <td>16:00:00</td>\n",
       "      <td>06:05:00</td>\n",
       "      <td>17:10:00</td>\n",
       "      <td>70</td>\n",
       "    </tr>\n",
       "    <tr>\n",
       "      <th>104938</th>\n",
       "      <td>12:45:00</td>\n",
       "      <td>06:05:00</td>\n",
       "      <td>14:00:00</td>\n",
       "      <td>75</td>\n",
       "    </tr>\n",
       "    <tr>\n",
       "      <th>104939</th>\n",
       "      <td>13:30:00</td>\n",
       "      <td>08:00:00</td>\n",
       "      <td>13:36:00</td>\n",
       "      <td>6</td>\n",
       "    </tr>\n",
       "    <tr>\n",
       "      <th>104940</th>\n",
       "      <td>14:00:00</td>\n",
       "      <td>08:00:00</td>\n",
       "      <td>15:30:00</td>\n",
       "      <td>90</td>\n",
       "    </tr>\n",
       "  </tbody>\n",
       "</table>\n",
       "<p>104941 rows × 4 columns</p>\n",
       "</div>"
      ],
      "text/plain": [
       "       hora_inicio_viaje p10v_hora_salida hora_llegada  duracion\n",
       "0               18:00:00         05:20:00     18:10:00        10\n",
       "1               06:00:00         05:20:00     06:10:00        10\n",
       "2               15:30:00         14:00:00     16:15:00        45\n",
       "3               06:20:00         14:00:00     06:25:00         5\n",
       "4               12:00:00         06:30:00     20:00:00       480\n",
       "...                  ...              ...          ...       ...\n",
       "104936          06:20:00         06:05:00     06:50:00        30\n",
       "104937          16:00:00         06:05:00     17:10:00        70\n",
       "104938          12:45:00         06:05:00     14:00:00        75\n",
       "104939          13:30:00         08:00:00     13:36:00         6\n",
       "104940          14:00:00         08:00:00     15:30:00        90\n",
       "\n",
       "[104941 rows x 4 columns]"
      ]
     },
     "execution_count": 5,
     "metadata": {},
     "output_type": "execute_result"
    }
   ],
   "source": [
    "great_df[['hora_inicio_viaje','p10v_hora_salida', 'hora_llegada', 'duracion']]"
   ]
  },
  {
   "cell_type": "code",
   "execution_count": 6,
   "metadata": {},
   "outputs": [],
   "source": [
    "duracion = np.asarray(great_df[great_df['duracion'] <= 200]['duracion'])\n",
    "duracion_x, duracion_y = count(duracion) \n",
    "y_normal = duracion_y/sum(duracion_y)\n",
    "dur_newman = newman(y_normal)"
   ]
  },
  {
   "cell_type": "code",
   "execution_count": 7,
   "metadata": {},
   "outputs": [
    {
     "data": {
      "text/plain": [
       "44.882114018166135"
      ]
     },
     "execution_count": 7,
     "metadata": {},
     "output_type": "execute_result"
    }
   ],
   "source": [
    "np.mean(duracion)"
   ]
  },
  {
   "cell_type": "code",
   "execution_count": 21,
   "metadata": {},
   "outputs": [
    {
     "data": {
      "text/plain": [
       "5282847"
      ]
     },
     "execution_count": 21,
     "metadata": {},
     "output_type": "execute_result"
    }
   ],
   "source": [
    "sum(np.asarray(great_df['duracion']))"
   ]
  },
  {
   "cell_type": "code",
   "execution_count": 8,
   "metadata": {},
   "outputs": [
    {
     "data": {
      "image/png": "[encoded data removed]",
      "text/plain": [
       "<Figure size 720x504 with 1 Axes>"
      ]
     },
     "metadata": {
      "needs_background": "light"
     },
     "output_type": "display_data"
    }
   ],
   "source": [
    "# Distribucion \n",
    "plt.figure(figsize = (10,7))\n",
    "plt.loglog(duracion_x, duracion_y, 'o')\n",
    "plt.xlabel('Tiempo de viaje (minutos)', fontsize = 16)\n",
    "plt.ylabel('Frecuencia', fontsize = 16)\n",
    "plt.vlines(np.mean(duracion), 0, 1.3e4, color = 'g',label = 'Duracion media')\n",
    "plt.legend()\n",
    "plt.grid()"
   ]
  },
  {
   "cell_type": "code",
   "execution_count": 77,
   "metadata": {},
   "outputs": [
    {
     "data": {
      "image/png": "[encoded data removed]",
      "text/plain": [
       "<Figure size 720x504 with 1 Axes>"
      ]
     },
     "metadata": {
      "needs_background": "light"
     },
     "output_type": "display_data"
    }
   ],
   "source": [
    "plt.figure(figsize = (10,7))\n",
    "plt.semilogy(duracion_x, y_normal, 'o')\n",
    "plt.xlabel('Tiempo de viaje (minutos)', fontsize = 16)\n",
    "plt.ylabel('Probabilidad', fontsize = 16)\n",
    "plt.vlines(great_df['duracion'].agg('average'), 0, 1, color = 'g',label = 'Duracion media')\n",
    "plt.legend()\n",
    "plt.grid()"
   ]
  },
  {
   "cell_type": "code",
   "execution_count": 9,
   "metadata": {},
   "outputs": [
    {
     "name": "stderr",
     "output_type": "stream",
     "text": [
      "No artists with labels found to put in legend.  Note that artists whose label start with an underscore are ignored when legend() is called with no argument.\n"
     ]
    },
    {
     "data": {
      "image/png": "[encoded data removed]",
      "text/plain": [
       "<Figure size 720x504 with 1 Axes>"
      ]
     },
     "metadata": {
      "needs_background": "light"
     },
     "output_type": "display_data"
    }
   ],
   "source": [
    "plt.figure(figsize = (10,7))\n",
    "plt.plot(duracion_x, dur_newman, 'o')\n",
    "plt.xlabel('Tiempo de viaje (minutos)', fontsize = 16)\n",
    "plt.ylabel('CDF', fontsize = 16)\n",
    "#plt.vlines(great_df['duracion'].agg('average'), 0, 1, color = 'g',label = 'Duracion media')\n",
    "plt.legend()\n",
    "plt.grid()"
   ]
  },
  {
   "cell_type": "markdown",
   "metadata": {},
   "source": [
    "Hay algo que me inquieta a la hora de ver la distribucion de la duracion de los viajes y es la presencia de tres estructuras aparentemente independientes, en donde cada una sigue una tendencia por separado, y no una tendencia global, e incluso, dependiendo de como se vea, se pueden incluso ver cuatro estructuras en esta grafica, lo cual es inquietante."
   ]
  },
  {
   "cell_type": "markdown",
   "metadata": {},
   "source": [
    "Algo que se puede hacer con la duracion de los viajes es por medio de tranporte, localidad (considerando a soacha una localidad) y por estrato a ver como se comporta esa joda."
   ]
  },
  {
   "cell_type": "code",
   "execution_count": null,
   "metadata": {},
   "outputs": [],
   "source": [
    "great_df[great_df['duracion'] < 200][['hora_inicio_viaje','p10v_hora_salida', 'hora_llegada', 'duracion', 'zat_origen', 'zat_destino']]"
   ]
  },
  {
   "cell_type": "markdown",
   "metadata": {},
   "source": [
    "Revisando la duracion de los viajes se notan cosas raras, como el hecho de que excisten viajes cuya duracion es $t = 0$, y son viajes entre zonas bastante separadas, o casos tambien mas raros en donde la duracion es algo absurdo, como mas de 1000 minutos. Hay unos viajes que duran mas o menos 12 horas, van y llegan al mismo lado, podria decirse que es casi que el viaje de la casa al trabajo y de regreso XD.\n",
    "\n",
    "Teniendo en cuenta estos dos extremos atipicos me planteo la gran posibilidad de filtrar tambien estos datos de mi base de datos, la gracia seria consultarlo con hurtado."
   ]
  },
  {
   "cell_type": "code",
   "execution_count": null,
   "metadata": {},
   "outputs": [],
   "source": [
    "len(great_df)*98/100"
   ]
  },
  {
   "cell_type": "markdown",
   "metadata": {},
   "source": [
    "Entre el 87% y el 88% los viajes duran menos de 100 munitos, es decir, mas de una hora y media, por lo cual, tan solo un 13% de los viajes duran mas que esto, los cuales son relativamente pocos, pero es totalmente plausible que los viajes puedan durar hasta tres horas dentro de la ciudad. Los viajes que duran menos de 200 minutos, tres horas y 20 minutos representan entre 98 y 99% de los viajes realizados, por lo cual esto podria tomarse como una cota superior para el filtrado de los datos, ya que esos datos de al rededor de doce horas es casi que ir y volver de la casa, seria ver el lugar de origen o el motivo de estos viajes para ver las rarezas ocultas de estos. "
   ]
  },
  {
   "cell_type": "markdown",
   "metadata": {},
   "source": [
    "Al hacerle el proceso de Newman se nota que la distribucion de las duraciones sigue aproximadamente una ley exponencilal, quien lo diria XD"
   ]
  },
  {
   "cell_type": "markdown",
   "metadata": {},
   "source": [
    "A partir de aca se va a ahcer la serie de tiempo de la duracion de viaje promedio"
   ]
  },
  {
   "cell_type": "code",
   "execution_count": 10,
   "metadata": {},
   "outputs": [],
   "source": [
    "df_duracion = great_df[['hora_inicio_viaje', 'hora_llegada', 'duracion']]\n",
    "df_duracion = df_duracion[df_duracion['duracion'] <= 200]\n",
    "df_duracion['hora_inicio_viaje'] = to_time(df_duracion['hora_inicio_viaje'])\n",
    "df_duracion['hora_llegada'] = to_time(df_duracion['hora_llegada'])"
   ]
  },
  {
   "cell_type": "code",
   "execution_count": 11,
   "metadata": {},
   "outputs": [
    {
     "data": {
      "text/plain": [
       "44.882114018166135"
      ]
     },
     "execution_count": 11,
     "metadata": {},
     "output_type": "execute_result"
    }
   ],
   "source": [
    "df_duracion['duracion'].agg('average')"
   ]
  },
  {
   "cell_type": "code",
   "execution_count": 12,
   "metadata": {},
   "outputs": [],
   "source": [
    "horas = []\n",
    "dur_media = []\n",
    "num_viajes = []\n",
    "hora = datetime.time(0, 0)\n",
    "hora_out = datetime.time(22, 0)\n",
    "hora_in = datetime.time(2,0)\n",
    "df = df_duracion[(df_duracion['hora_inicio_viaje'] >= hora_out) & \n",
    "             (df_duracion['hora_llegada'] <= hora_in) &\n",
    "             (df_duracion['hora_inicio_viaje'] <= datetime.time(23, 59)) & \n",
    "             (df_duracion['hora_llegada'] >= hora)]\n",
    "dur_media.append(df['duracion'].agg('average'))\n",
    "horas.append(0)\n",
    "num_viajes.append(len(df))\n",
    "for i in range(1,24):\n",
    "    hora = datetime.time(i, 0)\n",
    "    df = df_duracion[(df_duracion['hora_inicio_viaje'] <= hora) & (df_duracion['hora_llegada'] >= hora)]\n",
    "    dur_media.append(df['duracion'].agg('average'))\n",
    "    horas.append(i)\n",
    "    num_viajes.append(len(df))"
   ]
  },
  {
   "cell_type": "code",
   "execution_count": 13,
   "metadata": {},
   "outputs": [
    {
     "data": {
      "image/png": "[encoded data removed]",
      "text/plain": [
       "<Figure size 720x504 with 1 Axes>"
      ]
     },
     "metadata": {
      "needs_background": "light"
     },
     "output_type": "display_data"
    }
   ],
   "source": [
    "plt.figure(figsize = (10, 7))\n",
    "plt.plot(horas, dur_media, 'o', linestyle = '-')\n",
    "plt.xlabel('Hora', fontsize = 14)\n",
    "plt.ylabel('Duracion promedio de viaje (minutos)', fontsize = 14)\n",
    "plt.grid()"
   ]
  },
  {
   "cell_type": "code",
   "execution_count": 14,
   "metadata": {},
   "outputs": [
    {
     "data": {
      "image/png": "[encoded data removed]",
      "text/plain": [
       "<Figure size 720x504 with 1 Axes>"
      ]
     },
     "metadata": {
      "needs_background": "light"
     },
     "output_type": "display_data"
    }
   ],
   "source": [
    "plt.figure(figsize = (10, 7))\n",
    "plt.plot(horas, num_viajes, 'o', linestyle = '-')\n",
    "plt.xlabel('Hora', fontsize = 14)\n",
    "plt.ylabel('Numero de viajes', fontsize = 14)\n",
    "plt.grid()"
   ]
  },
  {
   "cell_type": "code",
   "execution_count": 15,
   "metadata": {},
   "outputs": [
    {
     "data": {
      "text/plain": [
       "[<matplotlib.lines.Line2D at 0x1028486850>]"
      ]
     },
     "execution_count": 15,
     "metadata": {},
     "output_type": "execute_result"
    },
    {
     "data": {
      "image/png": "[encoded data removed]",
      "text/plain": [
       "<Figure size 432x288 with 2 Axes>"
      ]
     },
     "metadata": {
      "needs_background": "light"
     },
     "output_type": "display_data"
    }
   ],
   "source": [
    "fig, axs = plt.subplots(2, sharex = True)\n",
    "fig.suptitle('Duracion y numero de viajes')\n",
    "axs[0].plot(horas, dur_media, 'o', linestyle = '-')\n",
    "axs[1].plot(horas, num_viajes, 'o', linestyle = '-')\n"
   ]
  },
  {
   "cell_type": "markdown",
   "metadata": {},
   "source": [
    "Basicamente todas estas cantidades siguen mas o menos el mismo tipo de estructura de horas pico y valle, podria concluirse que esta dinamica es la que rige la estructura de la movilidad de bogota. Para el caso particular de la duracion promedio de los viajes, se ve que las horas mas congestionadas son las horas pico, pero para este caso la hora pico parce desplazarse, como se ve, los viajes que se hacen entre 4 y 5 de la mañana duran muchisimo, al igual que los hechos entre 7 y 8 de la noche, como si los picos se hubieran movido a los extremos. Esto quiere decir que los pocos viajes que se hacen a las 4 y a las 5, estos duran un monton, pero tocaria ver de donde a donde son estos viajes y normalizarlos de mas que por la distancia, o ver si se dan fenomenos de congestion locales, de igual manera a las 8 de la noche ya bajo el numero de viajes que se hacen, peeeroooooo los que se estan haciendo duran muchiiisiiiimoooooo.\n",
    "\n",
    "Se dan fenomenos muy curiosos, por ejemplo a las 6 de la mañana esta viajando un jurgo de gente, peeeroooo la duracion de los viajes no es tan grande, se va de pa abajo, incluso a las 7 de la mañana, en donde esta el maximo de viajes, la duracion de los viajes es de un poco mas de una hora. \n",
    "\n",
    "Un analisis completo de esto vendria cuando se tengan las distancias geograficas (mas o menos XD) porque estoy cerca, pero aun no se ve la congestion "
   ]
  },
  {
   "cell_type": "code",
   "execution_count": null,
   "metadata": {},
   "outputs": [],
   "source": []
  },
  {
   "cell_type": "code",
   "execution_count": null,
   "metadata": {},
   "outputs": [],
   "source": []
  },
  {
   "cell_type": "markdown",
   "metadata": {},
   "source": [
    "### Base de datos exclusiva para analisis de congestion"
   ]
  },
  {
   "cell_type": "markdown",
   "metadata": {},
   "source": [
    "Se creara un archivo csv separado el cual contenga todos los detalles con respecto a las horas y duracion de los viajes para hacer mas eficiente el conteo y medicion de fenomenos de congestion."
   ]
  },
  {
   "cell_type": "code",
   "execution_count": null,
   "metadata": {},
   "outputs": [],
   "source": [
    "great_df[great_df['hora_inicio_viaje'] == '06:00:00']"
   ]
  },
  {
   "cell_type": "code",
   "execution_count": null,
   "metadata": {},
   "outputs": [],
   "source": [
    "date_time_str = '2018-06-29 08:15:27.243860'\n",
    "date_time_obj = datetime.datetime.strptime(date_time_str, '%Y-%m-%d %H:%M:%S.%f')\n",
    "\n",
    "print('Date:', date_time_obj.date())\n",
    "print('Time:', date_time_obj.time())\n",
    "print('Date-time:', date_time_obj)"
   ]
  },
  {
   "cell_type": "code",
   "execution_count": null,
   "metadata": {},
   "outputs": [],
   "source": []
  },
  {
   "cell_type": "code",
   "execution_count": null,
   "metadata": {},
   "outputs": [],
   "source": [
    "to_time(great_df['hora_inicio_viaje'])"
   ]
  },
  {
   "cell_type": "code",
   "execution_count": 36,
   "metadata": {},
   "outputs": [],
   "source": [
    "cng_df = great_df[['id_hogar', 'p5_estrato', 'p17_Id_motivo_viaje', 'zat_origen', 'zat_destino', 'hora_inicio_viaje', 'hora_llegada', 'duracion', 'modo_principal']]"
   ]
  },
  {
   "cell_type": "code",
   "execution_count": 37,
   "metadata": {},
   "outputs": [
    {
     "name": "stderr",
     "output_type": "stream",
     "text": [
      "/opt/anaconda3/lib/python3.7/site-packages/ipykernel_launcher.py:1: SettingWithCopyWarning: \n",
      "A value is trying to be set on a copy of a slice from a DataFrame.\n",
      "Try using .loc[row_indexer,col_indexer] = value instead\n",
      "\n",
      "See the caveats in the documentation: https://pandas.pydata.org/pandas-docs/stable/user_guide/indexing.html#returning-a-view-versus-a-copy\n",
      "  \"\"\"Entry point for launching an IPython kernel.\n",
      "/opt/anaconda3/lib/python3.7/site-packages/ipykernel_launcher.py:2: SettingWithCopyWarning: \n",
      "A value is trying to be set on a copy of a slice from a DataFrame.\n",
      "Try using .loc[row_indexer,col_indexer] = value instead\n",
      "\n",
      "See the caveats in the documentation: https://pandas.pydata.org/pandas-docs/stable/user_guide/indexing.html#returning-a-view-versus-a-copy\n",
      "  \n"
     ]
    },
    {
     "data": {
      "text/html": [
       "<div>\n",
       "<style scoped>\n",
       "    .dataframe tbody tr th:only-of-type {\n",
       "        vertical-align: middle;\n",
       "    }\n",
       "\n",
       "    .dataframe tbody tr th {\n",
       "        vertical-align: top;\n",
       "    }\n",
       "\n",
       "    .dataframe thead th {\n",
       "        text-align: right;\n",
       "    }\n",
       "</style>\n",
       "<table border=\"1\" class=\"dataframe\">\n",
       "  <thead>\n",
       "    <tr style=\"text-align: right;\">\n",
       "      <th></th>\n",
       "      <th>id_hogar</th>\n",
       "      <th>p5_estrato</th>\n",
       "      <th>p17_Id_motivo_viaje</th>\n",
       "      <th>zat_origen</th>\n",
       "      <th>zat_destino</th>\n",
       "      <th>hora_inicio_viaje</th>\n",
       "      <th>hora_llegada</th>\n",
       "      <th>duracion</th>\n",
       "      <th>modo_principal</th>\n",
       "    </tr>\n",
       "  </thead>\n",
       "  <tbody>\n",
       "    <tr>\n",
       "      <th>0</th>\n",
       "      <td>17081</td>\n",
       "      <td>1</td>\n",
       "      <td>1</td>\n",
       "      <td>1141.0</td>\n",
       "      <td>225.0</td>\n",
       "      <td>18:00:00</td>\n",
       "      <td>18:10:00</td>\n",
       "      <td>10</td>\n",
       "      <td>TransMilenio</td>\n",
       "    </tr>\n",
       "    <tr>\n",
       "      <th>1</th>\n",
       "      <td>17081</td>\n",
       "      <td>1</td>\n",
       "      <td>6</td>\n",
       "      <td>225.0</td>\n",
       "      <td>1141.0</td>\n",
       "      <td>06:00:00</td>\n",
       "      <td>06:10:00</td>\n",
       "      <td>10</td>\n",
       "      <td>TransMilenio</td>\n",
       "    </tr>\n",
       "    <tr>\n",
       "      <th>2</th>\n",
       "      <td>17081</td>\n",
       "      <td>1</td>\n",
       "      <td>10</td>\n",
       "      <td>1141.0</td>\n",
       "      <td>477.0</td>\n",
       "      <td>15:30:00</td>\n",
       "      <td>16:15:00</td>\n",
       "      <td>45</td>\n",
       "      <td>A pie</td>\n",
       "    </tr>\n",
       "    <tr>\n",
       "      <th>3</th>\n",
       "      <td>17081</td>\n",
       "      <td>1</td>\n",
       "      <td>6</td>\n",
       "      <td>477.0</td>\n",
       "      <td>1141.0</td>\n",
       "      <td>06:20:00</td>\n",
       "      <td>06:25:00</td>\n",
       "      <td>5</td>\n",
       "      <td>A pie</td>\n",
       "    </tr>\n",
       "    <tr>\n",
       "      <th>4</th>\n",
       "      <td>P07096</td>\n",
       "      <td>1</td>\n",
       "      <td>7</td>\n",
       "      <td>1141.0</td>\n",
       "      <td>14.0</td>\n",
       "      <td>12:00:00</td>\n",
       "      <td>20:00:00</td>\n",
       "      <td>480</td>\n",
       "      <td>A pie</td>\n",
       "    </tr>\n",
       "    <tr>\n",
       "      <th>...</th>\n",
       "      <td>...</td>\n",
       "      <td>...</td>\n",
       "      <td>...</td>\n",
       "      <td>...</td>\n",
       "      <td>...</td>\n",
       "      <td>...</td>\n",
       "      <td>...</td>\n",
       "      <td>...</td>\n",
       "      <td>...</td>\n",
       "    </tr>\n",
       "    <tr>\n",
       "      <th>105471</th>\n",
       "      <td>P02949</td>\n",
       "      <td>1</td>\n",
       "      <td>3</td>\n",
       "      <td>765.0</td>\n",
       "      <td>765.0</td>\n",
       "      <td>06:20:00</td>\n",
       "      <td>06:50:00</td>\n",
       "      <td>30</td>\n",
       "      <td>Bicicleta</td>\n",
       "    </tr>\n",
       "    <tr>\n",
       "      <th>105472</th>\n",
       "      <td>P02949</td>\n",
       "      <td>1</td>\n",
       "      <td>6</td>\n",
       "      <td>765.0</td>\n",
       "      <td>765.0</td>\n",
       "      <td>16:00:00</td>\n",
       "      <td>17:10:00</td>\n",
       "      <td>70</td>\n",
       "      <td>A pie</td>\n",
       "    </tr>\n",
       "    <tr>\n",
       "      <th>105473</th>\n",
       "      <td>P02949</td>\n",
       "      <td>1</td>\n",
       "      <td>16</td>\n",
       "      <td>765.0</td>\n",
       "      <td>766.0</td>\n",
       "      <td>12:45:00</td>\n",
       "      <td>14:00:00</td>\n",
       "      <td>75</td>\n",
       "      <td>Transporte informal</td>\n",
       "    </tr>\n",
       "    <tr>\n",
       "      <th>105474</th>\n",
       "      <td>P02950</td>\n",
       "      <td>1</td>\n",
       "      <td>6</td>\n",
       "      <td>774.0</td>\n",
       "      <td>765.0</td>\n",
       "      <td>13:30:00</td>\n",
       "      <td>13:36:00</td>\n",
       "      <td>6</td>\n",
       "      <td>A pie</td>\n",
       "    </tr>\n",
       "    <tr>\n",
       "      <th>105475</th>\n",
       "      <td>P02950</td>\n",
       "      <td>1</td>\n",
       "      <td>10</td>\n",
       "      <td>765.0</td>\n",
       "      <td>774.0</td>\n",
       "      <td>14:00:00</td>\n",
       "      <td>15:30:00</td>\n",
       "      <td>90</td>\n",
       "      <td>A pie</td>\n",
       "    </tr>\n",
       "  </tbody>\n",
       "</table>\n",
       "<p>105476 rows × 9 columns</p>\n",
       "</div>"
      ],
      "text/plain": [
       "       id_hogar  p5_estrato  p17_Id_motivo_viaje  zat_origen  zat_destino  \\\n",
       "0         17081           1                    1      1141.0        225.0   \n",
       "1         17081           1                    6       225.0       1141.0   \n",
       "2         17081           1                   10      1141.0        477.0   \n",
       "3         17081           1                    6       477.0       1141.0   \n",
       "4        P07096           1                    7      1141.0         14.0   \n",
       "...         ...         ...                  ...         ...          ...   \n",
       "105471   P02949           1                    3       765.0        765.0   \n",
       "105472   P02949           1                    6       765.0        765.0   \n",
       "105473   P02949           1                   16       765.0        766.0   \n",
       "105474   P02950           1                    6       774.0        765.0   \n",
       "105475   P02950           1                   10       765.0        774.0   \n",
       "\n",
       "       hora_inicio_viaje hora_llegada  duracion       modo_principal  \n",
       "0               18:00:00     18:10:00        10         TransMilenio  \n",
       "1               06:00:00     06:10:00        10         TransMilenio  \n",
       "2               15:30:00     16:15:00        45                A pie  \n",
       "3               06:20:00     06:25:00         5                A pie  \n",
       "4               12:00:00     20:00:00       480                A pie  \n",
       "...                  ...          ...       ...                  ...  \n",
       "105471          06:20:00     06:50:00        30            Bicicleta  \n",
       "105472          16:00:00     17:10:00        70                A pie  \n",
       "105473          12:45:00     14:00:00        75  Transporte informal  \n",
       "105474          13:30:00     13:36:00         6                A pie  \n",
       "105475          14:00:00     15:30:00        90                A pie  \n",
       "\n",
       "[105476 rows x 9 columns]"
      ]
     },
     "execution_count": 37,
     "metadata": {},
     "output_type": "execute_result"
    }
   ],
   "source": [
    "cng_df['hora_inicio_viaje'] = to_time(cng_df['hora_inicio_viaje'])\n",
    "cng_df['hora_llegada'] = to_time(cng_df['hora_llegada'])\n",
    "cng_df"
   ]
  },
  {
   "cell_type": "code",
   "execution_count": null,
   "metadata": {},
   "outputs": [],
   "source": [
    "cng_df.to_csv('Congestion_en_Bogota.csv')"
   ]
  },
  {
   "cell_type": "markdown",
   "metadata": {},
   "source": [
    "## Algoritmo de congestion"
   ]
  },
  {
   "cell_type": "markdown",
   "metadata": {},
   "source": [
    "Aca se haran ciertos intentos para medir la congestion como tal, la primera manera de medir esta cantidad es a partir de contar cuantas personas estan transitando la red en un determinado intervalo de tiempo, como se hace en el articulo de *Echenique, P., Gómez-Gardenes, J., & Moreno, Y. (2005)* "
   ]
  },
  {
   "cell_type": "code",
   "execution_count": 35,
   "metadata": {},
   "outputs": [
    {
     "data": {
      "text/html": [
       "<div>\n",
       "<style scoped>\n",
       "    .dataframe tbody tr th:only-of-type {\n",
       "        vertical-align: middle;\n",
       "    }\n",
       "\n",
       "    .dataframe tbody tr th {\n",
       "        vertical-align: top;\n",
       "    }\n",
       "\n",
       "    .dataframe thead th {\n",
       "        text-align: right;\n",
       "    }\n",
       "</style>\n",
       "<table border=\"1\" class=\"dataframe\">\n",
       "  <thead>\n",
       "    <tr style=\"text-align: right;\">\n",
       "      <th></th>\n",
       "      <th>hora_inicio_viaje</th>\n",
       "      <th>hora_llegada</th>\n",
       "    </tr>\n",
       "  </thead>\n",
       "  <tbody>\n",
       "    <tr>\n",
       "      <th>0</th>\n",
       "      <td>18:00:00</td>\n",
       "      <td>18:10:00</td>\n",
       "    </tr>\n",
       "    <tr>\n",
       "      <th>1</th>\n",
       "      <td>06:00:00</td>\n",
       "      <td>06:10:00</td>\n",
       "    </tr>\n",
       "    <tr>\n",
       "      <th>2</th>\n",
       "      <td>15:30:00</td>\n",
       "      <td>16:15:00</td>\n",
       "    </tr>\n",
       "    <tr>\n",
       "      <th>3</th>\n",
       "      <td>06:20:00</td>\n",
       "      <td>06:25:00</td>\n",
       "    </tr>\n",
       "    <tr>\n",
       "      <th>4</th>\n",
       "      <td>12:00:00</td>\n",
       "      <td>20:00:00</td>\n",
       "    </tr>\n",
       "  </tbody>\n",
       "</table>\n",
       "</div>"
      ],
      "text/plain": [
       "  hora_inicio_viaje hora_llegada\n",
       "0          18:00:00     18:10:00\n",
       "1          06:00:00     06:10:00\n",
       "2          15:30:00     16:15:00\n",
       "3          06:20:00     06:25:00\n",
       "4          12:00:00     20:00:00"
      ]
     },
     "execution_count": 38,
     "metadata": {},
     "output_type": "execute_result"
    }
   ],
   "source": [
    "# Primer experimento de congestion\n",
    "# Aislamos las columnas pertinentes\n",
    "horas_df = cng_df[['hora_inicio_viaje', 'hora_llegada']]\n",
    "horas_df.head()"
   ]
  },
  {
   "cell_type": "code",
   "execution_count": 39,
   "metadata": {},
   "outputs": [
    {
     "data": {
      "text/plain": [
       "6038"
      ]
     },
     "execution_count": 39,
     "metadata": {},
     "output_type": "execute_result"
    }
   ],
   "source": [
    "suma = 0\n",
    "hora1 = datetime.time(11, 30)\n",
    "hora2 = datetime.time(12, 30)\n",
    "for i in range(len(horas_df)):\n",
    "    #a = horas_df.iloc[i][0]\n",
    "    b = horas_df.iloc[i][1]\n",
    "    if b > hora1 and b < hora2:\n",
    "        suma += 1\n",
    "suma"
   ]
  },
  {
   "cell_type": "code",
   "execution_count": 40,
   "metadata": {},
   "outputs": [
    {
     "data": {
      "text/plain": [
       "4588"
      ]
     },
     "execution_count": 40,
     "metadata": {},
     "output_type": "execute_result"
    }
   ],
   "source": [
    "hora3 = datetime.time(7, 0)\n",
    "suma1 = 0\n",
    "for i in range(len(horas_df)):\n",
    "    a = horas_df.iloc[i][0]\n",
    "    b = horas_df.iloc[i][1]\n",
    "    if a < hora3 and b > hora3:\n",
    "        suma1 += 1\n",
    "suma1"
   ]
  },
  {
   "cell_type": "code",
   "execution_count": 42,
   "metadata": {},
   "outputs": [
    {
     "data": {
      "text/plain": [
       "4588"
      ]
     },
     "execution_count": 42,
     "metadata": {},
     "output_type": "execute_result"
    }
   ],
   "source": [
    "len(horas_df[(horas_df['hora_inicio_viaje'] < hora3) & (horas_df['hora_llegada'] > hora3)])"
   ]
  },
  {
   "cell_type": "code",
   "execution_count": null,
   "metadata": {},
   "outputs": [],
   "source": [
    "# Cantidad de viajes hechos en una hora determinada\n",
    "num_viajes = []\n",
    "horas = []\n",
    "for i in range(0,24):\n",
    "    hora = datetime.time(i,0)\n",
    "    horas.append(hora)\n",
    "    suma = 0\n",
    "    for j in range (len(horas_df)):\n",
    "        a = horas_df.iloc[j][0]\n",
    "        b = horas_df.iloc[j][1]\n",
    "        if a < hora and b > hora:\n",
    "            suma += 1\n",
    "    num_viajes.append(suma)"
   ]
  },
  {
   "cell_type": "code",
   "execution_count": null,
   "metadata": {},
   "outputs": [],
   "source": [
    "horas = np.asarray([x for x in range(24)])\n",
    "num_viajes = np.asarray(num_viajes)\n",
    "plt.figure(figsize = (11,7))\n",
    "plt.plot(horas, num_viajes, marker = 'o', linestyle = '-')\n",
    "plt.xlabel('Hora', fontsize = 14)\n",
    "plt.ylabel('Numero de viajes', fontsize = 14)\n",
    "plt.plot\n",
    "plt.savefig('No_de_viajes_por-hora.pdf')"
   ]
  },
  {
   "cell_type": "code",
   "execution_count": null,
   "metadata": {},
   "outputs": [],
   "source": [
    "cantidad_viajes = open(\"cantida_viajes.txt\", \"w\")\n",
    "np.savetxt(cantidad_viajes, num_viajes)\n",
    "cantidad_viajes.close()"
   ]
  },
  {
   "cell_type": "code",
   "execution_count": null,
   "metadata": {},
   "outputs": [],
   "source": [
    "a_file = open(\"test.txt\", \"w\")\n",
    "for row in an_array:\n",
    "    np.savetxt(a_file, row)\n",
    "\n",
    "a_file.close()"
   ]
  },
  {
   "cell_type": "markdown",
   "metadata": {},
   "source": [
    "### Proximamente"
   ]
  },
  {
   "cell_type": "markdown",
   "metadata": {},
   "source": [
    "Reviasar la distribucion de la duracion de los viajes ya que esas estructuras separadas son muy raras, tal vez algo que pueda ayudar es matar esos viajes todos peyes de 12 horas de duracion como esta comentado en dicha seccion.\n",
    "\n",
    "Tambien se puede hacer un analisis mas profundo de la duracion y ver si esta se puede relacionar tambien de alguna forma con la congestion (seguramente si pero tocaria hacerlo con bastante cuidado)\n",
    "\n",
    "Ya se logro contar la cantidad de viajes que se estan haciendo en un determinado intervalo de tiempo :3.\n",
    "\n",
    "Ya lo que toca ir pensando es como se va a calcular el parametro de orden $\\rho$\n",
    "\n",
    "Ver como es el numero de viajes y la duracion de estos en funcion del modo de transporte y y el estrato, y estos datos toca normalizarlos sobre el numero de personas de cada estrato o del modo de tranporte, porque aja, el estrato dos y tres tendrian severos numeros y eso llevaria a las conclusiones incorrectas.\n",
    "\n",
    "Analisar la duracion promedio de los viajes en funcion de la hora del dia y pues todos los parametros que se pueden estudiar."
   ]
  },
  {
   "cell_type": "code",
   "execution_count": null,
   "metadata": {},
   "outputs": [],
   "source": []
  }
 ],
 "metadata": {
  "kernelspec": {
   "display_name": "Python 3",
   "language": "python",
   "name": "python3"
  },
  "language_info": {
   "codemirror_mode": {
    "name": "ipython",
    "version": 3
   },
   "file_extension": ".py",
   "mimetype": "text/x-python",
   "name": "python",
   "nbconvert_exporter": "python",
   "pygments_lexer": "ipython3",
   "version": "3.7.6"
  }
 },
 "nbformat": 4,
 "nbformat_minor": 4
}
