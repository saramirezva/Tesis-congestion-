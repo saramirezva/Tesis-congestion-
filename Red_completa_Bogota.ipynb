{
 "cells": [
  {
   "cell_type": "markdown",
   "metadata": {},
   "source": [
    "# Red completa de Bogotá"
   ]
  },
  {
   "cell_type": "markdown",
   "metadata": {},
   "source": [
    "Ya habiendo creado el archivo csv base para la realizacion de este trabajo, el siguiente paso es volver a crear las redes que ya habian sido creadas, pero en este caso, solo para los municipios de Bogotá y Soacha (Suachintown), hacer el respectivo estudio de la distribucuin de grado en la red no dirigida, el in_degree y out_degree de la red dirigida sin pesar, y la fuerza de cada nodo para el caso de la red pesada, con el numero de viajes en cada sentido (recordar que es el numero de viajes y no de personas como tal), se haran los respectivos ajustes a curvas exponenciales (dados los resultados del primer estudio) y se hara el estudio de clusterización y de ser necesario de cliques. En resumen, los estudios preeliminares de redes complejas. Se haran redes dependieno particularmente del estrato, medio de transporte y otros parametros que lo requieran y me diga Hurtado. "
   ]
  },
  {
   "cell_type": "code",
   "execution_count": 1,
   "metadata": {},
   "outputs": [],
   "source": [
    "# Importacion de las librerias necesarias \n",
    "import pandas as pd\n",
    "import numpy as np\n",
    "import networkx as nx \n",
    "import matplotlib.pyplot as plt\n",
    "import operator\n",
    "import itertools\n",
    "from scipy.optimize import curve_fit"
   ]
  },
  {
   "cell_type": "markdown",
   "metadata": {},
   "source": [
    "Se importa el archivo *Viajes_en_Bogota.csv* "
   ]
  },
  {
   "cell_type": "code",
   "execution_count": 2,
   "metadata": {},
   "outputs": [
    {
     "data": {
      "text/html": [
       "<div>\n",
       "<style scoped>\n",
       "    .dataframe tbody tr th:only-of-type {\n",
       "        vertical-align: middle;\n",
       "    }\n",
       "\n",
       "    .dataframe tbody tr th {\n",
       "        vertical-align: top;\n",
       "    }\n",
       "\n",
       "    .dataframe thead th {\n",
       "        text-align: right;\n",
       "    }\n",
       "</style>\n",
       "<table border=\"1\" class=\"dataframe\">\n",
       "  <thead>\n",
       "    <tr style=\"text-align: right;\">\n",
       "      <th></th>\n",
       "      <th>Unnamed: 0</th>\n",
       "      <th>id_hogar</th>\n",
       "      <th>Estado</th>\n",
       "      <th>Utam</th>\n",
       "      <th>Sector</th>\n",
       "      <th>Seccion</th>\n",
       "      <th>Manzana</th>\n",
       "      <th>p5_fecha</th>\n",
       "      <th>p7_Barrio_vivienda</th>\n",
       "      <th>Latitud</th>\n",
       "      <th>...</th>\n",
       "      <th>p7_id_actividad_economica</th>\n",
       "      <th>p7v_lugar_inicio_dia</th>\n",
       "      <th>p8v_barrio_vereda</th>\n",
       "      <th>p9v_id_municipio</th>\n",
       "      <th>p9v_municipio</th>\n",
       "      <th>p10v_hora_salida</th>\n",
       "      <th>p11v_condujo_vehiculo</th>\n",
       "      <th>p13v_condujo_bicicleta</th>\n",
       "      <th>p15v_subsidio_SITP</th>\n",
       "      <th>Sexo</th>\n",
       "    </tr>\n",
       "  </thead>\n",
       "  <tbody>\n",
       "    <tr>\n",
       "      <th>0</th>\n",
       "      <td>7089</td>\n",
       "      <td>17081</td>\n",
       "      <td>2</td>\n",
       "      <td>UTAM9</td>\n",
       "      <td>8534</td>\n",
       "      <td>3</td>\n",
       "      <td>14</td>\n",
       "      <td>2019-05-21</td>\n",
       "      <td>MIRADOR</td>\n",
       "      <td>4.761663</td>\n",
       "      <td>...</td>\n",
       "      <td>6.0</td>\n",
       "      <td>1.0</td>\n",
       "      <td>NaN</td>\n",
       "      <td>NaN</td>\n",
       "      <td>NaN</td>\n",
       "      <td>05:20:00</td>\n",
       "      <td>2.0</td>\n",
       "      <td>2.0</td>\n",
       "      <td>4.0</td>\n",
       "      <td>Hombre</td>\n",
       "    </tr>\n",
       "    <tr>\n",
       "      <th>1</th>\n",
       "      <td>7090</td>\n",
       "      <td>17081</td>\n",
       "      <td>2</td>\n",
       "      <td>UTAM9</td>\n",
       "      <td>8534</td>\n",
       "      <td>3</td>\n",
       "      <td>14</td>\n",
       "      <td>2019-05-21</td>\n",
       "      <td>MIRADOR</td>\n",
       "      <td>4.761663</td>\n",
       "      <td>...</td>\n",
       "      <td>6.0</td>\n",
       "      <td>1.0</td>\n",
       "      <td>NaN</td>\n",
       "      <td>NaN</td>\n",
       "      <td>NaN</td>\n",
       "      <td>05:20:00</td>\n",
       "      <td>2.0</td>\n",
       "      <td>2.0</td>\n",
       "      <td>4.0</td>\n",
       "      <td>Hombre</td>\n",
       "    </tr>\n",
       "    <tr>\n",
       "      <th>2</th>\n",
       "      <td>7091</td>\n",
       "      <td>17081</td>\n",
       "      <td>2</td>\n",
       "      <td>UTAM9</td>\n",
       "      <td>8534</td>\n",
       "      <td>3</td>\n",
       "      <td>14</td>\n",
       "      <td>2019-05-21</td>\n",
       "      <td>MIRADOR</td>\n",
       "      <td>4.761663</td>\n",
       "      <td>...</td>\n",
       "      <td>NaN</td>\n",
       "      <td>1.0</td>\n",
       "      <td>NaN</td>\n",
       "      <td>NaN</td>\n",
       "      <td>NaN</td>\n",
       "      <td>14:00:00</td>\n",
       "      <td>2.0</td>\n",
       "      <td>2.0</td>\n",
       "      <td>4.0</td>\n",
       "      <td>Mujer</td>\n",
       "    </tr>\n",
       "    <tr>\n",
       "      <th>3</th>\n",
       "      <td>7092</td>\n",
       "      <td>17081</td>\n",
       "      <td>2</td>\n",
       "      <td>UTAM9</td>\n",
       "      <td>8534</td>\n",
       "      <td>3</td>\n",
       "      <td>14</td>\n",
       "      <td>2019-05-21</td>\n",
       "      <td>MIRADOR</td>\n",
       "      <td>4.761663</td>\n",
       "      <td>...</td>\n",
       "      <td>NaN</td>\n",
       "      <td>1.0</td>\n",
       "      <td>NaN</td>\n",
       "      <td>NaN</td>\n",
       "      <td>NaN</td>\n",
       "      <td>14:00:00</td>\n",
       "      <td>2.0</td>\n",
       "      <td>2.0</td>\n",
       "      <td>4.0</td>\n",
       "      <td>Mujer</td>\n",
       "    </tr>\n",
       "    <tr>\n",
       "      <th>4</th>\n",
       "      <td>7096</td>\n",
       "      <td>P07096</td>\n",
       "      <td>1</td>\n",
       "      <td>UTAM9</td>\n",
       "      <td>8534</td>\n",
       "      <td>3</td>\n",
       "      <td>14</td>\n",
       "      <td>2019-05-21</td>\n",
       "      <td>MIRADOR DEL NORTE</td>\n",
       "      <td>4.761913</td>\n",
       "      <td>...</td>\n",
       "      <td>NaN</td>\n",
       "      <td>1.0</td>\n",
       "      <td>NaN</td>\n",
       "      <td>NaN</td>\n",
       "      <td>NaN</td>\n",
       "      <td>06:30:00</td>\n",
       "      <td>2.0</td>\n",
       "      <td>2.0</td>\n",
       "      <td>4.0</td>\n",
       "      <td>Mujer</td>\n",
       "    </tr>\n",
       "    <tr>\n",
       "      <th>...</th>\n",
       "      <td>...</td>\n",
       "      <td>...</td>\n",
       "      <td>...</td>\n",
       "      <td>...</td>\n",
       "      <td>...</td>\n",
       "      <td>...</td>\n",
       "      <td>...</td>\n",
       "      <td>...</td>\n",
       "      <td>...</td>\n",
       "      <td>...</td>\n",
       "      <td>...</td>\n",
       "      <td>...</td>\n",
       "      <td>...</td>\n",
       "      <td>...</td>\n",
       "      <td>...</td>\n",
       "      <td>...</td>\n",
       "      <td>...</td>\n",
       "      <td>...</td>\n",
       "      <td>...</td>\n",
       "      <td>...</td>\n",
       "      <td>...</td>\n",
       "    </tr>\n",
       "    <tr>\n",
       "      <th>105471</th>\n",
       "      <td>40322</td>\n",
       "      <td>P02949</td>\n",
       "      <td>1</td>\n",
       "      <td>UTAM570</td>\n",
       "      <td>20</td>\n",
       "      <td>5</td>\n",
       "      <td>8</td>\n",
       "      <td>2019-04-11</td>\n",
       "      <td>LA MARIA SOACHA</td>\n",
       "      <td>4.597883</td>\n",
       "      <td>...</td>\n",
       "      <td>NaN</td>\n",
       "      <td>1.0</td>\n",
       "      <td>NaN</td>\n",
       "      <td>NaN</td>\n",
       "      <td>NaN</td>\n",
       "      <td>06:05:00</td>\n",
       "      <td>2.0</td>\n",
       "      <td>2.0</td>\n",
       "      <td>4.0</td>\n",
       "      <td>Mujer</td>\n",
       "    </tr>\n",
       "    <tr>\n",
       "      <th>105472</th>\n",
       "      <td>40323</td>\n",
       "      <td>P02949</td>\n",
       "      <td>1</td>\n",
       "      <td>UTAM570</td>\n",
       "      <td>20</td>\n",
       "      <td>5</td>\n",
       "      <td>8</td>\n",
       "      <td>2019-04-11</td>\n",
       "      <td>LA MARIA SOACHA</td>\n",
       "      <td>4.597883</td>\n",
       "      <td>...</td>\n",
       "      <td>NaN</td>\n",
       "      <td>1.0</td>\n",
       "      <td>NaN</td>\n",
       "      <td>NaN</td>\n",
       "      <td>NaN</td>\n",
       "      <td>06:05:00</td>\n",
       "      <td>2.0</td>\n",
       "      <td>2.0</td>\n",
       "      <td>4.0</td>\n",
       "      <td>Mujer</td>\n",
       "    </tr>\n",
       "    <tr>\n",
       "      <th>105473</th>\n",
       "      <td>40324</td>\n",
       "      <td>P02949</td>\n",
       "      <td>1</td>\n",
       "      <td>UTAM570</td>\n",
       "      <td>20</td>\n",
       "      <td>5</td>\n",
       "      <td>8</td>\n",
       "      <td>2019-04-11</td>\n",
       "      <td>LA MARIA SOACHA</td>\n",
       "      <td>4.597883</td>\n",
       "      <td>...</td>\n",
       "      <td>NaN</td>\n",
       "      <td>1.0</td>\n",
       "      <td>NaN</td>\n",
       "      <td>NaN</td>\n",
       "      <td>NaN</td>\n",
       "      <td>06:05:00</td>\n",
       "      <td>2.0</td>\n",
       "      <td>2.0</td>\n",
       "      <td>4.0</td>\n",
       "      <td>Mujer</td>\n",
       "    </tr>\n",
       "    <tr>\n",
       "      <th>105474</th>\n",
       "      <td>40333</td>\n",
       "      <td>P02950</td>\n",
       "      <td>1</td>\n",
       "      <td>UTAM570</td>\n",
       "      <td>20</td>\n",
       "      <td>5</td>\n",
       "      <td>8</td>\n",
       "      <td>2019-04-11</td>\n",
       "      <td>LA MARIA SOACHA</td>\n",
       "      <td>4.597883</td>\n",
       "      <td>...</td>\n",
       "      <td>19.0</td>\n",
       "      <td>1.0</td>\n",
       "      <td>NaN</td>\n",
       "      <td>NaN</td>\n",
       "      <td>NaN</td>\n",
       "      <td>08:00:00</td>\n",
       "      <td>2.0</td>\n",
       "      <td>9.0</td>\n",
       "      <td>4.0</td>\n",
       "      <td>Mujer</td>\n",
       "    </tr>\n",
       "    <tr>\n",
       "      <th>105475</th>\n",
       "      <td>40335</td>\n",
       "      <td>P02950</td>\n",
       "      <td>1</td>\n",
       "      <td>UTAM570</td>\n",
       "      <td>20</td>\n",
       "      <td>5</td>\n",
       "      <td>8</td>\n",
       "      <td>2019-04-11</td>\n",
       "      <td>LA MARIA SOACHA</td>\n",
       "      <td>4.597883</td>\n",
       "      <td>...</td>\n",
       "      <td>19.0</td>\n",
       "      <td>1.0</td>\n",
       "      <td>NaN</td>\n",
       "      <td>NaN</td>\n",
       "      <td>NaN</td>\n",
       "      <td>08:00:00</td>\n",
       "      <td>2.0</td>\n",
       "      <td>9.0</td>\n",
       "      <td>4.0</td>\n",
       "      <td>Mujer</td>\n",
       "    </tr>\n",
       "  </tbody>\n",
       "</table>\n",
       "<p>105476 rows × 69 columns</p>\n",
       "</div>"
      ],
      "text/plain": [
       "        Unnamed: 0 id_hogar  Estado     Utam  Sector  Seccion  Manzana  \\\n",
       "0             7089    17081       2    UTAM9    8534        3       14   \n",
       "1             7090    17081       2    UTAM9    8534        3       14   \n",
       "2             7091    17081       2    UTAM9    8534        3       14   \n",
       "3             7092    17081       2    UTAM9    8534        3       14   \n",
       "4             7096   P07096       1    UTAM9    8534        3       14   \n",
       "...            ...      ...     ...      ...     ...      ...      ...   \n",
       "105471       40322   P02949       1  UTAM570      20        5        8   \n",
       "105472       40323   P02949       1  UTAM570      20        5        8   \n",
       "105473       40324   P02949       1  UTAM570      20        5        8   \n",
       "105474       40333   P02950       1  UTAM570      20        5        8   \n",
       "105475       40335   P02950       1  UTAM570      20        5        8   \n",
       "\n",
       "          p5_fecha p7_Barrio_vivienda   Latitud  ...  \\\n",
       "0       2019-05-21            MIRADOR  4.761663  ...   \n",
       "1       2019-05-21            MIRADOR  4.761663  ...   \n",
       "2       2019-05-21            MIRADOR  4.761663  ...   \n",
       "3       2019-05-21            MIRADOR  4.761663  ...   \n",
       "4       2019-05-21  MIRADOR DEL NORTE  4.761913  ...   \n",
       "...            ...                ...       ...  ...   \n",
       "105471  2019-04-11    LA MARIA SOACHA  4.597883  ...   \n",
       "105472  2019-04-11    LA MARIA SOACHA  4.597883  ...   \n",
       "105473  2019-04-11    LA MARIA SOACHA  4.597883  ...   \n",
       "105474  2019-04-11    LA MARIA SOACHA  4.597883  ...   \n",
       "105475  2019-04-11    LA MARIA SOACHA  4.597883  ...   \n",
       "\n",
       "        p7_id_actividad_economica  p7v_lugar_inicio_dia  p8v_barrio_vereda  \\\n",
       "0                             6.0                   1.0                NaN   \n",
       "1                             6.0                   1.0                NaN   \n",
       "2                             NaN                   1.0                NaN   \n",
       "3                             NaN                   1.0                NaN   \n",
       "4                             NaN                   1.0                NaN   \n",
       "...                           ...                   ...                ...   \n",
       "105471                        NaN                   1.0                NaN   \n",
       "105472                        NaN                   1.0                NaN   \n",
       "105473                        NaN                   1.0                NaN   \n",
       "105474                       19.0                   1.0                NaN   \n",
       "105475                       19.0                   1.0                NaN   \n",
       "\n",
       "        p9v_id_municipio  p9v_municipio  p10v_hora_salida  \\\n",
       "0                    NaN            NaN          05:20:00   \n",
       "1                    NaN            NaN          05:20:00   \n",
       "2                    NaN            NaN          14:00:00   \n",
       "3                    NaN            NaN          14:00:00   \n",
       "4                    NaN            NaN          06:30:00   \n",
       "...                  ...            ...               ...   \n",
       "105471               NaN            NaN          06:05:00   \n",
       "105472               NaN            NaN          06:05:00   \n",
       "105473               NaN            NaN          06:05:00   \n",
       "105474               NaN            NaN          08:00:00   \n",
       "105475               NaN            NaN          08:00:00   \n",
       "\n",
       "        p11v_condujo_vehiculo  p13v_condujo_bicicleta  p15v_subsidio_SITP  \\\n",
       "0                         2.0                     2.0                 4.0   \n",
       "1                         2.0                     2.0                 4.0   \n",
       "2                         2.0                     2.0                 4.0   \n",
       "3                         2.0                     2.0                 4.0   \n",
       "4                         2.0                     2.0                 4.0   \n",
       "...                       ...                     ...                 ...   \n",
       "105471                    2.0                     2.0                 4.0   \n",
       "105472                    2.0                     2.0                 4.0   \n",
       "105473                    2.0                     2.0                 4.0   \n",
       "105474                    2.0                     9.0                 4.0   \n",
       "105475                    2.0                     9.0                 4.0   \n",
       "\n",
       "          Sexo  \n",
       "0       Hombre  \n",
       "1       Hombre  \n",
       "2        Mujer  \n",
       "3        Mujer  \n",
       "4        Mujer  \n",
       "...        ...  \n",
       "105471   Mujer  \n",
       "105472   Mujer  \n",
       "105473   Mujer  \n",
       "105474   Mujer  \n",
       "105475   Mujer  \n",
       "\n",
       "[105476 rows x 69 columns]"
      ]
     },
     "execution_count": 2,
     "metadata": {},
     "output_type": "execute_result"
    }
   ],
   "source": [
    "great_df = pd.read_csv('Viajes_en_Bogota.csv')\n",
    "great_df"
   ]
  },
  {
   "cell_type": "markdown",
   "metadata": {},
   "source": [
    "Se separan las columnas zat_origen y zat_destino para poder hacer la red de movilidad "
   ]
  },
  {
   "cell_type": "code",
   "execution_count": 3,
   "metadata": {},
   "outputs": [
    {
     "data": {
      "text/html": [
       "<div>\n",
       "<style scoped>\n",
       "    .dataframe tbody tr th:only-of-type {\n",
       "        vertical-align: middle;\n",
       "    }\n",
       "\n",
       "    .dataframe tbody tr th {\n",
       "        vertical-align: top;\n",
       "    }\n",
       "\n",
       "    .dataframe thead th {\n",
       "        text-align: right;\n",
       "    }\n",
       "</style>\n",
       "<table border=\"1\" class=\"dataframe\">\n",
       "  <thead>\n",
       "    <tr style=\"text-align: right;\">\n",
       "      <th></th>\n",
       "      <th>zat_origen</th>\n",
       "      <th>zat_destino</th>\n",
       "      <th>viajes</th>\n",
       "    </tr>\n",
       "  </thead>\n",
       "  <tbody>\n",
       "    <tr>\n",
       "      <th>0</th>\n",
       "      <td>0.0</td>\n",
       "      <td>0.0</td>\n",
       "      <td>1</td>\n",
       "    </tr>\n",
       "    <tr>\n",
       "      <th>1</th>\n",
       "      <td>0.0</td>\n",
       "      <td>60.0</td>\n",
       "      <td>1</td>\n",
       "    </tr>\n",
       "    <tr>\n",
       "      <th>2</th>\n",
       "      <td>0.0</td>\n",
       "      <td>66.0</td>\n",
       "      <td>1</td>\n",
       "    </tr>\n",
       "    <tr>\n",
       "      <th>3</th>\n",
       "      <td>0.0</td>\n",
       "      <td>85.0</td>\n",
       "      <td>1</td>\n",
       "    </tr>\n",
       "    <tr>\n",
       "      <th>4</th>\n",
       "      <td>0.0</td>\n",
       "      <td>93.0</td>\n",
       "      <td>1</td>\n",
       "    </tr>\n",
       "    <tr>\n",
       "      <th>...</th>\n",
       "      <td>...</td>\n",
       "      <td>...</td>\n",
       "      <td>...</td>\n",
       "    </tr>\n",
       "    <tr>\n",
       "      <th>105471</th>\n",
       "      <td>1141.0</td>\n",
       "      <td>225.0</td>\n",
       "      <td>1</td>\n",
       "    </tr>\n",
       "    <tr>\n",
       "      <th>105472</th>\n",
       "      <td>1141.0</td>\n",
       "      <td>247.0</td>\n",
       "      <td>1</td>\n",
       "    </tr>\n",
       "    <tr>\n",
       "      <th>105473</th>\n",
       "      <td>1141.0</td>\n",
       "      <td>252.0</td>\n",
       "      <td>1</td>\n",
       "    </tr>\n",
       "    <tr>\n",
       "      <th>105474</th>\n",
       "      <td>1141.0</td>\n",
       "      <td>477.0</td>\n",
       "      <td>1</td>\n",
       "    </tr>\n",
       "    <tr>\n",
       "      <th>105475</th>\n",
       "      <td>1908.0</td>\n",
       "      <td>933.0</td>\n",
       "      <td>1</td>\n",
       "    </tr>\n",
       "  </tbody>\n",
       "</table>\n",
       "<p>105476 rows × 3 columns</p>\n",
       "</div>"
      ],
      "text/plain": [
       "        zat_origen  zat_destino  viajes\n",
       "0              0.0          0.0       1\n",
       "1              0.0         60.0       1\n",
       "2              0.0         66.0       1\n",
       "3              0.0         85.0       1\n",
       "4              0.0         93.0       1\n",
       "...            ...          ...     ...\n",
       "105471      1141.0        225.0       1\n",
       "105472      1141.0        247.0       1\n",
       "105473      1141.0        252.0       1\n",
       "105474      1141.0        477.0       1\n",
       "105475      1908.0        933.0       1\n",
       "\n",
       "[105476 rows x 3 columns]"
      ]
     },
     "execution_count": 3,
     "metadata": {},
     "output_type": "execute_result"
    }
   ],
   "source": [
    "df_red_adj = (great_df[['zat_origen','zat_destino']]\n",
    "                    .sort_values(by = ['zat_origen','zat_destino'])\n",
    "                    .dropna()\n",
    "                    .reset_index())\n",
    "df_red_adj['viajes'] = 1\n",
    "df_red_adj = df_red_adj.drop(columns  = ['index'])\n",
    "df_red_adj"
   ]
  },
  {
   "cell_type": "markdown",
   "metadata": {},
   "source": [
    "Hay un error a la hora de transformar las matrices de adyasencia en redes a partir de NetworkX, no existen las columnas 1061 y 959, lo sual quiere decir que nadie va hacia 1061 y 959, pero de la misma manera, no existen las filas 308 y 478, es decir, nadie sale de 308 y 478,por lo cual toca crear dichas filas y columnas para que la matriz se mantenga simetrica, pero para mantener la dirección, estas filas y columnas se llenaran de ceros. \n",
    "\n",
    "En el primer notebook la zona 959 presentaba problemas pero no la 1061, seguramente sea que alguien de otro municipio fuera de bogota llegaba a dicha zona, pero por el filtrado ya esa coneccion no existe."
   ]
  },
  {
   "cell_type": "code",
   "execution_count": 4,
   "metadata": {},
   "outputs": [],
   "source": [
    "# Creacion de la matriz de adyacencia pesada \n",
    "matrix_w = (df_red_adj.groupby(['zat_origen', 'zat_destino'], as_index = False)['viajes']\n",
    "                     .agg('sum')\n",
    "                     .pivot_table(values = ('viajes'), index = 'zat_origen', columns = 'zat_destino')\n",
    "                     .fillna(0))\n",
    "matrix_w[959] = 0\n",
    "matrix_w[1061] = 0\n",
    "matrix_w.loc[308] = 0\n",
    "matrix_w.loc[478] = 0"
   ]
  },
  {
   "cell_type": "code",
   "execution_count": 5,
   "metadata": {},
   "outputs": [],
   "source": [
    "# Creacion de la matriz de adyacencia sin pesar\n",
    "matrix_unw = (df_red_adj.drop_duplicates()\n",
    "                     .pivot_table(values = ('viajes'), index = 'zat_origen', columns = 'zat_destino')\n",
    "                     .fillna(0))\n",
    "matrix_unw[959] = 0\n",
    "matrix_unw[1061] = 0\n",
    "matrix_unw.loc[308] = 0\n",
    "matrix_unw.loc[478] = 0"
   ]
  },
  {
   "cell_type": "code",
   "execution_count": 6,
   "metadata": {},
   "outputs": [
    {
     "data": {
      "text/plain": [
       "array([11001., 25754.])"
      ]
     },
     "execution_count": 6,
     "metadata": {},
     "output_type": "execute_result"
    }
   ],
   "source": [
    "np.unique(great_df['mun_destino'].values)"
   ]
  },
  {
   "cell_type": "markdown",
   "metadata": {},
   "source": [
    "Ya con las matrices de adyacencia corregidas de manera satisfactoria, manteniendo la matriz cuadrada (como debe ser), ya se proceden a crear las redes pertinentes para empezar el analisis del problema, las cuales son, red simple sin pesar, red dirigida sin pesar, red pesada no dirigida y red pesada dirigida."
   ]
  },
  {
   "cell_type": "code",
   "execution_count": 7,
   "metadata": {},
   "outputs": [],
   "source": [
    "# Creacion de los grafos\n",
    "und_unw_graph = nx.from_pandas_adjacency(matrix_unw)\n",
    "d_unw_graph = nx.from_pandas_adjacency(matrix_unw, create_using = nx.DiGraph)\n",
    "und_w_graph = nx.from_pandas_adjacency(matrix_w)\n",
    "d_w_graph = nx.from_pandas_adjacency(matrix_w, create_using = nx.DiGraph)"
   ]
  },
  {
   "cell_type": "markdown",
   "metadata": {},
   "source": [
    "## Una pequeña muestra del grafo de movilidad del conjunto Bogota Soacha no dirigido sin pesar\n"
   ]
  },
  {
   "cell_type": "code",
   "execution_count": 47,
   "metadata": {},
   "outputs": [
    {
     "data": {
      "image/png": "[encoded data removed]",
      "text/plain": [
       "<Figure size 432x288 with 1 Axes>"
      ]
     },
     "metadata": {},
     "output_type": "display_data"
    }
   ],
   "source": [
    "nx.draw(und_unw_graph)"
   ]
  },
  {
   "cell_type": "code",
   "execution_count": 13,
   "metadata": {},
   "outputs": [],
   "source": [
    "# Se define la funcion de distribucion del grado\n",
    "def degree_dist(G):\n",
    "    degree = dict(G.degree())\n",
    "    values_x = sorted(set(degree.values()))\n",
    "    dist_y = [list(degree.values()).count(x) for x in values_x]\n",
    "    return values_x, dist_y\n",
    "\n",
    "def in_out_degree(G):\n",
    "    in_degree = dict(G.in_degree())\n",
    "    out_degree = dict(G.out_degree())\n",
    "    in_x = sorted(set(in_degree.values()))\n",
    "    out_x = sorted(set(out_degree.values()))\n",
    "    in_y = [list(in_degree.values()).count(x) for x in in_x]\n",
    "    out_y = [list(out_degree.values()).count(x) for x in out_x]\n",
    "    return in_x, in_y, out_x, out_y\n",
    "\n",
    "def mean_degree(G):\n",
    "    degree = dict(G.degree())\n",
    "    array = []\n",
    "    for i in degree.values():\n",
    "        array.append(i)\n",
    "    array = np.asarray(array)\n",
    "    return np.sum(array)/len(array)"
   ]
  },
  {
   "cell_type": "code",
   "execution_count": 78,
   "metadata": {},
   "outputs": [],
   "source": [
    "# Se define una funcion exponencial para poder ajustar las curvas\n",
    "def expo(x1, a, b):\n",
    "    return a*np.exp(-b*x1)\n",
    "\n",
    "# Se definde la ley de potencias \n",
    "def pow_law(x, a, b):\n",
    "    return a*pow(x, -b)\n",
    "\n",
    "# Funcion para el R^2\n",
    "def r_squared(xdata, ydata, popt):\n",
    "    residuals = ydata - expo(xdata, popt[0], popt[1])\n",
    "    ss_res = np.sum(residuals**2.0)\n",
    "    ss_tot = np.sum((ydata-np.mean(ydata))**2.0)\n",
    "    r = 1 - (ss_res / ss_tot)\n",
    "    return r\n",
    "\n",
    "# Se define la funcion que cuenta cada elemento en un areglo\n",
    "def count(array):\n",
    "    y_dist = np.asarray([list(array).count(x) for x in np.unique(array)])\n",
    "    x_dist = np.asarray([x for x in np.unique(array)])\n",
    "    return x_dist, y_dist"
   ]
  },
  {
   "cell_type": "markdown",
   "metadata": {},
   "source": [
    "### Grado y analisis de la red\n",
    "En esta sección se analisan las principales cantidades del grafo simple, y tambien la distribución del grado, la cual es aporximadamente exponencial (a ojo)."
   ]
  },
  {
   "cell_type": "code",
   "execution_count": 33,
   "metadata": {},
   "outputs": [
    {
     "name": "stderr",
     "output_type": "stream",
     "text": [
      "/opt/anaconda3/lib/python3.7/site-packages/ipykernel_launcher.py:3: RuntimeWarning: overflow encountered in exp\n",
      "  This is separate from the ipykernel package so we can avoid doing imports until\n"
     ]
    }
   ],
   "source": [
    "x, y = degree_dist(und_unw_graph)\n",
    "x = np.asarray(x)\n",
    "y = np.asarray(y)\n",
    "popt1, pcov1 = curve_fit(expo, xdata = x, ydata = y)\n",
    "xspace = np.linspace(0,400, num = 400)"
   ]
  },
  {
   "cell_type": "code",
   "execution_count": 34,
   "metadata": {},
   "outputs": [
    {
     "data": {
      "image/png": "[encoded data removed]",
      "text/plain": [
       "<Figure size 720x504 with 1 Axes>"
      ]
     },
     "metadata": {
      "needs_background": "light"
     },
     "output_type": "display_data"
    }
   ],
   "source": [
    "plt.figure(figsize = (10,7))\n",
    "plt.plot(x, y, 'o')\n",
    "plt.plot(expo(xspace,popt1[0], popt1[1]), color = 'indigo', label = 'Ajuste exponencial')\n",
    "plt.vlines(mean_degree(und_unw_graph), 0, 16, color = 'r',label = 'Grado medio')\n",
    "plt.xlabel('Grado', fontsize=16)\n",
    "plt.ylabel('Frecuencia', fontsize=16)\n",
    "plt.legend()\n",
    "plt.grid()\n",
    "plt.show()"
   ]
  },
  {
   "cell_type": "code",
   "execution_count": 11,
   "metadata": {},
   "outputs": [],
   "source": [
    "y_array = np.asarray(y)/sum(y)\n",
    "popt2, pcov2 = curve_fit(expo, xdata = x, ydata = y_array)"
   ]
  },
  {
   "cell_type": "code",
   "execution_count": 12,
   "metadata": {},
   "outputs": [
    {
     "data": {
      "image/png": "[encoded data removed]",
      "text/plain": [
       "<Figure size 720x504 with 1 Axes>"
      ]
     },
     "metadata": {
      "needs_background": "light"
     },
     "output_type": "display_data"
    }
   ],
   "source": [
    "plt.figure(figsize = (10,7))\n",
    "plt.plot(x, y_array, 'o')\n",
    "plt.plot(expo(xspace,popt2[0], popt2[1]), color = 'gold', label = 'Ajuste exponencial')\n",
    "plt.vlines(mean_degree(und_unw_graph), 0, 0.0175, color = 'g',label = 'Grado medio')\n",
    "plt.xlabel('Grado', fontsize=16)\n",
    "plt.ylabel('Probabilidad', fontsize=16)\n",
    "plt.legend()\n",
    "plt.grid()\n",
    "plt.show()"
   ]
  },
  {
   "cell_type": "code",
   "execution_count": 38,
   "metadata": {},
   "outputs": [
    {
     "name": "stdout",
     "output_type": "stream",
     "text": [
      "0.47062830470430184\n",
      "0.470628304708136\n"
     ]
    }
   ],
   "source": [
    "# Calculo del R^2 para ambos casos \n",
    "print(r_squared(x, y, popt1))\n",
    "print(r_squared(x, y_array, popt2))"
   ]
  },
  {
   "cell_type": "code",
   "execution_count": 23,
   "metadata": {},
   "outputs": [
    {
     "data": {
      "text/plain": [
       "array([8.37624927e+00, 7.12266035e-03])"
      ]
     },
     "execution_count": 23,
     "metadata": {},
     "output_type": "execute_result"
    }
   ],
   "source": [
    "popt1"
   ]
  },
  {
   "cell_type": "code",
   "execution_count": 16,
   "metadata": {},
   "outputs": [
    {
     "name": "stdout",
     "output_type": "stream",
     "text": [
      "36630\n",
      "901\n"
     ]
    }
   ],
   "source": [
    "print(und_unw_graph.number_of_edges())\n",
    "print(len(und_unw_graph))"
   ]
  },
  {
   "cell_type": "code",
   "execution_count": 14,
   "metadata": {},
   "outputs": [
    {
     "data": {
      "text/plain": [
       "0.09034406215316315"
      ]
     },
     "execution_count": 14,
     "metadata": {},
     "output_type": "execute_result"
    }
   ],
   "source": [
    "2*und_unw_graph.number_of_edges()/(len(und_unw_graph)*(len(und_unw_graph)-1))"
   ]
  },
  {
   "cell_type": "code",
   "execution_count": 17,
   "metadata": {},
   "outputs": [
    {
     "data": {
      "text/plain": [
       "81.30965593784684"
      ]
     },
     "execution_count": 17,
     "metadata": {},
     "output_type": "execute_result"
    }
   ],
   "source": [
    "2*und_unw_graph.number_of_edges()/len(und_unw_graph)"
   ]
  },
  {
   "cell_type": "code",
   "execution_count": 20,
   "metadata": {},
   "outputs": [
    {
     "data": {
      "text/plain": [
       "4"
      ]
     },
     "execution_count": 20,
     "metadata": {},
     "output_type": "execute_result"
    }
   ],
   "source": [
    "nx.diameter(und_unw_graph)"
   ]
  },
  {
   "cell_type": "markdown",
   "metadata": {},
   "source": [
    "Lo primero que toca hacer es describir la red. La red cuenta con un numero de nodos $n = 901$, los cuales cuentan con un total de $36630$ conecciones. El grafo cuenta con una densidad $\\Delta = 0.09034406215316315$ la cual es baja, es decir que la red no esta muy conectada, lo cual tambien se puede ver en el valor del grado medio de $k_{mean} = 81.31$ es mas de diez veces menor al numero de nodos presentes en la red, se puede decir que en una primera aproximacion, cada nodo solo se conecta con un decimo del total de nodos en la red. Por otra parte, el diametro de la red (como lo supuse), es de $4$, pero este valor no es muy relevante ya que lo mas probable es que nadie viaje entre los dos lugares que esten separados por cuatro conecciones, esas zonas deben ser algo como un potrero en Suachintown y otro en Torca.\n",
    "\n",
    "Depronto si el grafo se hiciera con zonificaciones mas grandes como UTAMS, este estaria mas interconectado.\n",
    "\n",
    "Como se puede ver en las dos graficas, tanto de frecuencia como de probabilidad, paraciera ser (de una manera demasiado aproximada e intuitiva, por ahora no muy rigurosa) que estas siguen una ley exponencial. Claramente, para poder concluir esto se debe tener cierto tratamiento de los datos, pero de llegar a ser cierto, esto significaria que en esta curiosa situacion, hay alguna cantidad que se conserva en el sistema, la cuestion es, ¿cual?.\n",
    "\n",
    "Como era de esperarse, para ambos casos, el de frecuencia y el de probabilidad, el $R^2$ da muy bajito (nos extraña? no nos extraña), el cual da un valor para ambos casos de $R^2 = 0.4706$, lo cual oooobviiaameeenteeee quiere decir que que no ajustan mucho, seguramente podria poner alguna curva tipo poission o lo que sea y el ajuste de mas que es el mismo, lo que de verdad toca hacer es ver si se puede hacer un histograma (bien hecho) que de razon del tipo de distribución."
   ]
  },
  {
   "cell_type": "code",
   "execution_count": 19,
   "metadata": {},
   "outputs": [
    {
     "data": {
      "text/plain": [
       "{276.0: 389,\n",
       " 322.0: 342,\n",
       " 275.0: 340,\n",
       " 299.0: 326,\n",
       " 354.0: 315,\n",
       " 454.0: 297,\n",
       " 997.0: 297,\n",
       " 167.0: 295,\n",
       " 456.0: 294,\n",
       " 255.0: 291}"
      ]
     },
     "execution_count": 19,
     "metadata": {},
     "output_type": "execute_result"
    }
   ],
   "source": [
    "# Zonas con mayor grado \n",
    "degree_dict = dict(und_unw_graph.degree())\n",
    "sorted_d = dict( sorted(degree_dict.items(), key=operator.itemgetter(1),reverse=True))\n",
    "dict_degree = dict(itertools.islice(sorted_d.items(), 10))\n",
    "dict_degree"
   ]
  },
  {
   "cell_type": "markdown",
   "metadata": {},
   "source": [
    "Aca se pueden ver cuales son las zonas (ZAT) con mayor grado en la ciudad. Dado que aun no se esta trabajando con la red pesada, no se puede decir que son las zonas a las que mas viaja la gente, lo que si se puede decir es que estan zonas que se conectan con mas zonas en la ciudad por medio de, a lo sumo, un viaje, es decir, personas de toda la ciudad viajan a estos lugares."
   ]
  },
  {
   "cell_type": "markdown",
   "metadata": {},
   "source": [
    "| Zat | Zona            | Grado |\n",
    "|-----|-----------------|-------|\n",
    "| 276 | Marly           | 389   |\n",
    "| 322 | Salitre         | 342   |\n",
    "| 275 | Hippies         | 340   |\n",
    "| 299 | Jardin botanico | 326   |\n",
    "| 354 | U Tadeo         | 315   |\n",
    "| 454 | ASAB            | 297   |\n",
    "| 997 | Fiscalia        | 297   |\n",
    "| 167 | La Castellana   | 295   |\n",
    "| 456 | Museo del oro   | 294   |\n",
    "| 255 | Lourdes         | 291   |"
   ]
  },
  {
   "cell_type": "markdown",
   "metadata": {},
   "source": [
    "Aca se pueden ver particularmente tres grupos en especifico que se conecten por medio de viajes con el resto de la ciudad, y estos son __Chapinero central__, __Salitre__ y __El centro__, junto con la castellana. Todo el pentagono entre la calle 65, calle 45, carreras 7 y avenida caracas presentan un grado altisimo. Al igual que la zona del centro comprendida por la calle 26, Jimenez, carrera 3 y 7, junto con la zona que rodea la carrera 13 por la plaza de san victorino. La zona salitre esta comprendida por la avenida La Esperanza desde el bunquer hasta la avenida Rojas, cruza la 26 e incluye el area del Jardin botanico. \n",
    "\n",
    "Algo que se puede resaltar es la importancia de la carrera 13 como eje de \"simetria\" para una de estas agrupaciones, con suma importancia tambien en la zona __Centro__.\n",
    "\n",
    "Uno puede hacerse la imagen de que estas tres zonas estan organizadas por los ejes dados por dos grandes avenidas, la 26 y la caracas."
   ]
  },
  {
   "cell_type": "markdown",
   "metadata": {},
   "source": [
    "### Grado in y out de la red dirigida"
   ]
  },
  {
   "cell_type": "code",
   "execution_count": 10,
   "metadata": {},
   "outputs": [],
   "source": [
    "x_in, y_in, x_out, y_out = in_out_degree(d_unw_graph)"
   ]
  },
  {
   "cell_type": "code",
   "execution_count": 11,
   "metadata": {},
   "outputs": [
    {
     "data": {
      "image/png": "[encoded data removed]",
      "text/plain": [
       "<Figure size 720x504 with 1 Axes>"
      ]
     },
     "metadata": {
      "needs_background": "light"
     },
     "output_type": "display_data"
    }
   ],
   "source": [
    "plt.figure(figsize = (10,7))\n",
    "plt.plot(x_in, y_in, 'o')\n",
    "#plt.plot(x_out, y_out, 'p')\n",
    "#plt.vlines(mean_degree(und_unw_graph), 0, 16, color = 'r',label = 'Grado medio')\n",
    "plt.xlabel('Grado de entrada', fontsize=16)\n",
    "plt.ylabel('Frecuencia', fontsize=16)\n",
    "#plt.legend()\n",
    "plt.grid()\n",
    "plt.show()"
   ]
  },
  {
   "cell_type": "markdown",
   "metadata": {},
   "source": [
    "Parece ser que el grado de entrada se comporta aun mejor como ley exponencial."
   ]
  },
  {
   "cell_type": "code",
   "execution_count": 12,
   "metadata": {},
   "outputs": [
    {
     "data": {
      "image/png": "[encoded data removed]",
      "text/plain": [
       "<Figure size 720x504 with 1 Axes>"
      ]
     },
     "metadata": {
      "needs_background": "light"
     },
     "output_type": "display_data"
    }
   ],
   "source": [
    "plt.figure(figsize = (10,7))\n",
    "plt.plot(x_out, y_out, 'o')\n",
    "#plt.plot(x_out, y_out, 'p')\n",
    "#plt.vlines(mean_degree(und_unw_graph), 0, 16, color = 'r',label = 'Grado medio')\n",
    "plt.xlabel('Grado de salida', fontsize=16)\n",
    "plt.ylabel('Frecuencia', fontsize=16)\n",
    "#plt.legend()\n",
    "plt.grid()\n",
    "plt.show()"
   ]
  },
  {
   "cell_type": "markdown",
   "metadata": {},
   "source": [
    "Ya el grado de salida se comporta mas raro, incluso parece no comportarse como una ley de potencias, lo cual es interesante pero me puede joder la vida."
   ]
  },
  {
   "cell_type": "markdown",
   "metadata": {},
   "source": [
    "Lo que se realizo a continuacion es un mero intento por ver algun tipo de correlacin entre las frecuencias de entrada y de salida, por mero desparche, pero esto seguramente debe hacerse con mucho mas cuidado. "
   ]
  },
  {
   "cell_type": "code",
   "execution_count": 14,
   "metadata": {},
   "outputs": [
    {
     "data": {
      "image/png": "[encoded data removed]",
      "text/plain": [
       "<Figure size 432x288 with 1 Axes>"
      ]
     },
     "metadata": {
      "needs_background": "light"
     },
     "output_type": "display_data"
    }
   ],
   "source": [
    "y_exp = y_out+[0,0,0,0]\n",
    "plt.plot(y_in, y_exp, 'o')\n",
    "plt.xlabel('Grado de entrada')\n",
    "plt.ylabel('Grado de salida')\n",
    "plt.show()"
   ]
  },
  {
   "cell_type": "markdown",
   "metadata": {},
   "source": [
    "El siguiente paso a realizar es el de ver de donde salen y hacia donde van mas personas, lo cual seguramente sera muy parecido al caso del grafo sin pesar, pero podemos llevarnos varias sorpresas."
   ]
  },
  {
   "cell_type": "code",
   "execution_count": 66,
   "metadata": {},
   "outputs": [
    {
     "name": "stdout",
     "output_type": "stream",
     "text": [
      "{276.0: 334, 322.0: 282, 275.0: 279, 299.0: 275, 354.0: 267, 997.0: 253, 167.0: 244, 255.0: 242, 454.0: 238, 456.0: 236} \t {276.0: 321, 322.0: 280, 275.0: 272, 354.0: 264, 299.0: 253, 255.0: 244, 456.0: 244, 167.0: 241, 997.0: 240, 454.0: 237} \t {276.0: 389, 322.0: 342, 275.0: 340, 299.0: 326, 354.0: 315, 454.0: 297, 997.0: 297, 167.0: 295, 456.0: 294, 255.0: 291}\n"
     ]
    }
   ],
   "source": [
    "# Zonas con mayor grado \n",
    "degree_dict_in = dict(d_unw_graph.in_degree())\n",
    "degree_dict_out = dict(d_unw_graph.out_degree())\n",
    "sorted_in = dict( sorted(degree_dict_in.items(), key=operator.itemgetter(1),reverse=True))\n",
    "sorted_out = dict( sorted(degree_dict_out.items(), key=operator.itemgetter(1),reverse=True))\n",
    "\n",
    "dict_in = dict(itertools.islice(sorted_in.items(), 10))\n",
    "dict_out = dict(itertools.islice(sorted_out.items(), 10))\n",
    "\n",
    "print(dict_in, '\\t', dict_out, '\\t', dict_degree)"
   ]
  },
  {
   "cell_type": "code",
   "execution_count": 71,
   "metadata": {},
   "outputs": [
    {
     "name": "stdout",
     "output_type": "stream",
     "text": [
      "276.0\n",
      "322.0\n",
      "275.0\n",
      "354.0\n",
      "299.0\n",
      "255.0\n",
      "456.0\n",
      "167.0\n",
      "997.0\n",
      "454.0\n"
     ]
    }
   ],
   "source": [
    "for i in dict_out.keys():\n",
    "    #if i in dict_degree.keys():\n",
    "    print(i)"
   ]
  },
  {
   "cell_type": "markdown",
   "metadata": {},
   "source": [
    "Como se puede ver en los anteriores codigos, tanto para el grado de entrada como el de salida, se conservan las mismas zonas para el caso de el grafo no dirigido."
   ]
  },
  {
   "cell_type": "markdown",
   "metadata": {},
   "source": [
    "### Clusterizacion"
   ]
  },
  {
   "cell_type": "markdown",
   "metadata": {},
   "source": [
    "Aca se va a calcular la distribucion para el indice de clusterizacion en la red simple sin pesar."
   ]
  },
  {
   "cell_type": "code",
   "execution_count": 9,
   "metadata": {},
   "outputs": [],
   "source": [
    "def cluster_dist(G):\n",
    "    cluster = nx.clustering(G).values()\n",
    "    cluster_x = sorted(set(cluster))\n",
    "    cluster_y = [list(cluster).count(x) for x in cluster_x]\n",
    "    #hist = [list(bog.values()).count(x) for x in values]\n",
    "    return cluster_x, cluster_y"
   ]
  },
  {
   "cell_type": "code",
   "execution_count": 75,
   "metadata": {},
   "outputs": [],
   "source": [
    "clust_x, clust_y = cluster_dist(und_unw_graph)"
   ]
  },
  {
   "cell_type": "code",
   "execution_count": 77,
   "metadata": {},
   "outputs": [
    {
     "data": {
      "image/png": "[encoded data removed]",
      "text/plain": [
       "<Figure size 720x504 with 1 Axes>"
      ]
     },
     "metadata": {
      "needs_background": "light"
     },
     "output_type": "display_data"
    }
   ],
   "source": [
    "plt.figure(figsize = (10,7))\n",
    "plt.plot(clust_x, clust_y, 'o')\n",
    "plt.xlabel('Clustering', fontsize = 14)\n",
    "plt.ylabel('Frecuencia', fontsize = 14)\n",
    "plt.grid()\n",
    "plt.show()"
   ]
  },
  {
   "cell_type": "code",
   "execution_count": 91,
   "metadata": {},
   "outputs": [
    {
     "data": {
      "text/plain": [
       "0.26208088454731154"
      ]
     },
     "execution_count": 91,
     "metadata": {},
     "output_type": "execute_result"
    }
   ],
   "source": [
    "nx.average_clustering(und_unw_graph)"
   ]
  },
  {
   "cell_type": "code",
   "execution_count": 14,
   "metadata": {},
   "outputs": [
    {
     "data": {
      "text/plain": [
       "{790.0: 1.0,\n",
       " 84.0: 1.0,\n",
       " 268.0: 1.0,\n",
       " 797.0: 1.0,\n",
       " 1040.0: 1.0,\n",
       " 1052.0: 1.0,\n",
       " 763.0: 0.6666666666666666,\n",
       " 770.0: 0.6666666666666666,\n",
       " 43.0: 0.6,\n",
       " 789.0: 0.6}"
      ]
     },
     "execution_count": 14,
     "metadata": {},
     "output_type": "execute_result"
    }
   ],
   "source": [
    "cluster = nx.clustering(und_unw_graph)\n",
    "degree_dict = dict(und_unw_graph.degree())\n",
    "sorted_c = dict( sorted(cluster.items(), key=operator.itemgetter(1),reverse=True))\n",
    "dict_cluster = dict(itertools.islice(sorted_c.items(), 10))\n",
    "dict_cluster"
   ]
  },
  {
   "cell_type": "markdown",
   "metadata": {},
   "source": [
    "Como se puede notar, el clustering promedio de toda la red es de $0.262$, lo cual significa que en promedio, si dos zonas estan conectadas y uno de estos esta conectado a otro, hay mas o menos una probabilidad de 0.26 de que los  otros dos esten conectados.\n",
    "\n",
    "Como se puede ver en la grafica de fecuencia de clustering, hay com unos seis nodos en los cuales el clustering es 1, lo cual muestra una subestructura totalmente conectada, posteriormente se verificara cuales zonas componen esa estructura interna.\n",
    "\n",
    "Como se puede ver, existe un conjunto de seis zonas cuyo indice de clusterizacion es de 1, vamos a ver cuales son.\n",
    "Es algo bastante extraño este fenomeno de clusterizacion dado que son zonas que uno no pensaria de esa manera, van desde la casa de Duque, la parte de atras del parque nacional y Quiba alta en ciudad bolivar, las otras tres zonas no estan en la base de datos, lo cual me hace repensar el filtrado de datos o encontrar una mejor base de datos de la que yo cuento.\n",
    "Un patron interesante que siguen las diez zonas con mayor clusterizacion es que todas son zonas pocos pobladas de los cerros orientales. Por debajo de los que tienen clusterizacion 1, estan otras zonas que cumplen mas o mens con la descripcion dada anteriorente, zonas alejadas y poco pobladas de los cerros, como la zona despejada despues de Casablanca en Suba y la ciudadela de Colsubsidio en la autopista sur saliendo de suacha. "
   ]
  },
  {
   "cell_type": "code",
   "execution_count": 43,
   "metadata": {},
   "outputs": [
    {
     "name": "stdout",
     "output_type": "stream",
     "text": [
      "(789.0, 6)\n"
     ]
    }
   ],
   "source": [
    "for i in und_unw_graph.degree():\n",
    "    if i[0] == 789:\n",
    "        print(i)"
   ]
  },
  {
   "cell_type": "code",
   "execution_count": 51,
   "metadata": {},
   "outputs": [
    {
     "name": "stdout",
     "output_type": "stream",
     "text": [
      "(763.0, 761.0)\n",
      "(763.0, 735.0)\n",
      "(763.0, 1001.0)\n",
      "(763.0, 725.0)\n"
     ]
    }
   ],
   "source": [
    "for i in und_unw_graph.edges():\n",
    "    if 763 in i:\n",
    "        print(i)"
   ]
  },
  {
   "cell_type": "markdown",
   "metadata": {},
   "source": [
    "En el anterior codigo se buscó cual es el grado de cada una de estas zonas, las de clustering 1 tenian un grado de 2, y a medida que uno bajaba dicho grado iba aumentando, seria interesante ver cuales son las conecciones que tiene cada uno de estos nodos (al menos los que se pueden ubicar).\n",
    "\n",
    "Las conexiones que presentan dichos nodos de clusterizacion 1 son muy raros y me hacen pensar en lo bien que estan tratados los datos y me genera preocupacion sobre los numeros de las ZAT."
   ]
  },
  {
   "cell_type": "markdown",
   "metadata": {},
   "source": [
    "### Analisis de la red pesada"
   ]
  },
  {
   "cell_type": "code",
   "execution_count": 8,
   "metadata": {},
   "outputs": [
    {
     "name": "stdout",
     "output_type": "stream",
     "text": [
      "{0: 175, 1: 7, 2: 2, 3: 4, 4: 40, 945.0: 39, 932.0: 159, 798.0: 5, 790.0: 2, 767.0: 61, 763.0: 4, 740.0: 73, 737.0: 7, 716.0: 67, 714.0: 52, 694.0: 54, 692.0: 48, 987.0: 89, 676.0: 12, 674.0: 59}\n",
      "{0: 175, 1: 7, 2: 2, 3: 4, 4: 40, 945.0: 39, 932.0: 159, 798.0: 5, 790.0: 2, 767.0: 61, 763.0: 4, 740.0: 73, 737.0: 7, 716.0: 67, 714.0: 52, 694.0: 54, 692.0: 48, 987.0: 89, 676.0: 12, 674.0: 59}\n"
     ]
    }
   ],
   "source": [
    "print(dict(itertools.islice(dict(und_w_graph.degree()).items(), 20)))\n",
    "print(dict(itertools.islice(dict(und_unw_graph.degree()).items(), 20)))"
   ]
  },
  {
   "cell_type": "code",
   "execution_count": 9,
   "metadata": {},
   "outputs": [
    {
     "data": {
      "text/plain": [
       "'for i in w_array:\\n    for key, value in i.items():\\n        i[key] = int(value)'"
      ]
     },
     "execution_count": 9,
     "metadata": {},
     "output_type": "execute_result"
    }
   ],
   "source": [
    "# Se aisla el valor de cada coneccion en la red\n",
    "w_array = list(und_w_graph.edges(data = True)) \n",
    "\"\"\"for i in w_array:\n",
    "    for key, value in i.items():\n",
    "        i[key] = int(value)\"\"\""
   ]
  },
  {
   "cell_type": "markdown",
   "metadata": {},
   "source": [
    "Lo que tocara hacer es sacar la fuerza a punta de pandas porque no di como hacerlo con networkx"
   ]
  },
  {
   "cell_type": "code",
   "execution_count": 30,
   "metadata": {},
   "outputs": [
    {
     "data": {
      "text/html": [
       "<div>\n",
       "<style scoped>\n",
       "    .dataframe tbody tr th:only-of-type {\n",
       "        vertical-align: middle;\n",
       "    }\n",
       "\n",
       "    .dataframe tbody tr th {\n",
       "        vertical-align: top;\n",
       "    }\n",
       "\n",
       "    .dataframe thead th {\n",
       "        text-align: right;\n",
       "    }\n",
       "</style>\n",
       "<table border=\"1\" class=\"dataframe\">\n",
       "  <thead>\n",
       "    <tr style=\"text-align: right;\">\n",
       "      <th></th>\n",
       "      <th>zat_origen</th>\n",
       "      <th>w_out</th>\n",
       "    </tr>\n",
       "  </thead>\n",
       "  <tbody>\n",
       "    <tr>\n",
       "      <th>314</th>\n",
       "      <td>322.0</td>\n",
       "      <td>607</td>\n",
       "    </tr>\n",
       "    <tr>\n",
       "      <th>269</th>\n",
       "      <td>276.0</td>\n",
       "      <td>606</td>\n",
       "    </tr>\n",
       "    <tr>\n",
       "      <th>755</th>\n",
       "      <td>782.0</td>\n",
       "      <td>560</td>\n",
       "    </tr>\n",
       "    <tr>\n",
       "      <th>519</th>\n",
       "      <td>530.0</td>\n",
       "      <td>554</td>\n",
       "    </tr>\n",
       "    <tr>\n",
       "      <th>346</th>\n",
       "      <td>354.0</td>\n",
       "      <td>524</td>\n",
       "    </tr>\n",
       "    <tr>\n",
       "      <th>268</th>\n",
       "      <td>275.0</td>\n",
       "      <td>509</td>\n",
       "    </tr>\n",
       "    <tr>\n",
       "      <th>850</th>\n",
       "      <td>1001.0</td>\n",
       "      <td>495</td>\n",
       "    </tr>\n",
       "    <tr>\n",
       "      <th>545</th>\n",
       "      <td>557.0</td>\n",
       "      <td>493</td>\n",
       "    </tr>\n",
       "    <tr>\n",
       "      <th>847</th>\n",
       "      <td>997.0</td>\n",
       "      <td>492</td>\n",
       "    </tr>\n",
       "    <tr>\n",
       "      <th>309</th>\n",
       "      <td>317.0</td>\n",
       "      <td>483</td>\n",
       "    </tr>\n",
       "  </tbody>\n",
       "</table>\n",
       "</div>"
      ],
      "text/plain": [
       "     zat_origen  w_out\n",
       "314       322.0    607\n",
       "269       276.0    606\n",
       "755       782.0    560\n",
       "519       530.0    554\n",
       "346       354.0    524\n",
       "268       275.0    509\n",
       "850      1001.0    495\n",
       "545       557.0    493\n",
       "847       997.0    492\n",
       "309       317.0    483"
      ]
     },
     "execution_count": 30,
     "metadata": {},
     "output_type": "execute_result"
    }
   ],
   "source": [
    "# Dataframe en donde se muestra de donde salen mas viajes \n",
    "df_w_out = (df_red_adj.groupby('zat_origen')['viajes']\n",
    "                     .sum()\n",
    "                     .reset_index()\n",
    "                     .rename(columns = {'viajes':'w_out'})\n",
    "                     .sort_values(by = ['w_out'], ascending = False))\n",
    "df_w_out.head(10)"
   ]
  },
  {
   "cell_type": "code",
   "execution_count": 11,
   "metadata": {},
   "outputs": [
    {
     "data": {
      "text/html": [
       "<div>\n",
       "<style scoped>\n",
       "    .dataframe tbody tr th:only-of-type {\n",
       "        vertical-align: middle;\n",
       "    }\n",
       "\n",
       "    .dataframe tbody tr th {\n",
       "        vertical-align: top;\n",
       "    }\n",
       "\n",
       "    .dataframe thead th {\n",
       "        text-align: right;\n",
       "    }\n",
       "</style>\n",
       "<table border=\"1\" class=\"dataframe\">\n",
       "  <thead>\n",
       "    <tr style=\"text-align: right;\">\n",
       "      <th></th>\n",
       "      <th>zat_destino</th>\n",
       "      <th>w_in</th>\n",
       "    </tr>\n",
       "  </thead>\n",
       "  <tbody>\n",
       "    <tr>\n",
       "      <th>269</th>\n",
       "      <td>276.0</td>\n",
       "      <td>622</td>\n",
       "    </tr>\n",
       "    <tr>\n",
       "      <th>315</th>\n",
       "      <td>322.0</td>\n",
       "      <td>617</td>\n",
       "    </tr>\n",
       "    <tr>\n",
       "      <th>757</th>\n",
       "      <td>782.0</td>\n",
       "      <td>555</td>\n",
       "    </tr>\n",
       "    <tr>\n",
       "      <th>521</th>\n",
       "      <td>530.0</td>\n",
       "      <td>538</td>\n",
       "    </tr>\n",
       "    <tr>\n",
       "      <th>347</th>\n",
       "      <td>354.0</td>\n",
       "      <td>522</td>\n",
       "    </tr>\n",
       "    <tr>\n",
       "      <th>268</th>\n",
       "      <td>275.0</td>\n",
       "      <td>515</td>\n",
       "    </tr>\n",
       "    <tr>\n",
       "      <th>805</th>\n",
       "      <td>951.0</td>\n",
       "      <td>502</td>\n",
       "    </tr>\n",
       "    <tr>\n",
       "      <th>851</th>\n",
       "      <td>1001.0</td>\n",
       "      <td>495</td>\n",
       "    </tr>\n",
       "    <tr>\n",
       "      <th>848</th>\n",
       "      <td>997.0</td>\n",
       "      <td>493</td>\n",
       "    </tr>\n",
       "    <tr>\n",
       "      <th>547</th>\n",
       "      <td>557.0</td>\n",
       "      <td>486</td>\n",
       "    </tr>\n",
       "  </tbody>\n",
       "</table>\n",
       "</div>"
      ],
      "text/plain": [
       "     zat_destino  w_in\n",
       "269        276.0   622\n",
       "315        322.0   617\n",
       "757        782.0   555\n",
       "521        530.0   538\n",
       "347        354.0   522\n",
       "268        275.0   515\n",
       "805        951.0   502\n",
       "851       1001.0   495\n",
       "848        997.0   493\n",
       "547        557.0   486"
      ]
     },
     "execution_count": 11,
     "metadata": {},
     "output_type": "execute_result"
    }
   ],
   "source": [
    "# Dataframe hacia donde llegan mas viajes \n",
    "df_w_in = (df_red_adj.groupby('zat_destino')['viajes']\n",
    "                     .sum()\n",
    "                     .reset_index()\n",
    "                     .rename(columns = {'viajes':'w_in'})\n",
    "                     .sort_values(by = ['w_in'], ascending = False))\n",
    "df_w_in.head(10)"
   ]
  },
  {
   "cell_type": "code",
   "execution_count": 20,
   "metadata": {},
   "outputs": [
    {
     "name": "stdout",
     "output_type": "stream",
     "text": [
      "117.32591768631814\n",
      "117.32591768631814\n"
     ]
    }
   ],
   "source": [
    "x_in, y_in = count(np.asarray(df_w_in['w_in']))\n",
    "x_out, y_out = count(np.asarray(df_w_out['w_out']))\n",
    "str_in_mean = np.mean(np.asarray(df_w_in['w_in']))\n",
    "str_out_mean = np.mean(np.asarray(df_w_out['w_out']))\n",
    "print(str_out_mean)\n",
    "print(str_in_mean)"
   ]
  },
  {
   "cell_type": "code",
   "execution_count": 24,
   "metadata": {},
   "outputs": [
    {
     "data": {
      "text/plain": [
       "<matplotlib.legend.Legend at 0x12279ac10>"
      ]
     },
     "execution_count": 24,
     "metadata": {},
     "output_type": "execute_result"
    },
    {
     "data": {
      "image/png": "[encoded data removed]",
      "text/plain": [
       "<Figure size 720x504 with 1 Axes>"
      ]
     },
     "metadata": {
      "needs_background": "light"
     },
     "output_type": "display_data"
    }
   ],
   "source": [
    "# Distribucion de probabilidad de la fuerza nodal in \n",
    "plt.figure(figsize = (10,7))\n",
    "plt.plot(x_in, y_in/sum(y_in), 'o')\n",
    "plt.vlines(str_in_mean, 0, 0.0175, color = 'r',label = 'Fuerza media')\n",
    "plt.xlabel('Fuerza nodal in', fontsize = 14)\n",
    "plt.ylabel('Probabilidad', fontsize = 14)\n",
    "plt.legend()"
   ]
  },
  {
   "cell_type": "code",
   "execution_count": 26,
   "metadata": {},
   "outputs": [
    {
     "data": {
      "text/plain": [
       "<matplotlib.legend.Legend at 0x102e787810>"
      ]
     },
     "execution_count": 26,
     "metadata": {},
     "output_type": "execute_result"
    },
    {
     "data": {
      "image/png": "[encoded data removed]",
      "text/plain": [
       "<Figure size 720x504 with 1 Axes>"
      ]
     },
     "metadata": {
      "needs_background": "light"
     },
     "output_type": "display_data"
    }
   ],
   "source": [
    "# Distribucion de probabilidad de la fuerza nodal out \n",
    "plt.figure(figsize = (10,7))\n",
    "plt.plot(x_out, y_out/sum(y_out), 'o', color = 'g')\n",
    "plt.vlines(str_in_mean, 0, 0.0175, color = 'r',label = 'Fuerza media')\n",
    "plt.xlabel('Fuerza nodal out', fontsize = 14)\n",
    "plt.ylabel('Probabilidad', fontsize = 14)\n",
    "plt.legend()"
   ]
  },
  {
   "cell_type": "markdown",
   "metadata": {},
   "source": [
    "Pooooor fiiiiiiin hice el carajo estudio de la fuerza de los nodos. En su gran mayoria se mantiene el conjunto de los nodos con mayor grado, como lo es Marly, Salitre, Hippies, peeeroooooo se juntan zonas nuevas tanto de salida como de llegada. De salida los tres primeros lugares de donde salen viajes son Salitre, Marly y la autopista sur por la via que viene de Indumil. Tambien aparecen zonas como el portal americas y Bosa al final de la avenida Bosa XD y curiosamente al frente de hayuelos."
   ]
  },
  {
   "cell_type": "markdown",
   "metadata": {},
   "source": [
    "Para el caso de la entrada a los nodos, mas o menos se conserva el conjunto de entrada a excepcion de la zona de mundo aventura (Cuadra picha XD)."
   ]
  },
  {
   "cell_type": "markdown",
   "metadata": {},
   "source": [
    "Como se puede notar, excisten ciertas similaridades con el conjunto de nodos con mayor grado, pero no totalmente, como se puede notar, aparecen zonas que toca ver que grado tienen, pero salen y entran bastantes personas, en particular del portal de las americas, Bosa y Suachintown, que son de las zonas mas densamente pobladas en el area urbana. \n",
    "\n",
    "A manera de comentario se puede decir que efectivamente el metro se mueve por las zonas por donde viaja mas gente en su gran mayoria, pero tambien con una gran alerta hacai soacha, esta tiene la tercera zona por por la cual se hacen mas viajes y ni siquiera llega el transmilenio alla, mostrando de una manera simple la gran necesidad de este municipio por un transporte eficiente."
   ]
  },
  {
   "cell_type": "code",
   "execution_count": 96,
   "metadata": {},
   "outputs": [],
   "source": [
    "df_links = (df_red_adj.groupby(['zat_origen', 'zat_destino'], as_index = False)['viajes']\n",
    "                      .sum()\n",
    "                      .rename(columns = {'viajes':'links'})\n",
    "                      .sort_values(by = ['links'], ascending = False))\n",
    "x_link, y_link = count(np.asarray(df_links['links']))\n",
    "w_links_mean = np.mean(np.asarray(df_links['links']))"
   ]
  },
  {
   "cell_type": "code",
   "execution_count": 84,
   "metadata": {},
   "outputs": [],
   "source": [
    "popt3, pcov3 = curve_fit(pow_law, xdata = x_link, ydata = y_link)\n",
    "xspace = np.linspace(0.7,max(x_link), num = max(x_link))"
   ]
  },
  {
   "cell_type": "code",
   "execution_count": 102,
   "metadata": {},
   "outputs": [
    {
     "data": {
      "text/plain": [
       "<matplotlib.legend.Legend at 0x1032ce2150>"
      ]
     },
     "execution_count": 102,
     "metadata": {},
     "output_type": "execute_result"
    },
    {
     "data": {
      "image/png": "[encoded data removed]",
      "text/plain": [
       "<Figure size 720x504 with 1 Axes>"
      ]
     },
     "metadata": {
      "needs_background": "light"
     },
     "output_type": "display_data"
    }
   ],
   "source": [
    "# Distribucion de probabilidad del peso de las conecciones en la red\n",
    "plt.figure(figsize = (10,7))\n",
    "plt.loglog(x_link, y_link/sum(y_link), 'o', color = 'g')\n",
    "#plt.loglog(pow_law(xspace,popt3[0], popt3[1]), color = 'b', label = 'Ajuste ley de potencia')\n",
    "plt.vlines(w_links_mean, 0, 0.75, color = 'blueviolet',label = 'Peso medio')\n",
    "plt.xlabel('Peso de las conexiones', fontsize = 14)\n",
    "plt.ylabel('Probabilidad', fontsize = 14)\n",
    "plt.legend()"
   ]
  },
  {
   "cell_type": "code",
   "execution_count": 103,
   "metadata": {},
   "outputs": [
    {
     "data": {
      "text/plain": [
       "Index(['Unnamed: 0', 'id_hogar', 'Estado', 'Utam', 'Sector', 'Seccion',\n",
       "       'Manzana', 'p5_fecha', 'p7_Barrio_vivienda', 'Latitud', 'Longitud',\n",
       "       'zat_hogar', 'p5_estrato', 'p6_hogares_vivienda', 'p7_total_personas',\n",
       "       'p8_mayores_cinco_anios', 'id_rango_ingresos', 'vivienda', 'Factor',\n",
       "       'municipio', 'localidad', 'id_persona', 'id_viaje', 'fecha',\n",
       "       'lugar_origen', 'zat_origen', 'p17_Id_motivo_viaje', 'p17_otro_motivo',\n",
       "       'hora_inicio_viaje', 'p28_lugar_destino', 'zat_destino',\n",
       "       'p29_id_municipio', 'p30_camino_cuadras', 'p30_camino_minutos',\n",
       "       'hora_llegada', 'p32_lunes', 'p32_martes', 'p32_miercoles',\n",
       "       'p32_jueves', 'p32_viernes', 'p32_sabado', 'p32_domingo',\n",
       "       'p32_ocasional', 'p36_hora_salida', 'f_exp', 'mun_origen',\n",
       "       'mun_destino', 'utam_origen', 'utam_destino', 'modo_principal',\n",
       "       'modo_principal_desagregado', 'duracion', 'p3_id_parentesco_jh',\n",
       "       'p4_edad', 'p5_id_nivel_educativo', 'p6_id_ocupacion',\n",
       "       'p6_id_ocupacion_O1', 'p6_id_ocupacion_O2', 'p6_id_ocupacion_O3',\n",
       "       'p7_id_actividad_economica', 'p7v_lugar_inicio_dia',\n",
       "       'p8v_barrio_vereda', 'p9v_id_municipio', 'p9v_municipio',\n",
       "       'p10v_hora_salida', 'p11v_condujo_vehiculo', 'p13v_condujo_bicicleta',\n",
       "       'p15v_subsidio_SITP', 'Sexo'],\n",
       "      dtype='object')"
      ]
     },
     "execution_count": 103,
     "metadata": {},
     "output_type": "execute_result"
    }
   ],
   "source": [
    "great_df.columns"
   ]
  },
  {
   "cell_type": "markdown",
   "metadata": {},
   "source": [
    "Esta es definitivamente la mejor grafica que he tenido en toda la tesis :v, pero no esta ajustando bien a una ley de potencias, lo cual es bastante raro y me preocuopa un poco, lo que creo que podria estar pasadno es queno puedo definir la ley de potencias asi tan a la ligera y tambien seguir el proceso que sugiere newman en su articulo de leyes de potencia.\n",
    "Se encontro que el peso medio de las conecciones en la red es de 1.77, lo cual quiere decir que matar las conecciones desolo uno y considerar solo conecciones por encima de la media es la misma joda (dos pajaros de un solo tiro).\n",
    "\n",
    "A partir de este df_liks se pueden crear las otras redes en donde el peso de las conecciones es mayor a 1 de manera facil, seria hacer el pivot_table y sale.\n",
    "\n",
    "Excisten muuuchiiisimaaas conexiones que son bucles :( entonces tocara bajarse de dichas conexiones y ver que pasa con todas las cosas que he hecho."
   ]
  },
  {
   "cell_type": "markdown",
   "metadata": {},
   "source": [
    "## Propiedades de la red en funcion del tiempo"
   ]
  },
  {
   "cell_type": "markdown",
   "metadata": {},
   "source": [
    "En esta seccion se van a estudiar las propiedades pertinentes de la red tales como el grado promedio, la fortaleza nodal, el peso de los arcos en promedio en funcion del tiempo de la misma manera en la que encontre la cantidad de viajes dependiendo de la hora."
   ]
  },
  {
   "cell_type": "markdown",
   "metadata": {},
   "source": [
    "### El problema de las ZAT mayoreas a 1000"
   ]
  },
  {
   "cell_type": "markdown",
   "metadata": {},
   "source": [
    "Existe algo preocupante en la base de datos, y son las zonas de administracion de transporte que su numero de identificacion es mayor a 1000, estas no se encuentran representadas en la base de datos con la que cuento, por lo cual estaba indagando sobre estas zonas, que al parecer se encuentran en las zonas de periferia de Bogota y soacha, como zonas rurales y barrios en la frontera de Bogota, por lo cual es mas dificil localizarlos. Lo normal seria buscar otra base de datos (dificil), o mocharlos."
   ]
  },
  {
   "cell_type": "code",
   "execution_count": 92,
   "metadata": {},
   "outputs": [
    {
     "data": {
      "text/html": [
       "<div>\n",
       "<style scoped>\n",
       "    .dataframe tbody tr th:only-of-type {\n",
       "        vertical-align: middle;\n",
       "    }\n",
       "\n",
       "    .dataframe tbody tr th {\n",
       "        vertical-align: top;\n",
       "    }\n",
       "\n",
       "    .dataframe thead th {\n",
       "        text-align: right;\n",
       "    }\n",
       "</style>\n",
       "<table border=\"1\" class=\"dataframe\">\n",
       "  <thead>\n",
       "    <tr style=\"text-align: right;\">\n",
       "      <th></th>\n",
       "      <th>zat_origen</th>\n",
       "      <th>zat_destino</th>\n",
       "      <th>utam_origen</th>\n",
       "      <th>utam_destino</th>\n",
       "      <th>p8v_barrio_vereda</th>\n",
       "      <th>mun_origen</th>\n",
       "      <th>mun_destino</th>\n",
       "      <th>municipio</th>\n",
       "    </tr>\n",
       "  </thead>\n",
       "  <tbody>\n",
       "    <tr>\n",
       "      <th>9764</th>\n",
       "      <td>1016.0</td>\n",
       "      <td>11.0</td>\n",
       "      <td>UTAM1</td>\n",
       "      <td>UTAM9</td>\n",
       "      <td>NaN</td>\n",
       "      <td>11001.0</td>\n",
       "      <td>11001.0</td>\n",
       "      <td>11001</td>\n",
       "    </tr>\n",
       "    <tr>\n",
       "      <th>9768</th>\n",
       "      <td>1016.0</td>\n",
       "      <td>378.0</td>\n",
       "      <td>UTAM1</td>\n",
       "      <td>UTAM43</td>\n",
       "      <td>NaN</td>\n",
       "      <td>11001.0</td>\n",
       "      <td>11001.0</td>\n",
       "      <td>11001</td>\n",
       "    </tr>\n",
       "    <tr>\n",
       "      <th>65319</th>\n",
       "      <td>1016.0</td>\n",
       "      <td>657.0</td>\n",
       "      <td>UTAM1</td>\n",
       "      <td>UTAM62</td>\n",
       "      <td>NaN</td>\n",
       "      <td>11001.0</td>\n",
       "      <td>11001.0</td>\n",
       "      <td>11001</td>\n",
       "    </tr>\n",
       "    <tr>\n",
       "      <th>66895</th>\n",
       "      <td>1016.0</td>\n",
       "      <td>847.0</td>\n",
       "      <td>UTAM1</td>\n",
       "      <td>UTAM97</td>\n",
       "      <td>NaN</td>\n",
       "      <td>11001.0</td>\n",
       "      <td>11001.0</td>\n",
       "      <td>11001</td>\n",
       "    </tr>\n",
       "    <tr>\n",
       "      <th>93910</th>\n",
       "      <td>1016.0</td>\n",
       "      <td>133.0</td>\n",
       "      <td>UTAM1</td>\n",
       "      <td>UTAM24</td>\n",
       "      <td>NaN</td>\n",
       "      <td>11001.0</td>\n",
       "      <td>11001.0</td>\n",
       "      <td>11001</td>\n",
       "    </tr>\n",
       "    <tr>\n",
       "      <th>96961</th>\n",
       "      <td>1016.0</td>\n",
       "      <td>9.0</td>\n",
       "      <td>UTAM1</td>\n",
       "      <td>UTAM17</td>\n",
       "      <td>NaN</td>\n",
       "      <td>11001.0</td>\n",
       "      <td>11001.0</td>\n",
       "      <td>11001</td>\n",
       "    </tr>\n",
       "  </tbody>\n",
       "</table>\n",
       "</div>"
      ],
      "text/plain": [
       "       zat_origen  zat_destino utam_origen utam_destino p8v_barrio_vereda  \\\n",
       "9764       1016.0         11.0       UTAM1        UTAM9               NaN   \n",
       "9768       1016.0        378.0       UTAM1       UTAM43               NaN   \n",
       "65319      1016.0        657.0       UTAM1       UTAM62               NaN   \n",
       "66895      1016.0        847.0       UTAM1       UTAM97               NaN   \n",
       "93910      1016.0        133.0       UTAM1       UTAM24               NaN   \n",
       "96961      1016.0          9.0       UTAM1       UTAM17               NaN   \n",
       "\n",
       "       mun_origen  mun_destino  municipio  \n",
       "9764      11001.0      11001.0      11001  \n",
       "9768      11001.0      11001.0      11001  \n",
       "65319     11001.0      11001.0      11001  \n",
       "66895     11001.0      11001.0      11001  \n",
       "93910     11001.0      11001.0      11001  \n",
       "96961     11001.0      11001.0      11001  "
      ]
     },
     "execution_count": 92,
     "metadata": {},
     "output_type": "execute_result"
    }
   ],
   "source": [
    "great_df[great_df['zat_origen'] == 1016][['zat_origen', 'zat_destino', 'utam_origen', 'utam_destino', 'p8v_barrio_vereda', 'mun_origen', 'mun_destino', 'municipio']]"
   ]
  },
  {
   "cell_type": "code",
   "execution_count": 19,
   "metadata": {},
   "outputs": [
    {
     "data": {
      "text/plain": [
       "Index(['Unnamed: 0', 'id_hogar', 'Estado', 'Utam', 'Sector', 'Seccion',\n",
       "       'Manzana', 'p5_fecha', 'p7_Barrio_vivienda', 'Latitud', 'Longitud',\n",
       "       'zat_hogar', 'p5_estrato', 'p6_hogares_vivienda', 'p7_total_personas',\n",
       "       'p8_mayores_cinco_anios', 'id_rango_ingresos', 'vivienda', 'Factor',\n",
       "       'municipio', 'localidad', 'id_persona', 'id_viaje', 'fecha',\n",
       "       'lugar_origen', 'zat_origen', 'p17_Id_motivo_viaje', 'p17_otro_motivo',\n",
       "       'hora_inicio_viaje', 'p28_lugar_destino', 'zat_destino',\n",
       "       'p29_id_municipio', 'p30_camino_cuadras', 'p30_camino_minutos',\n",
       "       'hora_llegada', 'p32_lunes', 'p32_martes', 'p32_miercoles',\n",
       "       'p32_jueves', 'p32_viernes', 'p32_sabado', 'p32_domingo',\n",
       "       'p32_ocasional', 'p36_hora_salida', 'f_exp', 'mun_origen',\n",
       "       'mun_destino', 'utam_origen', 'utam_destino', 'modo_principal',\n",
       "       'modo_principal_desagregado', 'duracion', 'p3_id_parentesco_jh',\n",
       "       'p4_edad', 'p5_id_nivel_educativo', 'p6_id_ocupacion',\n",
       "       'p6_id_ocupacion_O1', 'p6_id_ocupacion_O2', 'p6_id_ocupacion_O3',\n",
       "       'p7_id_actividad_economica', 'p7v_lugar_inicio_dia',\n",
       "       'p8v_barrio_vereda', 'p9v_id_municipio', 'p9v_municipio',\n",
       "       'p10v_hora_salida', 'p11v_condujo_vehiculo', 'p13v_condujo_bicicleta',\n",
       "       'p15v_subsidio_SITP', 'Sexo'],\n",
       "      dtype='object')"
      ]
     },
     "execution_count": 19,
     "metadata": {},
     "output_type": "execute_result"
    }
   ],
   "source": [
    "great_df.columns"
   ]
  },
  {
   "cell_type": "code",
   "execution_count": 65,
   "metadata": {},
   "outputs": [
    {
     "data": {
      "text/plain": [
       "[1001.0,\n",
       " 1003.0,\n",
       " 1006.0,\n",
       " 1008.0,\n",
       " 1009.0,\n",
       " 1010.0,\n",
       " 1011.0,\n",
       " 1012.0,\n",
       " 1016.0,\n",
       " 1017.0,\n",
       " 1019.0,\n",
       " 1020.0,\n",
       " 1021.0,\n",
       " 1022.0,\n",
       " 1023.0,\n",
       " 1024.0,\n",
       " 1025.0,\n",
       " 1026.0,\n",
       " 1028.0,\n",
       " 1032.0,\n",
       " 1034.0,\n",
       " 1035.0,\n",
       " 1036.0,\n",
       " 1037.0,\n",
       " 1038.0,\n",
       " 1040.0,\n",
       " 1042.0,\n",
       " 1043.0,\n",
       " 1045.0,\n",
       " 1046.0,\n",
       " 1047.0,\n",
       " 1048.0,\n",
       " 1049.0,\n",
       " 1050.0,\n",
       " 1051.0,\n",
       " 1052.0,\n",
       " 1054.0,\n",
       " 1056.0,\n",
       " 1057.0,\n",
       " 1059.0,\n",
       " 1062.0,\n",
       " 1065.0,\n",
       " 1066.0,\n",
       " 1069.0,\n",
       " 1070.0,\n",
       " 1071.0,\n",
       " 1141.0,\n",
       " 1908.0]"
      ]
     },
     "execution_count": 65,
     "metadata": {},
     "output_type": "execute_result"
    }
   ],
   "source": [
    "sorted(great_df[great_df['zat_destino'] > 999]['zat_destino'].unique())"
   ]
  },
  {
   "cell_type": "markdown",
   "metadata": {},
   "source": [
    "## Proximamente\n",
    "\n",
    "Calcular la entropia del grado y de cada propiedad que se me pase por delante :v\n",
    "\n",
    "Revisar a profundidad la naturaleza de las redes, al menos algo de lo que estoy seguro es que los grados estan bien XD.\n",
    "\n",
    "Calcular y sacar las propiedades de las redes en funcion del tiempo."
   ]
  },
  {
   "cell_type": "markdown",
   "metadata": {},
   "source": [
    "## Importante \n",
    "\n",
    "Que constantes pueden mantenerse en algo tan dinamico como lo es la movilidad en una ciudad, encontrar cantidades conservadas podria dar mucha informacion de como se comporta el sistema, y pues aja, son muchos los sistemas que su resolucion se basa en encontrar cantidades conservadas. El hecho de que las distribuciones de grado sean leyes exponenciales (al parecer :v) dan razon de que si existen estas cantidades."
   ]
  },
  {
   "cell_type": "code",
   "execution_count": null,
   "metadata": {},
   "outputs": [],
   "source": []
  }
 ],
 "metadata": {
  "kernelspec": {
   "display_name": "Python 3",
   "language": "python",
   "name": "python3"
  },
  "language_info": {
   "codemirror_mode": {
    "name": "ipython",
    "version": 3
   },
   "file_extension": ".py",
   "mimetype": "text/x-python",
   "name": "python",
   "nbconvert_exporter": "python",
   "pygments_lexer": "ipython3",
   "version": "3.7.6"
  }
 },
 "nbformat": 4,
 "nbformat_minor": 4
}
