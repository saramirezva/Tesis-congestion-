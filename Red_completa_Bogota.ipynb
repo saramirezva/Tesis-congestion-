{
 "cells": [
  {
   "cell_type": "markdown",
   "metadata": {},
   "source": [
    "# Red completa de Bogotá"
   ]
  },
  {
   "cell_type": "markdown",
   "metadata": {},
   "source": [
    "Ya habiendo creado el archivo csv base para la realizacion de este trabajo, el siguiente paso es volver a crear las redes que ya habian sido creadas, pero en este caso, solo para los municipios de Bogotá y Soacha (Suachintown), hacer el respectivo estudio de la distribucuin de grado en la red no dirigida, el in_degree y out_degree de la red dirigida sin pesar, y la fuerza de cada nodo para el caso de la red pesada, con el numero de viajes en cada sentido (recordar que es el numero de viajes y no de personas como tal), se haran los respectivos ajustes a curvas exponenciales (dados los resultados del primer estudio) y se hara el estudio de clusterización y de ser necesario de cliques. En resumen, los estudios preeliminares de redes complejas. Se haran redes dependieno particularmente del estrato, medio de transporte y otros parametros que lo requieran y me diga Hurtado. "
   ]
  },
  {
   "cell_type": "code",
   "execution_count": 1,
   "metadata": {},
   "outputs": [],
   "source": [
    "# Importacion de las librerias necesarias \n",
    "import pandas as pd\n",
    "import numpy as np\n",
    "import networkx as nx \n",
    "import matplotlib.pyplot as plt\n",
    "import operator\n",
    "import itertools\n",
    "import datetime\n",
    "\n",
    "from scipy.optimize import curve_fit"
   ]
  },
  {
   "cell_type": "markdown",
   "metadata": {},
   "source": [
    "Se importa el archivo *Viajes_en_Bogota.csv* "
   ]
  },
  {
   "cell_type": "code",
   "execution_count": 2,
   "metadata": {},
   "outputs": [
    {
     "data": {
      "text/html": [
       "<div>\n",
       "<style scoped>\n",
       "    .dataframe tbody tr th:only-of-type {\n",
       "        vertical-align: middle;\n",
       "    }\n",
       "\n",
       "    .dataframe tbody tr th {\n",
       "        vertical-align: top;\n",
       "    }\n",
       "\n",
       "    .dataframe thead th {\n",
       "        text-align: right;\n",
       "    }\n",
       "</style>\n",
       "<table border=\"1\" class=\"dataframe\">\n",
       "  <thead>\n",
       "    <tr style=\"text-align: right;\">\n",
       "      <th></th>\n",
       "      <th>Unnamed: 0</th>\n",
       "      <th>id_hogar</th>\n",
       "      <th>Estado</th>\n",
       "      <th>Utam</th>\n",
       "      <th>Sector</th>\n",
       "      <th>Seccion</th>\n",
       "      <th>Manzana</th>\n",
       "      <th>p5_fecha</th>\n",
       "      <th>p7_Barrio_vivienda</th>\n",
       "      <th>Latitud</th>\n",
       "      <th>...</th>\n",
       "      <th>p7_id_actividad_economica</th>\n",
       "      <th>p7v_lugar_inicio_dia</th>\n",
       "      <th>p8v_barrio_vereda</th>\n",
       "      <th>p9v_id_municipio</th>\n",
       "      <th>p9v_municipio</th>\n",
       "      <th>p10v_hora_salida</th>\n",
       "      <th>p11v_condujo_vehiculo</th>\n",
       "      <th>p13v_condujo_bicicleta</th>\n",
       "      <th>p15v_subsidio_SITP</th>\n",
       "      <th>Sexo</th>\n",
       "    </tr>\n",
       "  </thead>\n",
       "  <tbody>\n",
       "    <tr>\n",
       "      <th>0</th>\n",
       "      <td>7089</td>\n",
       "      <td>17081</td>\n",
       "      <td>2</td>\n",
       "      <td>UTAM9</td>\n",
       "      <td>8534</td>\n",
       "      <td>3</td>\n",
       "      <td>14</td>\n",
       "      <td>2019-05-21</td>\n",
       "      <td>MIRADOR</td>\n",
       "      <td>4.761663</td>\n",
       "      <td>...</td>\n",
       "      <td>6.0</td>\n",
       "      <td>1.0</td>\n",
       "      <td>NaN</td>\n",
       "      <td>NaN</td>\n",
       "      <td>NaN</td>\n",
       "      <td>05:20:00</td>\n",
       "      <td>2.0</td>\n",
       "      <td>2.0</td>\n",
       "      <td>4.0</td>\n",
       "      <td>Hombre</td>\n",
       "    </tr>\n",
       "    <tr>\n",
       "      <th>1</th>\n",
       "      <td>7090</td>\n",
       "      <td>17081</td>\n",
       "      <td>2</td>\n",
       "      <td>UTAM9</td>\n",
       "      <td>8534</td>\n",
       "      <td>3</td>\n",
       "      <td>14</td>\n",
       "      <td>2019-05-21</td>\n",
       "      <td>MIRADOR</td>\n",
       "      <td>4.761663</td>\n",
       "      <td>...</td>\n",
       "      <td>6.0</td>\n",
       "      <td>1.0</td>\n",
       "      <td>NaN</td>\n",
       "      <td>NaN</td>\n",
       "      <td>NaN</td>\n",
       "      <td>05:20:00</td>\n",
       "      <td>2.0</td>\n",
       "      <td>2.0</td>\n",
       "      <td>4.0</td>\n",
       "      <td>Hombre</td>\n",
       "    </tr>\n",
       "    <tr>\n",
       "      <th>2</th>\n",
       "      <td>7091</td>\n",
       "      <td>17081</td>\n",
       "      <td>2</td>\n",
       "      <td>UTAM9</td>\n",
       "      <td>8534</td>\n",
       "      <td>3</td>\n",
       "      <td>14</td>\n",
       "      <td>2019-05-21</td>\n",
       "      <td>MIRADOR</td>\n",
       "      <td>4.761663</td>\n",
       "      <td>...</td>\n",
       "      <td>NaN</td>\n",
       "      <td>1.0</td>\n",
       "      <td>NaN</td>\n",
       "      <td>NaN</td>\n",
       "      <td>NaN</td>\n",
       "      <td>14:00:00</td>\n",
       "      <td>2.0</td>\n",
       "      <td>2.0</td>\n",
       "      <td>4.0</td>\n",
       "      <td>Mujer</td>\n",
       "    </tr>\n",
       "    <tr>\n",
       "      <th>3</th>\n",
       "      <td>7092</td>\n",
       "      <td>17081</td>\n",
       "      <td>2</td>\n",
       "      <td>UTAM9</td>\n",
       "      <td>8534</td>\n",
       "      <td>3</td>\n",
       "      <td>14</td>\n",
       "      <td>2019-05-21</td>\n",
       "      <td>MIRADOR</td>\n",
       "      <td>4.761663</td>\n",
       "      <td>...</td>\n",
       "      <td>NaN</td>\n",
       "      <td>1.0</td>\n",
       "      <td>NaN</td>\n",
       "      <td>NaN</td>\n",
       "      <td>NaN</td>\n",
       "      <td>14:00:00</td>\n",
       "      <td>2.0</td>\n",
       "      <td>2.0</td>\n",
       "      <td>4.0</td>\n",
       "      <td>Mujer</td>\n",
       "    </tr>\n",
       "    <tr>\n",
       "      <th>4</th>\n",
       "      <td>7096</td>\n",
       "      <td>P07096</td>\n",
       "      <td>1</td>\n",
       "      <td>UTAM9</td>\n",
       "      <td>8534</td>\n",
       "      <td>3</td>\n",
       "      <td>14</td>\n",
       "      <td>2019-05-21</td>\n",
       "      <td>MIRADOR DEL NORTE</td>\n",
       "      <td>4.761913</td>\n",
       "      <td>...</td>\n",
       "      <td>NaN</td>\n",
       "      <td>1.0</td>\n",
       "      <td>NaN</td>\n",
       "      <td>NaN</td>\n",
       "      <td>NaN</td>\n",
       "      <td>06:30:00</td>\n",
       "      <td>2.0</td>\n",
       "      <td>2.0</td>\n",
       "      <td>4.0</td>\n",
       "      <td>Mujer</td>\n",
       "    </tr>\n",
       "    <tr>\n",
       "      <th>...</th>\n",
       "      <td>...</td>\n",
       "      <td>...</td>\n",
       "      <td>...</td>\n",
       "      <td>...</td>\n",
       "      <td>...</td>\n",
       "      <td>...</td>\n",
       "      <td>...</td>\n",
       "      <td>...</td>\n",
       "      <td>...</td>\n",
       "      <td>...</td>\n",
       "      <td>...</td>\n",
       "      <td>...</td>\n",
       "      <td>...</td>\n",
       "      <td>...</td>\n",
       "      <td>...</td>\n",
       "      <td>...</td>\n",
       "      <td>...</td>\n",
       "      <td>...</td>\n",
       "      <td>...</td>\n",
       "      <td>...</td>\n",
       "      <td>...</td>\n",
       "    </tr>\n",
       "    <tr>\n",
       "      <th>105471</th>\n",
       "      <td>40322</td>\n",
       "      <td>P02949</td>\n",
       "      <td>1</td>\n",
       "      <td>UTAM570</td>\n",
       "      <td>20</td>\n",
       "      <td>5</td>\n",
       "      <td>8</td>\n",
       "      <td>2019-04-11</td>\n",
       "      <td>LA MARIA SOACHA</td>\n",
       "      <td>4.597883</td>\n",
       "      <td>...</td>\n",
       "      <td>NaN</td>\n",
       "      <td>1.0</td>\n",
       "      <td>NaN</td>\n",
       "      <td>NaN</td>\n",
       "      <td>NaN</td>\n",
       "      <td>06:05:00</td>\n",
       "      <td>2.0</td>\n",
       "      <td>2.0</td>\n",
       "      <td>4.0</td>\n",
       "      <td>Mujer</td>\n",
       "    </tr>\n",
       "    <tr>\n",
       "      <th>105472</th>\n",
       "      <td>40323</td>\n",
       "      <td>P02949</td>\n",
       "      <td>1</td>\n",
       "      <td>UTAM570</td>\n",
       "      <td>20</td>\n",
       "      <td>5</td>\n",
       "      <td>8</td>\n",
       "      <td>2019-04-11</td>\n",
       "      <td>LA MARIA SOACHA</td>\n",
       "      <td>4.597883</td>\n",
       "      <td>...</td>\n",
       "      <td>NaN</td>\n",
       "      <td>1.0</td>\n",
       "      <td>NaN</td>\n",
       "      <td>NaN</td>\n",
       "      <td>NaN</td>\n",
       "      <td>06:05:00</td>\n",
       "      <td>2.0</td>\n",
       "      <td>2.0</td>\n",
       "      <td>4.0</td>\n",
       "      <td>Mujer</td>\n",
       "    </tr>\n",
       "    <tr>\n",
       "      <th>105473</th>\n",
       "      <td>40324</td>\n",
       "      <td>P02949</td>\n",
       "      <td>1</td>\n",
       "      <td>UTAM570</td>\n",
       "      <td>20</td>\n",
       "      <td>5</td>\n",
       "      <td>8</td>\n",
       "      <td>2019-04-11</td>\n",
       "      <td>LA MARIA SOACHA</td>\n",
       "      <td>4.597883</td>\n",
       "      <td>...</td>\n",
       "      <td>NaN</td>\n",
       "      <td>1.0</td>\n",
       "      <td>NaN</td>\n",
       "      <td>NaN</td>\n",
       "      <td>NaN</td>\n",
       "      <td>06:05:00</td>\n",
       "      <td>2.0</td>\n",
       "      <td>2.0</td>\n",
       "      <td>4.0</td>\n",
       "      <td>Mujer</td>\n",
       "    </tr>\n",
       "    <tr>\n",
       "      <th>105474</th>\n",
       "      <td>40333</td>\n",
       "      <td>P02950</td>\n",
       "      <td>1</td>\n",
       "      <td>UTAM570</td>\n",
       "      <td>20</td>\n",
       "      <td>5</td>\n",
       "      <td>8</td>\n",
       "      <td>2019-04-11</td>\n",
       "      <td>LA MARIA SOACHA</td>\n",
       "      <td>4.597883</td>\n",
       "      <td>...</td>\n",
       "      <td>19.0</td>\n",
       "      <td>1.0</td>\n",
       "      <td>NaN</td>\n",
       "      <td>NaN</td>\n",
       "      <td>NaN</td>\n",
       "      <td>08:00:00</td>\n",
       "      <td>2.0</td>\n",
       "      <td>9.0</td>\n",
       "      <td>4.0</td>\n",
       "      <td>Mujer</td>\n",
       "    </tr>\n",
       "    <tr>\n",
       "      <th>105475</th>\n",
       "      <td>40335</td>\n",
       "      <td>P02950</td>\n",
       "      <td>1</td>\n",
       "      <td>UTAM570</td>\n",
       "      <td>20</td>\n",
       "      <td>5</td>\n",
       "      <td>8</td>\n",
       "      <td>2019-04-11</td>\n",
       "      <td>LA MARIA SOACHA</td>\n",
       "      <td>4.597883</td>\n",
       "      <td>...</td>\n",
       "      <td>19.0</td>\n",
       "      <td>1.0</td>\n",
       "      <td>NaN</td>\n",
       "      <td>NaN</td>\n",
       "      <td>NaN</td>\n",
       "      <td>08:00:00</td>\n",
       "      <td>2.0</td>\n",
       "      <td>9.0</td>\n",
       "      <td>4.0</td>\n",
       "      <td>Mujer</td>\n",
       "    </tr>\n",
       "  </tbody>\n",
       "</table>\n",
       "<p>105476 rows × 69 columns</p>\n",
       "</div>"
      ],
      "text/plain": [
       "        Unnamed: 0 id_hogar  Estado     Utam  Sector  Seccion  Manzana  \\\n",
       "0             7089    17081       2    UTAM9    8534        3       14   \n",
       "1             7090    17081       2    UTAM9    8534        3       14   \n",
       "2             7091    17081       2    UTAM9    8534        3       14   \n",
       "3             7092    17081       2    UTAM9    8534        3       14   \n",
       "4             7096   P07096       1    UTAM9    8534        3       14   \n",
       "...            ...      ...     ...      ...     ...      ...      ...   \n",
       "105471       40322   P02949       1  UTAM570      20        5        8   \n",
       "105472       40323   P02949       1  UTAM570      20        5        8   \n",
       "105473       40324   P02949       1  UTAM570      20        5        8   \n",
       "105474       40333   P02950       1  UTAM570      20        5        8   \n",
       "105475       40335   P02950       1  UTAM570      20        5        8   \n",
       "\n",
       "          p5_fecha p7_Barrio_vivienda   Latitud  ...  \\\n",
       "0       2019-05-21            MIRADOR  4.761663  ...   \n",
       "1       2019-05-21            MIRADOR  4.761663  ...   \n",
       "2       2019-05-21            MIRADOR  4.761663  ...   \n",
       "3       2019-05-21            MIRADOR  4.761663  ...   \n",
       "4       2019-05-21  MIRADOR DEL NORTE  4.761913  ...   \n",
       "...            ...                ...       ...  ...   \n",
       "105471  2019-04-11    LA MARIA SOACHA  4.597883  ...   \n",
       "105472  2019-04-11    LA MARIA SOACHA  4.597883  ...   \n",
       "105473  2019-04-11    LA MARIA SOACHA  4.597883  ...   \n",
       "105474  2019-04-11    LA MARIA SOACHA  4.597883  ...   \n",
       "105475  2019-04-11    LA MARIA SOACHA  4.597883  ...   \n",
       "\n",
       "        p7_id_actividad_economica  p7v_lugar_inicio_dia  p8v_barrio_vereda  \\\n",
       "0                             6.0                   1.0                NaN   \n",
       "1                             6.0                   1.0                NaN   \n",
       "2                             NaN                   1.0                NaN   \n",
       "3                             NaN                   1.0                NaN   \n",
       "4                             NaN                   1.0                NaN   \n",
       "...                           ...                   ...                ...   \n",
       "105471                        NaN                   1.0                NaN   \n",
       "105472                        NaN                   1.0                NaN   \n",
       "105473                        NaN                   1.0                NaN   \n",
       "105474                       19.0                   1.0                NaN   \n",
       "105475                       19.0                   1.0                NaN   \n",
       "\n",
       "        p9v_id_municipio  p9v_municipio  p10v_hora_salida  \\\n",
       "0                    NaN            NaN          05:20:00   \n",
       "1                    NaN            NaN          05:20:00   \n",
       "2                    NaN            NaN          14:00:00   \n",
       "3                    NaN            NaN          14:00:00   \n",
       "4                    NaN            NaN          06:30:00   \n",
       "...                  ...            ...               ...   \n",
       "105471               NaN            NaN          06:05:00   \n",
       "105472               NaN            NaN          06:05:00   \n",
       "105473               NaN            NaN          06:05:00   \n",
       "105474               NaN            NaN          08:00:00   \n",
       "105475               NaN            NaN          08:00:00   \n",
       "\n",
       "        p11v_condujo_vehiculo  p13v_condujo_bicicleta  p15v_subsidio_SITP  \\\n",
       "0                         2.0                     2.0                 4.0   \n",
       "1                         2.0                     2.0                 4.0   \n",
       "2                         2.0                     2.0                 4.0   \n",
       "3                         2.0                     2.0                 4.0   \n",
       "4                         2.0                     2.0                 4.0   \n",
       "...                       ...                     ...                 ...   \n",
       "105471                    2.0                     2.0                 4.0   \n",
       "105472                    2.0                     2.0                 4.0   \n",
       "105473                    2.0                     2.0                 4.0   \n",
       "105474                    2.0                     9.0                 4.0   \n",
       "105475                    2.0                     9.0                 4.0   \n",
       "\n",
       "          Sexo  \n",
       "0       Hombre  \n",
       "1       Hombre  \n",
       "2        Mujer  \n",
       "3        Mujer  \n",
       "4        Mujer  \n",
       "...        ...  \n",
       "105471   Mujer  \n",
       "105472   Mujer  \n",
       "105473   Mujer  \n",
       "105474   Mujer  \n",
       "105475   Mujer  \n",
       "\n",
       "[105476 rows x 69 columns]"
      ]
     },
     "execution_count": 2,
     "metadata": {},
     "output_type": "execute_result"
    }
   ],
   "source": [
    "great_df = pd.read_csv('Viajes_en_Bogota.csv')\n",
    "great_df"
   ]
  },
  {
   "cell_type": "markdown",
   "metadata": {},
   "source": [
    "Se separan las columnas zat_origen y zat_destino para poder hacer la red de movilidad "
   ]
  },
  {
   "cell_type": "code",
   "execution_count": 3,
   "metadata": {},
   "outputs": [
    {
     "data": {
      "text/html": [
       "<div>\n",
       "<style scoped>\n",
       "    .dataframe tbody tr th:only-of-type {\n",
       "        vertical-align: middle;\n",
       "    }\n",
       "\n",
       "    .dataframe tbody tr th {\n",
       "        vertical-align: top;\n",
       "    }\n",
       "\n",
       "    .dataframe thead th {\n",
       "        text-align: right;\n",
       "    }\n",
       "</style>\n",
       "<table border=\"1\" class=\"dataframe\">\n",
       "  <thead>\n",
       "    <tr style=\"text-align: right;\">\n",
       "      <th></th>\n",
       "      <th>zat_origen</th>\n",
       "      <th>zat_destino</th>\n",
       "      <th>viajes</th>\n",
       "    </tr>\n",
       "  </thead>\n",
       "  <tbody>\n",
       "    <tr>\n",
       "      <th>0</th>\n",
       "      <td>0.0</td>\n",
       "      <td>0.0</td>\n",
       "      <td>1</td>\n",
       "    </tr>\n",
       "    <tr>\n",
       "      <th>1</th>\n",
       "      <td>0.0</td>\n",
       "      <td>60.0</td>\n",
       "      <td>1</td>\n",
       "    </tr>\n",
       "    <tr>\n",
       "      <th>2</th>\n",
       "      <td>0.0</td>\n",
       "      <td>66.0</td>\n",
       "      <td>1</td>\n",
       "    </tr>\n",
       "    <tr>\n",
       "      <th>3</th>\n",
       "      <td>0.0</td>\n",
       "      <td>85.0</td>\n",
       "      <td>1</td>\n",
       "    </tr>\n",
       "    <tr>\n",
       "      <th>4</th>\n",
       "      <td>0.0</td>\n",
       "      <td>93.0</td>\n",
       "      <td>1</td>\n",
       "    </tr>\n",
       "    <tr>\n",
       "      <th>...</th>\n",
       "      <td>...</td>\n",
       "      <td>...</td>\n",
       "      <td>...</td>\n",
       "    </tr>\n",
       "    <tr>\n",
       "      <th>105471</th>\n",
       "      <td>1141.0</td>\n",
       "      <td>225.0</td>\n",
       "      <td>1</td>\n",
       "    </tr>\n",
       "    <tr>\n",
       "      <th>105472</th>\n",
       "      <td>1141.0</td>\n",
       "      <td>247.0</td>\n",
       "      <td>1</td>\n",
       "    </tr>\n",
       "    <tr>\n",
       "      <th>105473</th>\n",
       "      <td>1141.0</td>\n",
       "      <td>252.0</td>\n",
       "      <td>1</td>\n",
       "    </tr>\n",
       "    <tr>\n",
       "      <th>105474</th>\n",
       "      <td>1141.0</td>\n",
       "      <td>477.0</td>\n",
       "      <td>1</td>\n",
       "    </tr>\n",
       "    <tr>\n",
       "      <th>105475</th>\n",
       "      <td>1908.0</td>\n",
       "      <td>933.0</td>\n",
       "      <td>1</td>\n",
       "    </tr>\n",
       "  </tbody>\n",
       "</table>\n",
       "<p>105476 rows × 3 columns</p>\n",
       "</div>"
      ],
      "text/plain": [
       "        zat_origen  zat_destino  viajes\n",
       "0              0.0          0.0       1\n",
       "1              0.0         60.0       1\n",
       "2              0.0         66.0       1\n",
       "3              0.0         85.0       1\n",
       "4              0.0         93.0       1\n",
       "...            ...          ...     ...\n",
       "105471      1141.0        225.0       1\n",
       "105472      1141.0        247.0       1\n",
       "105473      1141.0        252.0       1\n",
       "105474      1141.0        477.0       1\n",
       "105475      1908.0        933.0       1\n",
       "\n",
       "[105476 rows x 3 columns]"
      ]
     },
     "execution_count": 3,
     "metadata": {},
     "output_type": "execute_result"
    }
   ],
   "source": [
    "df_red_adj = (great_df[['zat_origen','zat_destino']]\n",
    "                    .sort_values(by = ['zat_origen','zat_destino'])\n",
    "                    .dropna()\n",
    "                    .reset_index())\n",
    "df_red_adj['viajes'] = 1\n",
    "df_red_adj = df_red_adj.drop(columns  = ['index'])\n",
    "df_red_adj"
   ]
  },
  {
   "cell_type": "markdown",
   "metadata": {},
   "source": [
    "Hay un error a la hora de transformar las matrices de adyasencia en redes a partir de NetworkX, no existen las columnas 1061 y 959, lo sual quiere decir que nadie va hacia 1061 y 959, pero de la misma manera, no existen las filas 308 y 478, es decir, nadie sale de 308 y 478,por lo cual toca crear dichas filas y columnas para que la matriz se mantenga simetrica, pero para mantener la dirección, estas filas y columnas se llenaran de ceros. \n",
    "\n",
    "En el primer notebook la zona 959 presentaba problemas pero no la 1061, seguramente sea que alguien de otro municipio fuera de bogota llegaba a dicha zona, pero por el filtrado ya esa coneccion no existe."
   ]
  },
  {
   "cell_type": "code",
   "execution_count": 4,
   "metadata": {},
   "outputs": [],
   "source": [
    "# Creacion de la matriz de adyacencia pesada \n",
    "matrix_w = (df_red_adj.groupby(['zat_origen', 'zat_destino'], as_index = False)['viajes']\n",
    "                     .agg('sum')\n",
    "                     .pivot_table(values = ('viajes'), index = 'zat_origen', columns = 'zat_destino')\n",
    "                     .fillna(0))\n",
    "matrix_w[959] = 0\n",
    "matrix_w[1061] = 0\n",
    "matrix_w.loc[308] = 0\n",
    "matrix_w.loc[478] = 0"
   ]
  },
  {
   "cell_type": "code",
   "execution_count": 5,
   "metadata": {},
   "outputs": [],
   "source": [
    "# Creacion de la matriz de adyacencia sin pesar\n",
    "matrix_unw = (df_red_adj.drop_duplicates()\n",
    "                     .pivot_table(values = ('viajes'), index = 'zat_origen', columns = 'zat_destino')\n",
    "                     .fillna(0))\n",
    "matrix_unw[959] = 0\n",
    "matrix_unw[1061] = 0\n",
    "matrix_unw.loc[308] = 0\n",
    "matrix_unw.loc[478] = 0"
   ]
  },
  {
   "cell_type": "code",
   "execution_count": 6,
   "metadata": {},
   "outputs": [
    {
     "data": {
      "text/plain": [
       "array([11001., 25754.])"
      ]
     },
     "execution_count": 6,
     "metadata": {},
     "output_type": "execute_result"
    }
   ],
   "source": [
    "np.unique(great_df['mun_destino'].values)"
   ]
  },
  {
   "cell_type": "markdown",
   "metadata": {},
   "source": [
    "Ya con las matrices de adyacencia corregidas de manera satisfactoria, manteniendo la matriz cuadrada (como debe ser), ya se proceden a crear las redes pertinentes para empezar el analisis del problema, las cuales son, red simple sin pesar, red dirigida sin pesar, red pesada no dirigida y red pesada dirigida."
   ]
  },
  {
   "cell_type": "code",
   "execution_count": 7,
   "metadata": {},
   "outputs": [],
   "source": [
    "# Creacion de los grafos\n",
    "und_unw_graph = nx.from_pandas_adjacency(matrix_unw)\n",
    "d_unw_graph = nx.from_pandas_adjacency(matrix_unw, create_using = nx.DiGraph)\n",
    "und_w_graph = nx.from_pandas_adjacency(matrix_w)\n",
    "d_w_graph = nx.from_pandas_adjacency(matrix_w, create_using = nx.DiGraph)"
   ]
  },
  {
   "cell_type": "markdown",
   "metadata": {},
   "source": [
    "## Una pequeña muestra del grafo de movilidad del conjunto Bogota Soacha no dirigido sin pesar\n"
   ]
  },
  {
   "cell_type": "code",
   "execution_count": 47,
   "metadata": {},
   "outputs": [
    {
     "data": {
      "image/png": "[encoded data removed]",
      "text/plain": [
       "<Figure size 432x288 with 1 Axes>"
      ]
     },
     "metadata": {},
     "output_type": "display_data"
    }
   ],
   "source": [
    "nx.draw(und_unw_graph)"
   ]
  },
  {
   "cell_type": "markdown",
   "metadata": {},
   "source": [
    "## Funciones para grafos "
   ]
  },
  {
   "cell_type": "code",
   "execution_count": 8,
   "metadata": {},
   "outputs": [],
   "source": [
    "# Se define la funcion de distribucion del grado\n",
    "def degree_dist(G):\n",
    "    degree = dict(G.degree())\n",
    "    values_x = sorted(set(degree.values()))\n",
    "    dist_y = [list(degree.values()).count(x) for x in values_x]\n",
    "    return values_x, dist_y\n",
    "\n",
    "def in_out_degree(G):\n",
    "    in_degree = dict(G.in_degree())\n",
    "    out_degree = dict(G.out_degree())\n",
    "    in_x = sorted(set(in_degree.values()))\n",
    "    out_x = sorted(set(out_degree.values()))\n",
    "    in_y = [list(in_degree.values()).count(x) for x in in_x]\n",
    "    out_y = [list(out_degree.values()).count(x) for x in out_x]\n",
    "    return in_x, in_y, out_x, out_y\n",
    "\n",
    "def mean_degree(G):\n",
    "    degree = dict(G.degree())\n",
    "    array = []\n",
    "    for i in degree.values():\n",
    "        array.append(i)\n",
    "    array = np.asarray(array)\n",
    "    return np.sum(array)/len(array)\n",
    "\n",
    "# para fuerza in in_out = 0, para fuerza out in_out = 1, para fuerza en general in_out = 1, creeeooo\n",
    "def nodal_strength(array, in_out):\n",
    "    my_array = []\n",
    "    for i in array:\n",
    "        count = 0\n",
    "        for j in array:\n",
    "            if j[in_out] == i[in_out]:\n",
    "                for k in j[2].values():\n",
    "                    count = count +k\n",
    "        my_array.append((count, i[in_out]))\n",
    "    my_array = list(set(my_array))\n",
    "    my_array.sort(reverse = True) \n",
    "    return my_array\n",
    "\n",
    "# Funcion para completar las matrices de adyacencia y poder crear la red.\n",
    "def what_index_columns(matrix):\n",
    "    index = []\n",
    "    columns = []\n",
    "    for i in matrix.index:\n",
    "        if i not in matrix.columns:\n",
    "            columns.append(i)\n",
    "    for i in matrix.columns:\n",
    "        if i not in matrix.index:\n",
    "            index.append(i)\n",
    "    return index, columns\n",
    "\n",
    "# Agrega las filas y columnas faltantes     \n",
    "def index_columns(matrix, index, columns):\n",
    "    for i in index:\n",
    "        matrix.loc[i] = 0\n",
    "    for j in columns:\n",
    "        matrix[j] = 0\n",
    "        \n",
    "# Se calcula la densidad de una red \n",
    "def density(G):\n",
    "    dn = 2*G.number_of_edges()/(len(G)**2-1)\n",
    "    return dn"
   ]
  },
  {
   "cell_type": "markdown",
   "metadata": {},
   "source": [
    "## Funciones del resto"
   ]
  },
  {
   "cell_type": "code",
   "execution_count": 177,
   "metadata": {},
   "outputs": [],
   "source": [
    "# Se define una funcion exponencial para poder ajustar las curvas\n",
    "def expo(x1, a, b):\n",
    "    return a*np.exp(-b*x1)\n",
    "\n",
    "# Se definde la ley de potencias \n",
    "def pow_law(x, a, b):\n",
    "    return a*pow(x, -b)\n",
    "\n",
    "# Funcion para el R^2\n",
    "def r_squared(xdata, ydata, popt):\n",
    "    residuals = ydata - expo(xdata, popt[0], popt[1])\n",
    "    ss_res = np.sum(residuals**2.0)\n",
    "    ss_tot = np.sum((ydata-np.mean(ydata))**2.0)\n",
    "    r = 1 - (ss_res / ss_tot)\n",
    "    return r\n",
    "\n",
    "# Se define la funcion que cuenta cada elemento en un areglo\n",
    "def count(array):\n",
    "    y_dist = np.asarray([list(array).count(x) for x in np.unique(array)])\n",
    "    x_dist = np.asarray([x for x in np.unique(array)])\n",
    "    return x_dist, y_dist\n",
    "\n",
    "# Cambia los datos de hora a tipo datatime \n",
    "def to_time(clmn):\n",
    "    array = []\n",
    "    for i in clmn:\n",
    "        array.append(datetime.datetime.strptime(i, '%H:%M:%S').time())\n",
    "    return array\n",
    "\n",
    "# Funcion en la que se aplica el metodo de newman\n",
    "def newman(array):\n",
    "    my_array = []\n",
    "    for i in range(len(array)):\n",
    "        P = sum(array[i:])\n",
    "        my_array.append(P)\n",
    "    return my_array"
   ]
  },
  {
   "cell_type": "markdown",
   "metadata": {},
   "source": [
    "### Grado y analisis de la red\n",
    "En esta sección se analisan las principales cantidades del grafo simple, y tambien la distribución del grado, la cual es aporximadamente exponencial (a ojo)."
   ]
  },
  {
   "cell_type": "code",
   "execution_count": 157,
   "metadata": {},
   "outputs": [
    {
     "name": "stderr",
     "output_type": "stream",
     "text": [
      "/opt/anaconda3/lib/python3.7/site-packages/ipykernel_launcher.py:3: RuntimeWarning: overflow encountered in exp\n",
      "  This is separate from the ipykernel package so we can avoid doing imports until\n"
     ]
    }
   ],
   "source": [
    "x, y = degree_dist(und_unw_graph)\n",
    "x = np.asarray(x)\n",
    "y = np.asarray(y)\n",
    "popt1, pcov1 = curve_fit(expo, xdata = x, ydata = y)\n",
    "xspace = np.linspace(0,400, num = 400)"
   ]
  },
  {
   "cell_type": "code",
   "execution_count": 166,
   "metadata": {},
   "outputs": [
    {
     "data": {
      "text/plain": [
       "22826"
      ]
     },
     "execution_count": 166,
     "metadata": {},
     "output_type": "execute_result"
    }
   ],
   "source": [
    "sum(x[100:])"
   ]
  },
  {
   "cell_type": "code",
   "execution_count": 156,
   "metadata": {},
   "outputs": [
    {
     "data": {
      "image/png": "[encoded data removed]",
      "text/plain": [
       "<Figure size 720x504 with 1 Axes>"
      ]
     },
     "metadata": {
      "needs_background": "light"
     },
     "output_type": "display_data"
    }
   ],
   "source": [
    "plt.figure(figsize = (10,7))\n",
    "plt.semilogy(x, y, 'o')\n",
    "plt.semilogy(expo(xspace,popt1[0], popt1[1]), color = 'indigo', label = 'Ajuste exponencial')\n",
    "plt.vlines(mean_degree(und_unw_graph), 0, 16, color = 'r',label = 'Grado medio')\n",
    "plt.xlabel('Grado', fontsize=16)\n",
    "plt.ylabel('Frecuencia', fontsize=16)\n",
    "plt.legend()\n",
    "plt.grid()\n",
    "plt.show()"
   ]
  },
  {
   "cell_type": "code",
   "execution_count": 181,
   "metadata": {},
   "outputs": [
    {
     "name": "stderr",
     "output_type": "stream",
     "text": [
      "/opt/anaconda3/lib/python3.7/site-packages/ipykernel_launcher.py:3: RuntimeWarning: overflow encountered in exp\n",
      "  This is separate from the ipykernel package so we can avoid doing imports until\n",
      "/opt/anaconda3/lib/python3.7/site-packages/ipykernel_launcher.py:3: RuntimeWarning: overflow encountered in multiply\n",
      "  This is separate from the ipykernel package so we can avoid doing imports until\n"
     ]
    }
   ],
   "source": [
    "y_array = np.asarray(y)/sum(y)\n",
    "popt2, pcov2 = curve_fit(expo, xdata = x, ydata = y_array)\n",
    "y_newman = newman(y_array)\n",
    "popt3, pocv3 = curve_fit(expo, xdata = x, ydata = y_newman)"
   ]
  },
  {
   "cell_type": "code",
   "execution_count": 176,
   "metadata": {},
   "outputs": [
    {
     "data": {
      "text/plain": [
       "0.30188679245283107"
      ]
     },
     "execution_count": 176,
     "metadata": {},
     "output_type": "execute_result"
    }
   ],
   "source": [
    "sum(y_array[100:])"
   ]
  },
  {
   "cell_type": "code",
   "execution_count": 179,
   "metadata": {},
   "outputs": [
    {
     "data": {
      "image/png": "[encoded data removed]",
      "text/plain": [
       "<Figure size 720x504 with 1 Axes>"
      ]
     },
     "metadata": {
      "needs_background": "light"
     },
     "output_type": "display_data"
    }
   ],
   "source": [
    "plt.figure(figsize = (10,7))\n",
    "plt.plot(x, y_array, 'o')\n",
    "plt.plot(expo(xspace,popt2[0], popt2[1]), color = 'gold', label = 'Ajuste exponencial')\n",
    "plt.vlines(mean_degree(und_unw_graph), 0, 0.0175, color = 'g',label = 'Grado medio')\n",
    "plt.xlabel('Grado', fontsize=16)\n",
    "plt.ylabel('Probabilidad', fontsize=16)\n",
    "plt.legend()\n",
    "plt.grid()\n",
    "plt.show()"
   ]
  },
  {
   "cell_type": "code",
   "execution_count": 189,
   "metadata": {},
   "outputs": [
    {
     "data": {
      "image/png": "[encoded data removed]",
      "text/plain": [
       "<Figure size 720x504 with 1 Axes>"
      ]
     },
     "metadata": {
      "needs_background": "light"
     },
     "output_type": "display_data"
    }
   ],
   "source": [
    "plt.figure(figsize = (10,7))\n",
    "plt.plot(x, y_newman, 'o')\n",
    "plt.plot(expo(xspace,popt3[0], popt3[1]), color = 'g', label = 'Ajuste exponencial')\n",
    "#plt.vlines(mean_degree(und_unw_graph), 0, 0.0175, color = 'g',label = 'Grado medio')\n",
    "plt.xlabel('Grado', fontsize=16)\n",
    "plt.ylabel('CDF', fontsize=16)\n",
    "plt.legend()\n",
    "plt.grid()\n",
    "plt.show()"
   ]
  },
  {
   "cell_type": "code",
   "execution_count": 183,
   "metadata": {},
   "outputs": [
    {
     "name": "stdout",
     "output_type": "stream",
     "text": [
      "0.47062830470430184\n",
      "0.470628304708136\n",
      "0.9873748888513729\n"
     ]
    }
   ],
   "source": [
    "# Calculo del R^2 para ambos casos \n",
    "print(r_squared(x, y, popt1))\n",
    "print(r_squared(x, y_array, popt2))\n",
    "print(r_squared(x, y_newman, popt3))"
   ]
  },
  {
   "cell_type": "code",
   "execution_count": 23,
   "metadata": {},
   "outputs": [
    {
     "data": {
      "text/plain": [
       "array([8.37624927e+00, 7.12266035e-03])"
      ]
     },
     "execution_count": 23,
     "metadata": {},
     "output_type": "execute_result"
    }
   ],
   "source": [
    "popt1"
   ]
  },
  {
   "cell_type": "code",
   "execution_count": 16,
   "metadata": {},
   "outputs": [
    {
     "name": "stdout",
     "output_type": "stream",
     "text": [
      "36630\n",
      "901\n"
     ]
    }
   ],
   "source": [
    "print(und_unw_graph.number_of_edges())\n",
    "print(len(und_unw_graph))"
   ]
  },
  {
   "cell_type": "code",
   "execution_count": 14,
   "metadata": {},
   "outputs": [
    {
     "data": {
      "text/plain": [
       "0.09034406215316315"
      ]
     },
     "execution_count": 14,
     "metadata": {},
     "output_type": "execute_result"
    }
   ],
   "source": [
    "2*und_unw_graph.number_of_edges()/(len(und_unw_graph)*(len(und_unw_graph)-1))"
   ]
  },
  {
   "cell_type": "code",
   "execution_count": 17,
   "metadata": {},
   "outputs": [
    {
     "data": {
      "text/plain": [
       "81.30965593784684"
      ]
     },
     "execution_count": 17,
     "metadata": {},
     "output_type": "execute_result"
    }
   ],
   "source": [
    "2*und_unw_graph.number_of_edges()/len(und_unw_graph)"
   ]
  },
  {
   "cell_type": "code",
   "execution_count": 20,
   "metadata": {},
   "outputs": [
    {
     "data": {
      "text/plain": [
       "4"
      ]
     },
     "execution_count": 20,
     "metadata": {},
     "output_type": "execute_result"
    }
   ],
   "source": [
    "nx.diameter(und_unw_graph)"
   ]
  },
  {
   "cell_type": "markdown",
   "metadata": {},
   "source": [
    "Lo primero que toca hacer es describir la red. La red cuenta con un numero de nodos $n = 901$, los cuales cuentan con un total de $36630$ conecciones. El grafo cuenta con una densidad $\\Delta = 0.09034406215316315$ la cual es baja, es decir que la red no esta muy conectada, lo cual tambien se puede ver en el valor del grado medio de $k_{mean} = 81.31$ es mas de diez veces menor al numero de nodos presentes en la red, se puede decir que en una primera aproximacion, cada nodo solo se conecta con un decimo del total de nodos en la red. Por otra parte, el diametro de la red (como lo supuse), es de $4$, pero este valor no es muy relevante ya que lo mas probable es que nadie viaje entre los dos lugares que esten separados por cuatro conecciones, esas zonas deben ser algo como un potrero en Suachintown y otro en Torca.\n",
    "\n",
    "Depronto si el grafo se hiciera con zonificaciones mas grandes como UTAMS, este estaria mas interconectado.\n",
    "\n",
    "Como se puede ver en las dos graficas, tanto de frecuencia como de probabilidad, paraciera ser (de una manera demasiado aproximada e intuitiva, por ahora no muy rigurosa) que estas siguen una ley exponencial. Claramente, para poder concluir esto se debe tener cierto tratamiento de los datos, pero de llegar a ser cierto, esto significaria que en esta curiosa situacion, hay alguna cantidad que se conserva en el sistema, la cuestion es, ¿cual?.\n",
    "\n",
    "Como era de esperarse, para ambos casos, el de frecuencia y el de probabilidad, el $R^2$ da muy bajito (nos extraña? no nos extraña), el cual da un valor para ambos casos de $R^2 = 0.4706$, lo cual oooobviiaameeenteeee quiere decir que que no ajustan mucho, seguramente podria poner alguna curva tipo poission o lo que sea y el ajuste de mas que es el mismo, lo que de verdad toca hacer es ver si se puede hacer un histograma (bien hecho) que de razon del tipo de distribución.\n",
    "\n",
    "Pooor fiiiiiiin con el metodo de Newman ya se puede decir con toda la seguridad que la distribucion del grado en Bogota y Soacha es una ley exponencial en donde con toda seguridad se conserva alguna cantidad. El ajuste exponencial de los datos tratados como Newman ($P = p(X > x)$) tiene un $R^2 = 0.9874$, lo cual quiere decir que es un muy buen ajuste."
   ]
  },
  {
   "cell_type": "code",
   "execution_count": 19,
   "metadata": {},
   "outputs": [
    {
     "data": {
      "text/plain": [
       "{276.0: 389,\n",
       " 322.0: 342,\n",
       " 275.0: 340,\n",
       " 299.0: 326,\n",
       " 354.0: 315,\n",
       " 454.0: 297,\n",
       " 997.0: 297,\n",
       " 167.0: 295,\n",
       " 456.0: 294,\n",
       " 255.0: 291}"
      ]
     },
     "execution_count": 19,
     "metadata": {},
     "output_type": "execute_result"
    }
   ],
   "source": [
    "# Zonas con mayor grado \n",
    "degree_dict = dict(und_unw_graph.degree())\n",
    "sorted_d = dict( sorted(degree_dict.items(), key=operator.itemgetter(1),reverse=True))\n",
    "dict_degree = dict(itertools.islice(sorted_d.items(), 10))\n",
    "dict_degree"
   ]
  },
  {
   "cell_type": "markdown",
   "metadata": {},
   "source": [
    "Aca se pueden ver cuales son las zonas (ZAT) con mayor grado en la ciudad. Dado que aun no se esta trabajando con la red pesada, no se puede decir que son las zonas a las que mas viaja la gente, lo que si se puede decir es que estan zonas que se conectan con mas zonas en la ciudad por medio de, a lo sumo, un viaje, es decir, personas de toda la ciudad viajan a estos lugares."
   ]
  },
  {
   "cell_type": "markdown",
   "metadata": {},
   "source": [
    "| Zat | Zona            | Grado |\n",
    "|-----|-----------------|-------|\n",
    "| 276 | Marly           | 389   |\n",
    "| 322 | Salitre         | 342   |\n",
    "| 275 | Hippies         | 340   |\n",
    "| 299 | Jardin botanico | 326   |\n",
    "| 354 | U Tadeo         | 315   |\n",
    "| 454 | ASAB            | 297   |\n",
    "| 997 | Fiscalia        | 297   |\n",
    "| 167 | La Castellana   | 295   |\n",
    "| 456 | Museo del oro   | 294   |\n",
    "| 255 | Lourdes         | 291   |"
   ]
  },
  {
   "cell_type": "markdown",
   "metadata": {},
   "source": [
    "Aca se pueden ver particularmente tres grupos en especifico que se conecten por medio de viajes con el resto de la ciudad, y estos son __Chapinero central__, __Salitre__ y __El centro__, junto con la castellana. Todo el pentagono entre la calle 65, calle 45, carreras 7 y avenida caracas presentan un grado altisimo. Al igual que la zona del centro comprendida por la calle 26, Jimenez, carrera 3 y 7, junto con la zona que rodea la carrera 13 por la plaza de san victorino. La zona salitre esta comprendida por la avenida La Esperanza desde el bunquer hasta la avenida Rojas, cruza la 26 e incluye el area del Jardin botanico. \n",
    "\n",
    "Algo que se puede resaltar es la importancia de la carrera 13 como eje de \"simetria\" para una de estas agrupaciones, con suma importancia tambien en la zona __Centro__.\n",
    "\n",
    "Uno puede hacerse la imagen de que estas tres zonas estan organizadas por los ejes dados por dos grandes avenidas, la 26 y la caracas."
   ]
  },
  {
   "cell_type": "markdown",
   "metadata": {},
   "source": [
    "### Grado in y out de la red dirigida"
   ]
  },
  {
   "cell_type": "code",
   "execution_count": 10,
   "metadata": {},
   "outputs": [],
   "source": [
    "x_in, y_in, x_out, y_out = in_out_degree(d_unw_graph)"
   ]
  },
  {
   "cell_type": "code",
   "execution_count": 11,
   "metadata": {},
   "outputs": [
    {
     "data": {
      "image/png": "[encoded data removed]",
      "text/plain": [
       "<Figure size 720x504 with 1 Axes>"
      ]
     },
     "metadata": {
      "needs_background": "light"
     },
     "output_type": "display_data"
    }
   ],
   "source": [
    "plt.figure(figsize = (10,7))\n",
    "plt.plot(x_in, y_in, 'o')\n",
    "#plt.plot(x_out, y_out, 'p')\n",
    "#plt.vlines(mean_degree(und_unw_graph), 0, 16, color = 'r',label = 'Grado medio')\n",
    "plt.xlabel('Grado de entrada', fontsize=16)\n",
    "plt.ylabel('Frecuencia', fontsize=16)\n",
    "#plt.legend()\n",
    "plt.grid()\n",
    "plt.show()"
   ]
  },
  {
   "cell_type": "markdown",
   "metadata": {},
   "source": [
    "Parece ser que el grado de entrada se comporta aun mejor como ley exponencial."
   ]
  },
  {
   "cell_type": "code",
   "execution_count": 12,
   "metadata": {},
   "outputs": [
    {
     "data": {
      "image/png": "[encoded data removed]",
      "text/plain": [
       "<Figure size 720x504 with 1 Axes>"
      ]
     },
     "metadata": {
      "needs_background": "light"
     },
     "output_type": "display_data"
    }
   ],
   "source": [
    "plt.figure(figsize = (10,7))\n",
    "plt.plot(x_out, y_out, 'o')\n",
    "#plt.plot(x_out, y_out, 'p')\n",
    "#plt.vlines(mean_degree(und_unw_graph), 0, 16, color = 'r',label = 'Grado medio')\n",
    "plt.xlabel('Grado de salida', fontsize=16)\n",
    "plt.ylabel('Frecuencia', fontsize=16)\n",
    "#plt.legend()\n",
    "plt.grid()\n",
    "plt.show()"
   ]
  },
  {
   "cell_type": "markdown",
   "metadata": {},
   "source": [
    "Ya el grado de salida se comporta mas raro, incluso parece no comportarse como una ley de potencias, lo cual es interesante pero me puede joder la vida."
   ]
  },
  {
   "cell_type": "markdown",
   "metadata": {},
   "source": [
    "Lo que se realizo a continuacion es un mero intento por ver algun tipo de correlacin entre las frecuencias de entrada y de salida, por mero desparche, pero esto seguramente debe hacerse con mucho mas cuidado. "
   ]
  },
  {
   "cell_type": "code",
   "execution_count": 14,
   "metadata": {},
   "outputs": [
    {
     "data": {
      "image/png": "[encoded data removed]",
      "text/plain": [
       "<Figure size 432x288 with 1 Axes>"
      ]
     },
     "metadata": {
      "needs_background": "light"
     },
     "output_type": "display_data"
    }
   ],
   "source": [
    "y_exp = y_out+[0,0,0,0]\n",
    "plt.plot(y_in, y_exp, 'o')\n",
    "plt.xlabel('Grado de entrada')\n",
    "plt.ylabel('Grado de salida')\n",
    "plt.show()"
   ]
  },
  {
   "cell_type": "markdown",
   "metadata": {},
   "source": [
    "El siguiente paso a realizar es el de ver de donde salen y hacia donde van mas personas, lo cual seguramente sera muy parecido al caso del grafo sin pesar, pero podemos llevarnos varias sorpresas."
   ]
  },
  {
   "cell_type": "code",
   "execution_count": 66,
   "metadata": {},
   "outputs": [
    {
     "name": "stdout",
     "output_type": "stream",
     "text": [
      "{276.0: 334, 322.0: 282, 275.0: 279, 299.0: 275, 354.0: 267, 997.0: 253, 167.0: 244, 255.0: 242, 454.0: 238, 456.0: 236} \t {276.0: 321, 322.0: 280, 275.0: 272, 354.0: 264, 299.0: 253, 255.0: 244, 456.0: 244, 167.0: 241, 997.0: 240, 454.0: 237} \t {276.0: 389, 322.0: 342, 275.0: 340, 299.0: 326, 354.0: 315, 454.0: 297, 997.0: 297, 167.0: 295, 456.0: 294, 255.0: 291}\n"
     ]
    }
   ],
   "source": [
    "# Zonas con mayor grado \n",
    "degree_dict_in = dict(d_unw_graph.in_degree())\n",
    "degree_dict_out = dict(d_unw_graph.out_degree())\n",
    "sorted_in = dict( sorted(degree_dict_in.items(), key=operator.itemgetter(1),reverse=True))\n",
    "sorted_out = dict( sorted(degree_dict_out.items(), key=operator.itemgetter(1),reverse=True))\n",
    "\n",
    "dict_in = dict(itertools.islice(sorted_in.items(), 10))\n",
    "dict_out = dict(itertools.islice(sorted_out.items(), 10))\n",
    "\n",
    "print(dict_in, '\\t', dict_out, '\\t', dict_degree)"
   ]
  },
  {
   "cell_type": "code",
   "execution_count": 71,
   "metadata": {},
   "outputs": [
    {
     "name": "stdout",
     "output_type": "stream",
     "text": [
      "276.0\n",
      "322.0\n",
      "275.0\n",
      "354.0\n",
      "299.0\n",
      "255.0\n",
      "456.0\n",
      "167.0\n",
      "997.0\n",
      "454.0\n"
     ]
    }
   ],
   "source": [
    "for i in dict_out.keys():\n",
    "    #if i in dict_degree.keys():\n",
    "    print(i)"
   ]
  },
  {
   "cell_type": "markdown",
   "metadata": {},
   "source": [
    "Como se puede ver en los anteriores codigos, tanto para el grado de entrada como el de salida, se conservan las mismas zonas para el caso de el grafo no dirigido."
   ]
  },
  {
   "cell_type": "markdown",
   "metadata": {},
   "source": [
    "### Clusterizacion"
   ]
  },
  {
   "cell_type": "markdown",
   "metadata": {},
   "source": [
    "Aca se va a calcular la distribucion para el indice de clusterizacion en la red simple sin pesar."
   ]
  },
  {
   "cell_type": "code",
   "execution_count": 13,
   "metadata": {},
   "outputs": [],
   "source": [
    "def cluster_dist(G):\n",
    "    cluster = nx.clustering(G).values()\n",
    "    cluster_x = sorted(set(cluster))\n",
    "    cluster_y = [list(cluster).count(x) for x in cluster_x]\n",
    "    #hist = [list(bog.values()).count(x) for x in values]\n",
    "    return cluster_x, cluster_y"
   ]
  },
  {
   "cell_type": "code",
   "execution_count": 75,
   "metadata": {},
   "outputs": [],
   "source": [
    "clust_x, clust_y = cluster_dist(und_unw_graph)"
   ]
  },
  {
   "cell_type": "code",
   "execution_count": 77,
   "metadata": {},
   "outputs": [
    {
     "data": {
      "image/png": "[encoded data removed]",
      "text/plain": [
       "<Figure size 720x504 with 1 Axes>"
      ]
     },
     "metadata": {
      "needs_background": "light"
     },
     "output_type": "display_data"
    }
   ],
   "source": [
    "plt.figure(figsize = (10,7))\n",
    "plt.plot(clust_x, clust_y, 'o')\n",
    "plt.xlabel('Clustering', fontsize = 14)\n",
    "plt.ylabel('Frecuencia', fontsize = 14)\n",
    "plt.grid()\n",
    "plt.show()"
   ]
  },
  {
   "cell_type": "code",
   "execution_count": 91,
   "metadata": {},
   "outputs": [
    {
     "data": {
      "text/plain": [
       "0.26208088454731154"
      ]
     },
     "execution_count": 91,
     "metadata": {},
     "output_type": "execute_result"
    }
   ],
   "source": [
    "nx.average_clustering(und_unw_graph)"
   ]
  },
  {
   "cell_type": "code",
   "execution_count": 14,
   "metadata": {},
   "outputs": [
    {
     "data": {
      "text/plain": [
       "{790.0: 1.0,\n",
       " 84.0: 1.0,\n",
       " 268.0: 1.0,\n",
       " 797.0: 1.0,\n",
       " 1040.0: 1.0,\n",
       " 1052.0: 1.0,\n",
       " 763.0: 0.6666666666666666,\n",
       " 770.0: 0.6666666666666666,\n",
       " 43.0: 0.6,\n",
       " 789.0: 0.6}"
      ]
     },
     "execution_count": 14,
     "metadata": {},
     "output_type": "execute_result"
    }
   ],
   "source": [
    "cluster = nx.clustering(und_unw_graph)\n",
    "degree_dict = dict(und_unw_graph.degree())\n",
    "sorted_c = dict( sorted(cluster.items(), key=operator.itemgetter(1),reverse=True))\n",
    "dict_cluster = dict(itertools.islice(sorted_c.items(), 10))\n",
    "dict_cluster"
   ]
  },
  {
   "cell_type": "markdown",
   "metadata": {},
   "source": [
    "Como se puede notar, el clustering promedio de toda la red es de $0.262$, lo cual significa que en promedio, si dos zonas estan conectadas y uno de estos esta conectado a otro, hay mas o menos una probabilidad de 0.26 de que los  otros dos esten conectados.\n",
    "\n",
    "Como se puede ver en la grafica de fecuencia de clustering, hay com unos seis nodos en los cuales el clustering es 1, lo cual muestra una subestructura totalmente conectada, posteriormente se verificara cuales zonas componen esa estructura interna.\n",
    "\n",
    "Como se puede ver, existe un conjunto de seis zonas cuyo indice de clusterizacion es de 1, vamos a ver cuales son.\n",
    "Es algo bastante extraño este fenomeno de clusterizacion dado que son zonas que uno no pensaria de esa manera, van desde la casa de Duque, la parte de atras del parque nacional y Quiba alta en ciudad bolivar, las otras tres zonas no estan en la base de datos, lo cual me hace repensar el filtrado de datos o encontrar una mejor base de datos de la que yo cuento.\n",
    "Un patron interesante que siguen las diez zonas con mayor clusterizacion es que todas son zonas pocos pobladas de los cerros orientales. Por debajo de los que tienen clusterizacion 1, estan otras zonas que cumplen mas o mens con la descripcion dada anteriorente, zonas alejadas y poco pobladas de los cerros, como la zona despejada despues de Casablanca en Suba y la ciudadela de Colsubsidio en la autopista sur saliendo de suacha. "
   ]
  },
  {
   "cell_type": "code",
   "execution_count": 43,
   "metadata": {},
   "outputs": [
    {
     "name": "stdout",
     "output_type": "stream",
     "text": [
      "(789.0, 6)\n"
     ]
    }
   ],
   "source": [
    "for i in und_unw_graph.degree():\n",
    "    if i[0] == 789:\n",
    "        print(i)"
   ]
  },
  {
   "cell_type": "code",
   "execution_count": 51,
   "metadata": {},
   "outputs": [
    {
     "name": "stdout",
     "output_type": "stream",
     "text": [
      "(763.0, 761.0)\n",
      "(763.0, 735.0)\n",
      "(763.0, 1001.0)\n",
      "(763.0, 725.0)\n"
     ]
    }
   ],
   "source": [
    "for i in und_unw_graph.edges():\n",
    "    if 763 in i:\n",
    "        print(i)"
   ]
  },
  {
   "cell_type": "markdown",
   "metadata": {},
   "source": [
    "En el anterior codigo se buscó cual es el grado de cada una de estas zonas, las de clustering 1 tenian un grado de 2, y a medida que uno bajaba dicho grado iba aumentando, seria interesante ver cuales son las conecciones que tiene cada uno de estos nodos (al menos los que se pueden ubicar).\n",
    "\n",
    "Las conexiones que presentan dichos nodos de clusterizacion 1 son muy raros y me hacen pensar en lo bien que estan tratados los datos y me genera preocupacion sobre los numeros de las ZAT."
   ]
  },
  {
   "cell_type": "markdown",
   "metadata": {},
   "source": [
    "### Analisis de la red pesada"
   ]
  },
  {
   "cell_type": "code",
   "execution_count": 14,
   "metadata": {},
   "outputs": [
    {
     "name": "stdout",
     "output_type": "stream",
     "text": [
      "{0: 175, 1: 7, 2: 2, 3: 4, 4: 40, 945.0: 39, 932.0: 159, 798.0: 5, 790.0: 2, 767.0: 61, 763.0: 4, 740.0: 73, 737.0: 7, 716.0: 67, 714.0: 52, 694.0: 54, 692.0: 48, 987.0: 89, 676.0: 12, 674.0: 59}\n",
      "{0: 175, 1: 7, 2: 2, 3: 4, 4: 40, 945.0: 39, 932.0: 159, 798.0: 5, 790.0: 2, 767.0: 61, 763.0: 4, 740.0: 73, 737.0: 7, 716.0: 67, 714.0: 52, 694.0: 54, 692.0: 48, 987.0: 89, 676.0: 12, 674.0: 59}\n"
     ]
    }
   ],
   "source": [
    "print(dict(itertools.islice(dict(und_w_graph.degree()).items(), 20)))\n",
    "print(dict(itertools.islice(dict(und_unw_graph.degree()).items(), 20)))"
   ]
  },
  {
   "cell_type": "code",
   "execution_count": 118,
   "metadata": {},
   "outputs": [],
   "source": [
    "# Se aisla el valor de cada coneccion en la red\n",
    "w_array = list(und_w_graph.edges(data = True)) "
   ]
  },
  {
   "cell_type": "markdown",
   "metadata": {},
   "source": [
    "Lo que tocara hacer es sacar la fuerza a punta de pandas porque no di como hacerlo con networkx"
   ]
  },
  {
   "cell_type": "code",
   "execution_count": 134,
   "metadata": {},
   "outputs": [
    {
     "data": {
      "text/html": [
       "<div>\n",
       "<style scoped>\n",
       "    .dataframe tbody tr th:only-of-type {\n",
       "        vertical-align: middle;\n",
       "    }\n",
       "\n",
       "    .dataframe tbody tr th {\n",
       "        vertical-align: top;\n",
       "    }\n",
       "\n",
       "    .dataframe thead th {\n",
       "        text-align: right;\n",
       "    }\n",
       "</style>\n",
       "<table border=\"1\" class=\"dataframe\">\n",
       "  <thead>\n",
       "    <tr style=\"text-align: right;\">\n",
       "      <th></th>\n",
       "      <th>zat_origen</th>\n",
       "      <th>w_out</th>\n",
       "    </tr>\n",
       "  </thead>\n",
       "  <tbody>\n",
       "    <tr>\n",
       "      <th>314</th>\n",
       "      <td>322.0</td>\n",
       "      <td>607</td>\n",
       "    </tr>\n",
       "    <tr>\n",
       "      <th>269</th>\n",
       "      <td>276.0</td>\n",
       "      <td>606</td>\n",
       "    </tr>\n",
       "    <tr>\n",
       "      <th>755</th>\n",
       "      <td>782.0</td>\n",
       "      <td>560</td>\n",
       "    </tr>\n",
       "    <tr>\n",
       "      <th>519</th>\n",
       "      <td>530.0</td>\n",
       "      <td>554</td>\n",
       "    </tr>\n",
       "    <tr>\n",
       "      <th>346</th>\n",
       "      <td>354.0</td>\n",
       "      <td>524</td>\n",
       "    </tr>\n",
       "    <tr>\n",
       "      <th>268</th>\n",
       "      <td>275.0</td>\n",
       "      <td>509</td>\n",
       "    </tr>\n",
       "    <tr>\n",
       "      <th>850</th>\n",
       "      <td>1001.0</td>\n",
       "      <td>495</td>\n",
       "    </tr>\n",
       "    <tr>\n",
       "      <th>545</th>\n",
       "      <td>557.0</td>\n",
       "      <td>493</td>\n",
       "    </tr>\n",
       "    <tr>\n",
       "      <th>847</th>\n",
       "      <td>997.0</td>\n",
       "      <td>492</td>\n",
       "    </tr>\n",
       "    <tr>\n",
       "      <th>309</th>\n",
       "      <td>317.0</td>\n",
       "      <td>483</td>\n",
       "    </tr>\n",
       "  </tbody>\n",
       "</table>\n",
       "</div>"
      ],
      "text/plain": [
       "     zat_origen  w_out\n",
       "314       322.0    607\n",
       "269       276.0    606\n",
       "755       782.0    560\n",
       "519       530.0    554\n",
       "346       354.0    524\n",
       "268       275.0    509\n",
       "850      1001.0    495\n",
       "545       557.0    493\n",
       "847       997.0    492\n",
       "309       317.0    483"
      ]
     },
     "execution_count": 134,
     "metadata": {},
     "output_type": "execute_result"
    }
   ],
   "source": [
    "# Dataframe en donde se muestra de donde salen mas viajes \n",
    "df_w_out = (df_red_adj.groupby('zat_origen')['viajes']\n",
    "                     .sum()\n",
    "                     .reset_index()\n",
    "                     .rename(columns = {'viajes':'w_out'})\n",
    "                     .sort_values(by = ['w_out'], ascending = False))\n",
    "df_w_out.head(10)"
   ]
  },
  {
   "cell_type": "code",
   "execution_count": 135,
   "metadata": {},
   "outputs": [
    {
     "data": {
      "text/html": [
       "<div>\n",
       "<style scoped>\n",
       "    .dataframe tbody tr th:only-of-type {\n",
       "        vertical-align: middle;\n",
       "    }\n",
       "\n",
       "    .dataframe tbody tr th {\n",
       "        vertical-align: top;\n",
       "    }\n",
       "\n",
       "    .dataframe thead th {\n",
       "        text-align: right;\n",
       "    }\n",
       "</style>\n",
       "<table border=\"1\" class=\"dataframe\">\n",
       "  <thead>\n",
       "    <tr style=\"text-align: right;\">\n",
       "      <th></th>\n",
       "      <th>zat_destino</th>\n",
       "      <th>w_in</th>\n",
       "    </tr>\n",
       "  </thead>\n",
       "  <tbody>\n",
       "    <tr>\n",
       "      <th>269</th>\n",
       "      <td>276.0</td>\n",
       "      <td>622</td>\n",
       "    </tr>\n",
       "    <tr>\n",
       "      <th>315</th>\n",
       "      <td>322.0</td>\n",
       "      <td>617</td>\n",
       "    </tr>\n",
       "    <tr>\n",
       "      <th>757</th>\n",
       "      <td>782.0</td>\n",
       "      <td>555</td>\n",
       "    </tr>\n",
       "    <tr>\n",
       "      <th>521</th>\n",
       "      <td>530.0</td>\n",
       "      <td>538</td>\n",
       "    </tr>\n",
       "    <tr>\n",
       "      <th>347</th>\n",
       "      <td>354.0</td>\n",
       "      <td>522</td>\n",
       "    </tr>\n",
       "    <tr>\n",
       "      <th>268</th>\n",
       "      <td>275.0</td>\n",
       "      <td>515</td>\n",
       "    </tr>\n",
       "    <tr>\n",
       "      <th>805</th>\n",
       "      <td>951.0</td>\n",
       "      <td>502</td>\n",
       "    </tr>\n",
       "    <tr>\n",
       "      <th>851</th>\n",
       "      <td>1001.0</td>\n",
       "      <td>495</td>\n",
       "    </tr>\n",
       "    <tr>\n",
       "      <th>848</th>\n",
       "      <td>997.0</td>\n",
       "      <td>493</td>\n",
       "    </tr>\n",
       "    <tr>\n",
       "      <th>547</th>\n",
       "      <td>557.0</td>\n",
       "      <td>486</td>\n",
       "    </tr>\n",
       "  </tbody>\n",
       "</table>\n",
       "</div>"
      ],
      "text/plain": [
       "     zat_destino  w_in\n",
       "269        276.0   622\n",
       "315        322.0   617\n",
       "757        782.0   555\n",
       "521        530.0   538\n",
       "347        354.0   522\n",
       "268        275.0   515\n",
       "805        951.0   502\n",
       "851       1001.0   495\n",
       "848        997.0   493\n",
       "547        557.0   486"
      ]
     },
     "execution_count": 135,
     "metadata": {},
     "output_type": "execute_result"
    }
   ],
   "source": [
    "# Dataframe hacia donde llegan mas viajes \n",
    "df_w_in = (df_red_adj.groupby('zat_destino')['viajes']\n",
    "                     .sum()\n",
    "                     .reset_index()\n",
    "                     .rename(columns = {'viajes':'w_in'})\n",
    "                     .sort_values(by = ['w_in'], ascending = False))\n",
    "df_w_in.head(10)"
   ]
  },
  {
   "cell_type": "code",
   "execution_count": 136,
   "metadata": {},
   "outputs": [
    {
     "name": "stdout",
     "output_type": "stream",
     "text": [
      "117.32591768631814\n",
      "117.32591768631814\n"
     ]
    }
   ],
   "source": [
    "x_in, y_in = count(np.asarray(df_w_in['w_in']))\n",
    "x_out, y_out = count(np.asarray(df_w_out['w_out']))\n",
    "str_in_mean = np.mean(np.asarray(df_w_in['w_in']))\n",
    "str_out_mean = np.mean(np.asarray(df_w_out['w_out']))\n",
    "print(str_out_mean)\n",
    "print(str_in_mean)"
   ]
  },
  {
   "cell_type": "code",
   "execution_count": 15,
   "metadata": {},
   "outputs": [
    {
     "data": {
      "text/plain": [
       "<matplotlib.legend.Legend at 0x1192fc8d0>"
      ]
     },
     "execution_count": 15,
     "metadata": {},
     "output_type": "execute_result"
    },
    {
     "data": {
      "image/png": "[encoded data removed]",
      "text/plain": [
       "<Figure size 720x504 with 1 Axes>"
      ]
     },
     "metadata": {
      "needs_background": "light"
     },
     "output_type": "display_data"
    }
   ],
   "source": [
    "# Distribucion de probabilidad de la fuerza nodal in \n",
    "plt.figure(figsize = (10,7))\n",
    "plt.plot(x_in, y_in/sum(y_in), 'o')\n",
    "plt.vlines(str_in_mean, 0, 0.0175, color = 'r',label = 'Fuerza media')\n",
    "plt.xlabel('Fuerza nodal in', fontsize = 14)\n",
    "plt.ylabel('Probabilidad', fontsize = 14)\n",
    "plt.legend()"
   ]
  },
  {
   "cell_type": "code",
   "execution_count": 17,
   "metadata": {},
   "outputs": [
    {
     "data": {
      "text/plain": [
       "<matplotlib.legend.Legend at 0x1026937550>"
      ]
     },
     "execution_count": 17,
     "metadata": {},
     "output_type": "execute_result"
    },
    {
     "data": {
      "image/png": "[encoded data removed]",
      "text/plain": [
       "<Figure size 720x504 with 1 Axes>"
      ]
     },
     "metadata": {
      "needs_background": "light"
     },
     "output_type": "display_data"
    }
   ],
   "source": [
    "# Distribucion de probabilidad de la fuerza nodal out \n",
    "plt.figure(figsize = (10,7))\n",
    "plt.plot(x_out, y_out/sum(y_out), 'o', color = 'g')\n",
    "plt.vlines(str_in_mean, 0, 0.0175, color = 'r',label = 'Fuerza media')\n",
    "plt.xlabel('Fuerza nodal out', fontsize = 14)\n",
    "plt.ylabel('Probabilidad', fontsize = 14)\n",
    "plt.legend()"
   ]
  },
  {
   "cell_type": "markdown",
   "metadata": {},
   "source": [
    "Pooooor fiiiiiiin hice el carajo estudio de la fuerza de los nodos. En su gran mayoria se mantiene el conjunto de los nodos con mayor grado, como lo es Marly, Salitre, Hippies, peeeroooooo se juntan zonas nuevas tanto de salida como de llegada. De salida los tres primeros lugares de donde salen viajes son Salitre, Marly y la autopista sur por la via que viene de Indumil. Tambien aparecen zonas como el portal americas y Bosa al final de la avenida Bosa XD y curiosamente al frente de hayuelos."
   ]
  },
  {
   "cell_type": "markdown",
   "metadata": {},
   "source": [
    "Para el caso de la entrada a los nodos, mas o menos se conserva el conjunto de entrada a excepcion de la zona de mundo aventura (Cuadra picha XD)."
   ]
  },
  {
   "cell_type": "markdown",
   "metadata": {},
   "source": [
    "Como se puede notar, excisten ciertas similaridades con el conjunto de nodos con mayor grado, pero no totalmente, como se puede notar, aparecen zonas que toca ver que grado tienen, pero salen y entran bastantes personas, en particular del portal de las americas, Bosa y Suachintown, que son de las zonas mas densamente pobladas en el area urbana. \n",
    "\n",
    "A manera de comentario se puede decir que efectivamente el metro se mueve por las zonas por donde viaja mas gente en su gran mayoria, pero tambien con una gran alerta hacai soacha, esta tiene la tercera zona por por la cual se hacen mas viajes y ni siquiera llega el transmilenio alla, mostrando de una manera simple la gran necesidad de este municipio por un transporte eficiente."
   ]
  },
  {
   "cell_type": "code",
   "execution_count": 20,
   "metadata": {},
   "outputs": [],
   "source": [
    "df_links = (df_red_adj.groupby(['zat_origen', 'zat_destino'], as_index = False)['viajes']\n",
    "                      .sum()\n",
    "                      .rename(columns = {'viajes':'links'})\n",
    "                      .sort_values(by = ['links'], ascending = False))\n",
    "x_link, y_link = count(np.asarray(df_links['links']))\n",
    "w_links_mean = np.mean(np.asarray(df_links['links']))"
   ]
  },
  {
   "cell_type": "code",
   "execution_count": 17,
   "metadata": {},
   "outputs": [],
   "source": [
    "popt3, pcov3 = curve_fit(pow_law, xdata = x_link, ydata = y_link)\n",
    "xspace = np.linspace(0.7,max(x_link), num = max(x_link))"
   ]
  },
  {
   "cell_type": "code",
   "execution_count": 18,
   "metadata": {},
   "outputs": [
    {
     "data": {
      "text/plain": [
       "<matplotlib.legend.Legend at 0x10206f3cd0>"
      ]
     },
     "execution_count": 18,
     "metadata": {},
     "output_type": "execute_result"
    },
    {
     "data": {
      "image/png": "[encoded data removed]",
      "text/plain": [
       "<Figure size 720x504 with 1 Axes>"
      ]
     },
     "metadata": {
      "needs_background": "light"
     },
     "output_type": "display_data"
    }
   ],
   "source": [
    "# Distribucion de probabilidad del peso de las conecciones en la red\n",
    "plt.figure(figsize = (10,7))\n",
    "plt.loglog(x_link, y_link/sum(y_link), 'o', color = 'g')\n",
    "#plt.loglog(pow_law(xspace,popt3[0], popt3[1]), color = 'b', label = 'Ajuste ley de potencia')\n",
    "plt.vlines(w_links_mean, 0, 0.75, color = 'blueviolet',label = 'Peso medio')\n",
    "plt.xlabel('Peso de las conexiones', fontsize = 14)\n",
    "plt.ylabel('Probabilidad', fontsize = 14)\n",
    "plt.legend()"
   ]
  },
  {
   "cell_type": "markdown",
   "metadata": {},
   "source": [
    "Esta es definitivamente la mejor grafica que he tenido en toda la tesis :v, pero no esta ajustando bien a una ley de potencias, lo cual es bastante raro y me preocuopa un poco, lo que creo que podria estar pasadno es queno puedo definir la ley de potencias asi tan a la ligera y tambien seguir el proceso que sugiere newman en su articulo de leyes de potencia.\n",
    "Se encontro que el peso medio de las conecciones en la red es de 1.77, lo cual quiere decir que matar las conecciones desolo uno y considerar solo conecciones por encima de la media es la misma joda (dos pajaros de un solo tiro).\n",
    "\n",
    "A partir de este df_liks se pueden crear las otras redes en donde el peso de las conecciones es mayor a 1 de manera facil, seria hacer el pivot_table y sale.\n",
    "\n",
    "Excisten muuuchiiisimaaas conexiones que son bucles :( entonces tocara bajarse de dichas conexiones y ver que pasa con todas las cosas que he hecho.\n",
    "\n",
    "La parte de la grafica tal ves se solucione con la propuesta de Newman."
   ]
  },
  {
   "cell_type": "code",
   "execution_count": 21,
   "metadata": {},
   "outputs": [],
   "source": [
    "df_links['viajes'] = 1"
   ]
  },
  {
   "cell_type": "code",
   "execution_count": 37,
   "metadata": {},
   "outputs": [
    {
     "data": {
      "text/html": [
       "<div>\n",
       "<style scoped>\n",
       "    .dataframe tbody tr th:only-of-type {\n",
       "        vertical-align: middle;\n",
       "    }\n",
       "\n",
       "    .dataframe tbody tr th {\n",
       "        vertical-align: top;\n",
       "    }\n",
       "\n",
       "    .dataframe thead th {\n",
       "        text-align: right;\n",
       "    }\n",
       "</style>\n",
       "<table border=\"1\" class=\"dataframe\">\n",
       "  <thead>\n",
       "    <tr style=\"text-align: right;\">\n",
       "      <th></th>\n",
       "      <th>zat_origen</th>\n",
       "      <th>zat_destino</th>\n",
       "      <th>links</th>\n",
       "      <th>viajes</th>\n",
       "    </tr>\n",
       "  </thead>\n",
       "  <tbody>\n",
       "    <tr>\n",
       "      <th>58274</th>\n",
       "      <td>1001.0</td>\n",
       "      <td>1001.0</td>\n",
       "      <td>172</td>\n",
       "      <td>1</td>\n",
       "    </tr>\n",
       "    <tr>\n",
       "      <th>54918</th>\n",
       "      <td>932.0</td>\n",
       "      <td>932.0</td>\n",
       "      <td>150</td>\n",
       "      <td>1</td>\n",
       "    </tr>\n",
       "    <tr>\n",
       "      <th>40562</th>\n",
       "      <td>542.0</td>\n",
       "      <td>542.0</td>\n",
       "      <td>145</td>\n",
       "      <td>1</td>\n",
       "    </tr>\n",
       "    <tr>\n",
       "      <th>41733</th>\n",
       "      <td>557.0</td>\n",
       "      <td>557.0</td>\n",
       "      <td>142</td>\n",
       "      <td>1</td>\n",
       "    </tr>\n",
       "    <tr>\n",
       "      <th>52449</th>\n",
       "      <td>777.0</td>\n",
       "      <td>777.0</td>\n",
       "      <td>138</td>\n",
       "      <td>1</td>\n",
       "    </tr>\n",
       "  </tbody>\n",
       "</table>\n",
       "</div>"
      ],
      "text/plain": [
       "       zat_origen  zat_destino  links  viajes\n",
       "58274      1001.0       1001.0    172       1\n",
       "54918       932.0        932.0    150       1\n",
       "40562       542.0        542.0    145       1\n",
       "41733       557.0        557.0    142       1\n",
       "52449       777.0        777.0    138       1"
      ]
     },
     "execution_count": 37,
     "metadata": {},
     "output_type": "execute_result"
    }
   ],
   "source": [
    "df_links[df_links['links'] > 1].head()"
   ]
  },
  {
   "cell_type": "markdown",
   "metadata": {},
   "source": [
    "### Filtrado \n",
    "\n",
    "En esta parte del trabajo se mocharon todas las conecciones cuyo peso es uno, lo cual coincide a ser por encima del promedio XD, y se analisan las propiedades estructurales de este nuevo grafo."
   ]
  },
  {
   "cell_type": "code",
   "execution_count": 22,
   "metadata": {},
   "outputs": [],
   "source": [
    "# Matris de adyacencia sin pesar de la red con conecciones > 1\n",
    "matrix_unw_w1 = (df_links[df_links['links'] > 1]\n",
    "                     .pivot_table(values = ('viajes'), index = 'zat_origen', columns = 'zat_destino')\n",
    "                     .fillna(0))\n",
    "matrix_unw_w1[959] = 0\n",
    "matrix_unw_w1[1061] = 0\n",
    "matrix_unw_w1.loc[308] = 0\n",
    "matrix_unw_w1.loc[478] = 0   "
   ]
  },
  {
   "cell_type": "code",
   "execution_count": 23,
   "metadata": {},
   "outputs": [],
   "source": [
    "# Matris de adyacencia pesada de la red con conecciones > 1\n",
    "matrix_w_w1 = (df_links[df_links['links'] > 1]\n",
    "                     .pivot_table(values = ('links'), index = 'zat_origen', columns = 'zat_destino')\n",
    "                     .fillna(0))\n",
    "matrix_w_w1[959] = 0\n",
    "matrix_w_w1[1061] = 0\n",
    "matrix_w_w1.loc[308] = 0\n",
    "matrix_w_w1.loc[478] = 0"
   ]
  },
  {
   "cell_type": "code",
   "execution_count": 24,
   "metadata": {},
   "outputs": [],
   "source": [
    "# Funcion para ver que filas y columnas faltan \n",
    "index = []\n",
    "columns = []\n",
    "for i in matrix_unw_w1.index:\n",
    "    if i not in matrix_w_w1.columns:\n",
    "        columns.append(i)\n",
    "for i in matrix_unw_w1.columns:\n",
    "    if i not in matrix_w_w1.index:\n",
    "        index.append(i)\n",
    "def index_columns(matrix, index, columns):\n",
    "    for i in index:\n",
    "        matrix.loc[i] = 0\n",
    "    for j in columns:\n",
    "        matrix[j] = 0\n",
    "\n",
    "index_columns(matrix_unw_w1, index, columns)\n",
    "index_columns(matrix_w_w1, index, columns)"
   ]
  },
  {
   "cell_type": "code",
   "execution_count": 25,
   "metadata": {},
   "outputs": [],
   "source": [
    "# Construccion de las redes \n",
    "und_unw_graph_w1 = nx.from_pandas_adjacency(matrix_unw_w1)\n",
    "d_unw_graph_w1 = nx.from_pandas_adjacency(matrix_unw_w1, create_using = nx.DiGraph)\n",
    "und_w_graph_w1 = nx.from_pandas_adjacency(matrix_w_w1)\n",
    "d_w_graph_w1 = nx.from_pandas_adjacency(matrix_w_w1, create_using = nx.DiGraph)"
   ]
  },
  {
   "cell_type": "code",
   "execution_count": 26,
   "metadata": {},
   "outputs": [
    {
     "name": "stdout",
     "output_type": "stream",
     "text": [
      "[959.0, 478.0, 308.0, 1061.0]\n",
      "[959.0, 478.0, 308.0, 1061.0]\n",
      "[959.0, 478.0, 308.0, 1061.0]\n",
      "[959.0, 478.0, 308.0, 1061.0]\n"
     ]
    }
   ],
   "source": [
    "# Nodos aislados\n",
    "print(list(nx.isolates(und_unw_graph_w1)))\n",
    "print(list(nx.isolates(d_unw_graph_w1)))\n",
    "print(list(nx.isolates(und_w_graph_w1)))\n",
    "print(list(nx.isolates(d_w_graph_w1)))\n",
    "\n",
    "und_unw_graph_w1.remove_nodes_from(list(nx.isolates(und_unw_graph_w1)))\n",
    "d_unw_graph_w1.remove_nodes_from(list(nx.isolates(d_unw_graph_w1)))\n",
    "und_w_graph_w1.remove_nodes_from(list(nx.isolates(und_w_graph_w1)))\n",
    "d_w_graph_w1.remove_nodes_from(list(nx.isolates(d_w_graph_w1)))"
   ]
  },
  {
   "cell_type": "markdown",
   "metadata": {},
   "source": [
    "Los nodos que quedaron aislados son de zonas dondeliteral no hay nada XD, uno es por el humedal torca, el centro deportivo de la uniandes y un potrero al pie del aeropuerto cerca a la 13."
   ]
  },
  {
   "cell_type": "markdown",
   "metadata": {},
   "source": [
    "Lo que se va a hacer a continuacion es ver las propiedades primordiales de la red y ver esta joa como cambio"
   ]
  },
  {
   "cell_type": "code",
   "execution_count": 27,
   "metadata": {},
   "outputs": [
    {
     "name": "stdout",
     "output_type": "stream",
     "text": [
      "850\n",
      "10159\n",
      "0.028121838230917965\n",
      "23.903529411764705\n"
     ]
    }
   ],
   "source": [
    "# Propiedades de la red\n",
    "nodes = len(und_unw_graph_w1)\n",
    "edges = und_unw_graph_w1.number_of_edges()\n",
    "rho = 2*edges/((nodes*nodes)-1)\n",
    "k_mean = 2*edges/nodes\n",
    "#diameter = nx.diameter(und_unw_graph_w1)\n",
    "print(nodes)\n",
    "print(edges)\n",
    "print(rho)\n",
    "print(k_mean)\n",
    "#print(diameter)"
   ]
  },
  {
   "cell_type": "markdown",
   "metadata": {},
   "source": [
    "Caaaaraaajoooooooo esta red cambio totalmente :o\n",
    "Psamos de tener $n = 901$ nodos a tener $n = 850$, las conecciones pasaron de ser $36630$ a $10159$, menos de un tercio de esa cantidad, es decir, esta red tiene mas o menos el 30% de las conecciones originales, el grado medio ahora tiene un vaor $k_{mean} = 23.9$, cuando antes esta tenia un valor de $81.31$, y la densidad antes era de $0.09034406215316315$, ahora es $\\Delta = 0.028121838230917965$, lo cual quiere decir que la red sin las conecciones con un solo viaje es un poco mas de tres veces menos densa, en concordancia con la proporcion entre cantidad de conecciones y densidad. \n",
    "En terminos practicos, ahora tenemos una red muchisimo menos densa que la original, toca ver como es la estructura de esta nueva red a partir del grado."
   ]
  },
  {
   "cell_type": "markdown",
   "metadata": {},
   "source": [
    "Analisis del grado de esta red"
   ]
  },
  {
   "cell_type": "code",
   "execution_count": 28,
   "metadata": {},
   "outputs": [
    {
     "name": "stderr",
     "output_type": "stream",
     "text": [
      "/opt/anaconda3/lib/python3.7/site-packages/ipykernel_launcher.py:3: RuntimeWarning: overflow encountered in exp\n",
      "  This is separate from the ipykernel package so we can avoid doing imports until\n"
     ]
    }
   ],
   "source": [
    "x1, y1 = degree_dist(und_unw_graph_w1)\n",
    "x1 = np.asarray(x1)\n",
    "y1 = np.asarray(y1)\n",
    "popt_1, pcov_1 = curve_fit(expo, xdata = x1, ydata = y1)\n",
    "xspace = np.linspace(0,180, num = 180)"
   ]
  },
  {
   "cell_type": "code",
   "execution_count": 29,
   "metadata": {},
   "outputs": [
    {
     "data": {
      "image/png": "[encoded data removed]",
      "text/plain": [
       "<Figure size 720x504 with 1 Axes>"
      ]
     },
     "metadata": {
      "needs_background": "light"
     },
     "output_type": "display_data"
    }
   ],
   "source": [
    "plt.figure(figsize = (10,7))\n",
    "plt.plot(x1, y1, 'o')\n",
    "plt.plot(expo(xspace,popt_1[0], popt_1[1]), color = 'indigo', label = 'Ajuste exponencial')\n",
    "plt.vlines(k_mean, 0, 40, color = 'r',label = 'Grado medio')\n",
    "plt.xlabel('Grado', fontsize=16)\n",
    "plt.ylabel('Frecuencia', fontsize=16)\n",
    "plt.legend()\n",
    "plt.grid()\n",
    "plt.show()"
   ]
  },
  {
   "cell_type": "code",
   "execution_count": 136,
   "metadata": {},
   "outputs": [],
   "source": [
    "y_array1 = y1/sum(y1)\n",
    "popt2_1, pcov2_1 = curve_fit(expo, xdata = x1, ydata = y_array1)"
   ]
  },
  {
   "cell_type": "code",
   "execution_count": 138,
   "metadata": {},
   "outputs": [
    {
     "data": {
      "image/png": "[encoded data removed]",
      "text/plain": [
       "<Figure size 720x504 with 1 Axes>"
      ]
     },
     "metadata": {
      "needs_background": "light"
     },
     "output_type": "display_data"
    }
   ],
   "source": [
    "plt.figure(figsize = (10,7))\n",
    "plt.plot(x1, y_array1, 'o')\n",
    "plt.plot(expo(xspace,popt2_1[0], popt2_1[1]), color = 'gold', label = 'Ajuste exponencial')\n",
    "plt.vlines(k_mean, 0, 0.05, color = 'g',label = 'Grado medio')\n",
    "plt.xlabel('Grado', fontsize=16)\n",
    "plt.ylabel('Frecuencia', fontsize=16)\n",
    "plt.legend()\n",
    "plt.grid()\n",
    "plt.show()"
   ]
  },
  {
   "cell_type": "code",
   "execution_count": 130,
   "metadata": {},
   "outputs": [
    {
     "name": "stdout",
     "output_type": "stream",
     "text": [
      "0.8877874225836623\n"
     ]
    }
   ],
   "source": [
    "print(r_squared(x1, y_array1, popt2_1))"
   ]
  },
  {
   "cell_type": "markdown",
   "metadata": {},
   "source": [
    "Ahora si se puede decir con mas seguridad que la estructura que sigue la ciudad es la de una ley exponencial en donde definitvamente debe existir una cantidad conservada, quepara estos casos es $\\beta$ en el exponente de la distribucion $\\alpha e^{-\\beta x}$. El ajuste dio de manera muchisimo mas satisfactoria que la primera red, con un $R^2 = 0.8888$, lo cual ya da mas argumentos de peso para decir que la estructura del transporte en la ciudad sigue una ley exponencial, ya lo que toca hacer a continuacion es aplicar el metodo de newman para estar aun mas seguros de que la joda es exponencial.\n",
    "\n",
    "Algo que toca resaltar es que, al eliminar las conecciones con una sola persona, la distribucion si cambio bastante, la forma incluso mejoro pero por ejemplo, ahora el grado maximo es de $179$, mientras que antes era de $389$, se redujo casi a la mitad, mostrando que al menos la mitad de las conecciones de Marly eran de un solo viaje, pero se muestra el papel primordial de esta zona, porque perdio tan solo la mitad de las conecciones, no un tercio, como fue el comportamiento global de la red, de hecho, este comportamiento se mantiene en todas las zonas con mayor grado. Por otra parte las frecencias tambien cambiaron bastante, ahora hay mas ZATs con un grado $k = 1$, mientras que antes la distribucion tendia a \"achatarse\" mas, no se si sea correcto pero estas conecciones de un solo viaje podria decirse que eran \"ruido\" aunque no se si sea correcto pero es una hipotesis."
   ]
  },
  {
   "cell_type": "code",
   "execution_count": 30,
   "metadata": {},
   "outputs": [
    {
     "data": {
      "text/plain": [
       "{276.0: 179,\n",
       " 322.0: 140,\n",
       " 275.0: 131,\n",
       " 299.0: 124,\n",
       " 454.0: 119,\n",
       " 997.0: 119,\n",
       " 354.0: 116,\n",
       " 255.0: 116,\n",
       " 951.0: 113,\n",
       " 456.0: 110}"
      ]
     },
     "execution_count": 30,
     "metadata": {},
     "output_type": "execute_result"
    }
   ],
   "source": [
    "# Zonas de mayor grado \n",
    "degree_dict_w1 = dict(und_unw_graph_w1.degree())\n",
    "sorted_d_w1 = dict( sorted(degree_dict_w1.items(), key=operator.itemgetter(1),reverse=True))\n",
    "dict_degree_w1 = dict(itertools.islice(sorted_d_w1.items(), 10))\n",
    "dict_degree_w1"
   ]
  },
  {
   "cell_type": "markdown",
   "metadata": {},
   "source": [
    "Ahora no voy a hacer la tabla pero las zonas con mayor grado se mantienen, las aglomeraciones que se comentaron en el primer resultado se mantienen, lo que son Chapinero central, Salitre y el centro aun estan presentes, cambiaron un poco su orden pero ahi estan, pero algo que si cambio es que la candelaria ya no esta entre las 10 primeras zonas de mayor grado, si no que fue desplazada por la zona de Mundo Aventura (cuadra picha XD)."
   ]
  },
  {
   "cell_type": "code",
   "execution_count": 151,
   "metadata": {},
   "outputs": [
    {
     "name": "stderr",
     "output_type": "stream",
     "text": [
      "/opt/anaconda3/lib/python3.7/site-packages/ipykernel_launcher.py:3: RuntimeWarning: overflow encountered in exp\n",
      "  This is separate from the ipykernel package so we can avoid doing imports until\n"
     ]
    }
   ],
   "source": [
    "x1_in, y1_in, x1_out, y1_out = in_out_degree(d_unw_graph_w1)\n",
    "popt_in, pcov_in = curve_fit(expo, xdata = x1_in, ydata = y1_in)\n",
    "popt_out, pcov_out = curve_fit(expo, xdata = x1_out, ydata = y1_out)\n",
    "xspace_in_out = np.linspace(0,150, num = 150)"
   ]
  },
  {
   "cell_type": "code",
   "execution_count": 152,
   "metadata": {},
   "outputs": [
    {
     "data": {
      "image/png": "[encoded data removed]",
      "text/plain": [
       "<Figure size 720x504 with 1 Axes>"
      ]
     },
     "metadata": {
      "needs_background": "light"
     },
     "output_type": "display_data"
    }
   ],
   "source": [
    "plt.figure(figsize = (10, 7))\n",
    "plt.plot(x1_in, y1_in, 'o')\n",
    "plt.plot(expo(xspace_in_out,popt_in[0], popt_in[1]), color = 'indigo', label = 'Ajuste exponencial')\n",
    "plt.xlabel('Grado de entrada', fontsize=16)\n",
    "plt.ylabel('Frecuencia', fontsize=16)\n",
    "plt.legend()\n",
    "plt.grid()\n",
    "plt.show()"
   ]
  },
  {
   "cell_type": "code",
   "execution_count": 153,
   "metadata": {},
   "outputs": [
    {
     "data": {
      "image/png": "[encoded data removed]",
      "text/plain": [
       "<Figure size 720x504 with 1 Axes>"
      ]
     },
     "metadata": {
      "needs_background": "light"
     },
     "output_type": "display_data"
    }
   ],
   "source": [
    "plt.figure(figsize = (10, 7))\n",
    "plt.plot(x1_out, y1_out, 'o')\n",
    "plt.plot(expo(xspace_in_out,popt_out[0], popt_out[1]), color = 'indigo', label = 'Ajuste exponencial')\n",
    "plt.xlabel('Grado de salida', fontsize=16)\n",
    "plt.ylabel('Frecuencia', fontsize=16)\n",
    "plt.legend()\n",
    "plt.grid()\n",
    "plt.show()"
   ]
  },
  {
   "cell_type": "code",
   "execution_count": 155,
   "metadata": {},
   "outputs": [
    {
     "name": "stdout",
     "output_type": "stream",
     "text": [
      "0.8210897337628497\n",
      "0.7920684907373171\n"
     ]
    }
   ],
   "source": [
    "print(r_squared(np.asarray(x1_in), np.asarray(y1_in), popt_in))\n",
    "print(r_squared(np.asarray(x1_out), np.asarray(y1_out), popt_out))"
   ]
  },
  {
   "cell_type": "markdown",
   "metadata": {},
   "source": [
    "Aca tambien se puede notar que de manera mejor aproximada y con mas confianza que, estas dos distribuciones de grado siguen una ley exponencial al igual que la global, con unos valores de $R^2$ aceptables, pues todo es mejor a los $R^2$ que obtuve en las primeras grafica."
   ]
  },
  {
   "cell_type": "code",
   "execution_count": 158,
   "metadata": {},
   "outputs": [
    {
     "name": "stdout",
     "output_type": "stream",
     "text": [
      "33\n",
      "36\n",
      "22\n",
      "31\n",
      "40\n",
      "33\n",
      "33\n",
      "32\n",
      "15\n",
      "20\n",
      "11\n",
      "11\n"
     ]
    }
   ],
   "source": [
    "for i in y1_in:\n",
    "    if i not in y1_out:\n",
    "        print(i)"
   ]
  },
  {
   "cell_type": "code",
   "execution_count": 161,
   "metadata": {},
   "outputs": [
    {
     "data": {
      "text/plain": [
       "<function matplotlib.pyplot.show(close=None, block=None)>"
      ]
     },
     "execution_count": 161,
     "metadata": {},
     "output_type": "execute_result"
    },
    {
     "data": {
      "image/png": "[encoded data removed]",
      "text/plain": [
       "<Figure size 720x504 with 1 Axes>"
      ]
     },
     "metadata": {
      "needs_background": "light"
     },
     "output_type": "display_data"
    }
   ],
   "source": [
    "# Correlacion \n",
    "plt.figure(figsize = (10, 7))\n",
    "plt.plot(y1_in, y1_out+[0,0,0,0], 'o')\n",
    "plt.xlabel('Grado de entrada', fontsize=16)\n",
    "plt.ylabel('Grado de salida', fontsize=16)\n",
    "plt.show"
   ]
  },
  {
   "cell_type": "markdown",
   "metadata": {},
   "source": [
    "Yo se que esta joda se hizo con las patadas y toca hacerla mejor peeeroooo se nota de una manera mas adecuada que se sigue una correlacion aproccimadamente lineal, tocaria rellenar bien el arreglo pero tiene buena pinta."
   ]
  },
  {
   "cell_type": "markdown",
   "metadata": {},
   "source": [
    "Hora de ver como cambio la clusterizacion"
   ]
  },
  {
   "cell_type": "code",
   "execution_count": 165,
   "metadata": {},
   "outputs": [],
   "source": [
    "clust1_x, clust1_y = cluster_dist(und_unw_graph_w1)"
   ]
  },
  {
   "cell_type": "code",
   "execution_count": 173,
   "metadata": {},
   "outputs": [
    {
     "data": {
      "text/plain": [
       "<function matplotlib.pyplot.show(close=None, block=None)>"
      ]
     },
     "execution_count": 173,
     "metadata": {},
     "output_type": "execute_result"
    },
    {
     "data": {
      "image/png": "[encoded data removed]",
      "text/plain": [
       "<Figure size 720x504 with 1 Axes>"
      ]
     },
     "metadata": {
      "needs_background": "light"
     },
     "output_type": "display_data"
    }
   ],
   "source": [
    "plt.figure(figsize = (10, 7))\n",
    "plt.plot(clust1_x, clust1_y, 'o')\n",
    "plt.xlabel('Clustering', fontsize=16)\n",
    "plt.ylabel('Frecuencia', fontsize=16)\n",
    "plt.grid()\n",
    "plt.show"
   ]
  },
  {
   "cell_type": "markdown",
   "metadata": {},
   "source": [
    "Pareciera que se conservo la misma \"forma\" (si a eso se le puede decir forma) del primer caso, y aumento el numero de nodos con clustering 1, pasando de 6 a 9."
   ]
  },
  {
   "cell_type": "code",
   "execution_count": 171,
   "metadata": {},
   "outputs": [
    {
     "data": {
      "text/plain": [
       "0.21651188961581722"
      ]
     },
     "execution_count": 171,
     "metadata": {},
     "output_type": "execute_result"
    }
   ],
   "source": [
    "nx.average_clustering(und_unw_graph_w1)"
   ]
  },
  {
   "cell_type": "code",
   "execution_count": 172,
   "metadata": {},
   "outputs": [
    {
     "data": {
      "text/plain": [
       "{700.0: 1.0,\n",
       " 788.0: 1.0,\n",
       " 844.0: 1.0,\n",
       " 104.0: 1.0,\n",
       " 331.0: 1.0,\n",
       " 103.0: 1.0,\n",
       " 545.0: 1.0,\n",
       " 57.0: 1.0,\n",
       " 763.0: 1.0,\n",
       " 594.0: 0.7}"
      ]
     },
     "execution_count": 172,
     "metadata": {},
     "output_type": "execute_result"
    }
   ],
   "source": [
    "cluster1 = nx.clustering(und_unw_graph_w1)\n",
    "degree_dict1 = dict(und_unw_graph_w1.degree())\n",
    "sorted_c1 = dict( sorted(cluster1.items(), key=operator.itemgetter(1),reverse=True))\n",
    "dict_cluster1 = dict(itertools.islice(sorted_c1.items(), 10))\n",
    "dict_cluster1"
   ]
  },
  {
   "cell_type": "markdown",
   "metadata": {},
   "source": [
    "El clustering promedio no cambio casi, pero si dismunuyo unas decimas.\n",
    "Por otra parte, aumento el numero de nodos cuyo clustering es 1, pasando de 6 a 9 nodos, cosa interesante, pero tiene sentido al disminuir las conecciones de la red.\n",
    "\n",
    "Aca con las zonas de alto clustering paso algo interesante, como muchas de las zonas en el estudio anteriror eran zonas bien alejadas, es muy probable que tuvieran el tipo de viajes filtrados, por lo cual todas se mocaron, y aparecieron cosas nuevas, varias de estas zonas presentan las mismas caracteristicas que las anteriores, zonas de periferia como usme pueblo y soratama (al lado de la mariposa), pero aparecieron zonas nuevas bien interesantes como la zona del rincon que colinda con el humedal, los parqueaderos de corferias, la embajada gringa y el 20 de julio."
   ]
  },
  {
   "cell_type": "code",
   "execution_count": 56,
   "metadata": {},
   "outputs": [],
   "source": [
    "w_array1 = list(d_w_graph_w1.edges(data = True)) "
   ]
  },
  {
   "cell_type": "code",
   "execution_count": 216,
   "metadata": {},
   "outputs": [
    {
     "data": {
      "text/plain": [
       "[(1, 3), (3, 3), (7, 1), (8, 1), (9, 3), (2, 3), (4, 1)]"
      ]
     },
     "execution_count": 216,
     "metadata": {},
     "output_type": "execute_result"
    }
   ],
   "source": [
    "p = [1,1,2,3,8,7,2,1,3,9,9,9,4,2,3]\n",
    "h = []\n",
    "for i in p:\n",
    "    count = 0\n",
    "    for ele in p:\n",
    "        if (ele == i):\n",
    "            count = count + 1\n",
    "    h.append((i, count))\n",
    "list(set(h))"
   ]
  },
  {
   "cell_type": "code",
   "execution_count": 57,
   "metadata": {},
   "outputs": [],
   "source": [
    "#funcion que saca la fortaleza de salida cada nodo \n",
    "array1 = []\n",
    "for i in w_array1:\n",
    "    count = 0\n",
    "    for j in w_array1:\n",
    "        if j[0] == i[0]:\n",
    "            for k in j[2].values():\n",
    "                count = count +k\n",
    "    array1.append((count, i[0]))\n",
    "array1 = list(set(array1))"
   ]
  },
  {
   "cell_type": "code",
   "execution_count": 83,
   "metadata": {},
   "outputs": [],
   "source": [
    "str_out = nodal_strength(w_array1, 1)\n",
    "str_in = nodal_strength(w_array1, 0)"
   ]
  },
  {
   "cell_type": "code",
   "execution_count": 101,
   "metadata": {},
   "outputs": [
    {
     "data": {
      "text/plain": [
       "843"
      ]
     },
     "execution_count": 101,
     "metadata": {},
     "output_type": "execute_result"
    }
   ],
   "source": [
    "len(str_out)"
   ]
  },
  {
   "cell_type": "code",
   "execution_count": 85,
   "metadata": {},
   "outputs": [
    {
     "data": {
      "text/plain": [
       "[(486.0, 782.0),\n",
       " (434.0, 322.0),\n",
       " (423.0, 276.0),\n",
       " (420.0, 530.0),\n",
       " (397.0, 557.0),\n",
       " (386.0, 1001.0),\n",
       " (380.0, 776.0),\n",
       " (378.0, 777.0),\n",
       " (357.0, 354.0),\n",
       " (348.0, 997.0)]"
      ]
     },
     "execution_count": 85,
     "metadata": {},
     "output_type": "execute_result"
    }
   ],
   "source": [
    "str_in[:10]"
   ]
  },
  {
   "cell_type": "markdown",
   "metadata": {},
   "source": [
    "Es muy interesante que a zona con mayor fuerza nodal es la zona de la plaza principal de suachintown, por debajo esta la zona de salitre, de pronto por la presencia del terminal influencia en eso, por debajo va marly, que es la que tiene el mayor grado, por debajo esta el portal de las americas y por metrovivienda en bosa."
   ]
  },
  {
   "cell_type": "code",
   "execution_count": 92,
   "metadata": {},
   "outputs": [],
   "source": [
    "w_array1_und = list(und_w_graph_w1.edges(data = True))"
   ]
  },
  {
   "cell_type": "code",
   "execution_count": 103,
   "metadata": {},
   "outputs": [
    {
     "data": {
      "text/plain": [
       "[(452.0, 782.0),\n",
       " (433.0, 276.0),\n",
       " (390.0, 322.0),\n",
       " (379.0, 1001.0),\n",
       " (376.0, 557.0),\n",
       " (370.0, 776.0),\n",
       " (369.0, 951.0),\n",
       " (367.0, 997.0),\n",
       " (349.0, 542.0),\n",
       " (349.0, 530.0)]"
      ]
     },
     "execution_count": 103,
     "metadata": {},
     "output_type": "execute_result"
    }
   ],
   "source": [
    "strength = nodal_strength(w_array1_und, 1)+nodal_strenght(w_array1_und, 0)\n",
    "strength.sort(reverse = True)\n",
    "strength[:10]"
   ]
  },
  {
   "cell_type": "code",
   "execution_count": 169,
   "metadata": {},
   "outputs": [],
   "source": [
    "# Hay que sacar la informacion de la fuerza nodal \n",
    "def extract(array):\n",
    "    my_array = []\n",
    "    for i in array:\n",
    "        my_array.append(i[0])\n",
    "    return np.asarray(my_array)\n",
    "array_str = extract(strength)\n",
    "array_in  = extract(str_in)\n",
    "array_out = extract(str_out)\n",
    "\n",
    "# Se sacan las distribuciones \n",
    "str_x, str_y = count(array_str)\n",
    "str_mean = np.mean(array_str) \n",
    "#in_x, in_y = count(np.asarray(str_in))\n",
    "#out_x, out_y = count (np.asarray(str_out))"
   ]
  },
  {
   "cell_type": "code",
   "execution_count": 170,
   "metadata": {},
   "outputs": [],
   "source": [
    "in_y = np.asarray([list(array_in).count(x) for x in np.unique(array_in)])\n",
    "in_x = np.asarray([x for x in np.unique(array_in)])\n",
    "in_mean = np.mean(array_in)\n",
    "out_y = np.asarray([list(array_out).count(x) for x in np.unique(array_out)])\n",
    "out_x = np.asarray([x for x in np.unique(array_out)])\n",
    "out_mean = np.mean(array_out)"
   ]
  },
  {
   "cell_type": "code",
   "execution_count": 184,
   "metadata": {},
   "outputs": [
    {
     "name": "stdout",
     "output_type": "stream",
     "text": [
      "73.51486325802615 73.34045077105576\n"
     ]
    }
   ],
   "source": [
    "print(in_mean, out_mean)"
   ]
  },
  {
   "cell_type": "code",
   "execution_count": 183,
   "metadata": {},
   "outputs": [
    {
     "data": {
      "image/png": "[encoded data removed]",
      "text/plain": [
       "<Figure size 720x504 with 1 Axes>"
      ]
     },
     "metadata": {
      "needs_background": "light"
     },
     "output_type": "display_data"
    }
   ],
   "source": [
    "plt.figure(figsize = (10,7))\n",
    "plt.plot(str_x, str_y/sum(str_y), 'o')\n",
    "plt.vlines(str_mean, 0, 0.06, color = 'r', label = 'Fortaleza media nodal')\n",
    "plt.xlabel('Fuerza nodal', fontsize = 14)\n",
    "plt.ylabel('Probabilidad', fontsize = 14) \n",
    "plt.legend()\n",
    "plt.show()"
   ]
  },
  {
   "cell_type": "code",
   "execution_count": 178,
   "metadata": {},
   "outputs": [
    {
     "data": {
      "text/plain": [
       "<matplotlib.legend.Legend at 0x10270ad350>"
      ]
     },
     "execution_count": 178,
     "metadata": {},
     "output_type": "execute_result"
    },
    {
     "data": {
      "image/png": "[encoded data removed]",
      "text/plain": [
       "<Figure size 720x504 with 1 Axes>"
      ]
     },
     "metadata": {
      "needs_background": "light"
     },
     "output_type": "display_data"
    }
   ],
   "source": [
    "plt.figure(figsize = (10,7))\n",
    "plt.plot(in_x, in_y/sum(in_y), 'o', color = 'g')\n",
    "plt.vlines(in_mean, 0, 0.04, color = 'r',label = 'Fuerza media')\n",
    "plt.xlabel('Fuerza nodal in', fontsize = 14)\n",
    "plt.ylabel('Probabilidad', fontsize = 14)\n",
    "plt.legend()"
   ]
  },
  {
   "cell_type": "code",
   "execution_count": 180,
   "metadata": {},
   "outputs": [
    {
     "data": {
      "text/plain": [
       "<matplotlib.legend.Legend at 0x10273d0090>"
      ]
     },
     "execution_count": 180,
     "metadata": {},
     "output_type": "execute_result"
    },
    {
     "data": {
      "image/png": "[encoded data removed]",
      "text/plain": [
       "<Figure size 720x504 with 1 Axes>"
      ]
     },
     "metadata": {
      "needs_background": "light"
     },
     "output_type": "display_data"
    }
   ],
   "source": [
    "plt.figure(figsize = (10,7))\n",
    "plt.plot(out_x, out_y/sum(out_y), 'o', color = 'goldenrod')\n",
    "plt.vlines(in_mean, 0, 0.042, color = 'r',label = 'Fuerza media')\n",
    "plt.xlabel('Fuerza nodal in', fontsize = 14)\n",
    "plt.ylabel('Probabilidad', fontsize = 14)\n",
    "plt.legend()"
   ]
  },
  {
   "cell_type": "markdown",
   "metadata": {},
   "source": [
    "## Propiedades de la red en funcion del tiempo"
   ]
  },
  {
   "cell_type": "markdown",
   "metadata": {},
   "source": [
    "En esta seccion se van a estudiar las propiedades pertinentes de la red tales como el grado promedio, la fortaleza nodal, el peso de los arcos en promedio en funcion del tiempo de la misma manera en la que encontre la cantidad de viajes dependiendo de la hora."
   ]
  },
  {
   "cell_type": "markdown",
   "metadata": {},
   "source": [
    "### El problema de las ZAT mayoreas a 1000"
   ]
  },
  {
   "cell_type": "markdown",
   "metadata": {},
   "source": [
    "Existe algo preocupante en la base de datos, y son las zonas de administracion de transporte que su numero de identificacion es mayor a 1000, estas no se encuentran representadas en la base de datos con la que cuento, por lo cual estaba indagando sobre estas zonas, que al parecer se encuentran en las zonas de periferia de Bogota y soacha, como zonas rurales y barrios en la frontera de Bogota, por lo cual es mas dificil localizarlos. Lo normal seria buscar otra base de datos (dificil), o mocharlos."
   ]
  },
  {
   "cell_type": "code",
   "execution_count": 92,
   "metadata": {},
   "outputs": [
    {
     "data": {
      "text/html": [
       "<div>\n",
       "<style scoped>\n",
       "    .dataframe tbody tr th:only-of-type {\n",
       "        vertical-align: middle;\n",
       "    }\n",
       "\n",
       "    .dataframe tbody tr th {\n",
       "        vertical-align: top;\n",
       "    }\n",
       "\n",
       "    .dataframe thead th {\n",
       "        text-align: right;\n",
       "    }\n",
       "</style>\n",
       "<table border=\"1\" class=\"dataframe\">\n",
       "  <thead>\n",
       "    <tr style=\"text-align: right;\">\n",
       "      <th></th>\n",
       "      <th>zat_origen</th>\n",
       "      <th>zat_destino</th>\n",
       "      <th>utam_origen</th>\n",
       "      <th>utam_destino</th>\n",
       "      <th>p8v_barrio_vereda</th>\n",
       "      <th>mun_origen</th>\n",
       "      <th>mun_destino</th>\n",
       "      <th>municipio</th>\n",
       "    </tr>\n",
       "  </thead>\n",
       "  <tbody>\n",
       "    <tr>\n",
       "      <th>9764</th>\n",
       "      <td>1016.0</td>\n",
       "      <td>11.0</td>\n",
       "      <td>UTAM1</td>\n",
       "      <td>UTAM9</td>\n",
       "      <td>NaN</td>\n",
       "      <td>11001.0</td>\n",
       "      <td>11001.0</td>\n",
       "      <td>11001</td>\n",
       "    </tr>\n",
       "    <tr>\n",
       "      <th>9768</th>\n",
       "      <td>1016.0</td>\n",
       "      <td>378.0</td>\n",
       "      <td>UTAM1</td>\n",
       "      <td>UTAM43</td>\n",
       "      <td>NaN</td>\n",
       "      <td>11001.0</td>\n",
       "      <td>11001.0</td>\n",
       "      <td>11001</td>\n",
       "    </tr>\n",
       "    <tr>\n",
       "      <th>65319</th>\n",
       "      <td>1016.0</td>\n",
       "      <td>657.0</td>\n",
       "      <td>UTAM1</td>\n",
       "      <td>UTAM62</td>\n",
       "      <td>NaN</td>\n",
       "      <td>11001.0</td>\n",
       "      <td>11001.0</td>\n",
       "      <td>11001</td>\n",
       "    </tr>\n",
       "    <tr>\n",
       "      <th>66895</th>\n",
       "      <td>1016.0</td>\n",
       "      <td>847.0</td>\n",
       "      <td>UTAM1</td>\n",
       "      <td>UTAM97</td>\n",
       "      <td>NaN</td>\n",
       "      <td>11001.0</td>\n",
       "      <td>11001.0</td>\n",
       "      <td>11001</td>\n",
       "    </tr>\n",
       "    <tr>\n",
       "      <th>93910</th>\n",
       "      <td>1016.0</td>\n",
       "      <td>133.0</td>\n",
       "      <td>UTAM1</td>\n",
       "      <td>UTAM24</td>\n",
       "      <td>NaN</td>\n",
       "      <td>11001.0</td>\n",
       "      <td>11001.0</td>\n",
       "      <td>11001</td>\n",
       "    </tr>\n",
       "    <tr>\n",
       "      <th>96961</th>\n",
       "      <td>1016.0</td>\n",
       "      <td>9.0</td>\n",
       "      <td>UTAM1</td>\n",
       "      <td>UTAM17</td>\n",
       "      <td>NaN</td>\n",
       "      <td>11001.0</td>\n",
       "      <td>11001.0</td>\n",
       "      <td>11001</td>\n",
       "    </tr>\n",
       "  </tbody>\n",
       "</table>\n",
       "</div>"
      ],
      "text/plain": [
       "       zat_origen  zat_destino utam_origen utam_destino p8v_barrio_vereda  \\\n",
       "9764       1016.0         11.0       UTAM1        UTAM9               NaN   \n",
       "9768       1016.0        378.0       UTAM1       UTAM43               NaN   \n",
       "65319      1016.0        657.0       UTAM1       UTAM62               NaN   \n",
       "66895      1016.0        847.0       UTAM1       UTAM97               NaN   \n",
       "93910      1016.0        133.0       UTAM1       UTAM24               NaN   \n",
       "96961      1016.0          9.0       UTAM1       UTAM17               NaN   \n",
       "\n",
       "       mun_origen  mun_destino  municipio  \n",
       "9764      11001.0      11001.0      11001  \n",
       "9768      11001.0      11001.0      11001  \n",
       "65319     11001.0      11001.0      11001  \n",
       "66895     11001.0      11001.0      11001  \n",
       "93910     11001.0      11001.0      11001  \n",
       "96961     11001.0      11001.0      11001  "
      ]
     },
     "execution_count": 92,
     "metadata": {},
     "output_type": "execute_result"
    }
   ],
   "source": [
    "great_df[great_df['zat_origen'] == 1016][['zat_origen', 'zat_destino', 'utam_origen', 'utam_destino', 'p8v_barrio_vereda', 'mun_origen', 'mun_destino', 'municipio']]"
   ]
  },
  {
   "cell_type": "code",
   "execution_count": 19,
   "metadata": {},
   "outputs": [
    {
     "data": {
      "text/plain": [
       "Index(['Unnamed: 0', 'id_hogar', 'Estado', 'Utam', 'Sector', 'Seccion',\n",
       "       'Manzana', 'p5_fecha', 'p7_Barrio_vivienda', 'Latitud', 'Longitud',\n",
       "       'zat_hogar', 'p5_estrato', 'p6_hogares_vivienda', 'p7_total_personas',\n",
       "       'p8_mayores_cinco_anios', 'id_rango_ingresos', 'vivienda', 'Factor',\n",
       "       'municipio', 'localidad', 'id_persona', 'id_viaje', 'fecha',\n",
       "       'lugar_origen', 'zat_origen', 'p17_Id_motivo_viaje', 'p17_otro_motivo',\n",
       "       'hora_inicio_viaje', 'p28_lugar_destino', 'zat_destino',\n",
       "       'p29_id_municipio', 'p30_camino_cuadras', 'p30_camino_minutos',\n",
       "       'hora_llegada', 'p32_lunes', 'p32_martes', 'p32_miercoles',\n",
       "       'p32_jueves', 'p32_viernes', 'p32_sabado', 'p32_domingo',\n",
       "       'p32_ocasional', 'p36_hora_salida', 'f_exp', 'mun_origen',\n",
       "       'mun_destino', 'utam_origen', 'utam_destino', 'modo_principal',\n",
       "       'modo_principal_desagregado', 'duracion', 'p3_id_parentesco_jh',\n",
       "       'p4_edad', 'p5_id_nivel_educativo', 'p6_id_ocupacion',\n",
       "       'p6_id_ocupacion_O1', 'p6_id_ocupacion_O2', 'p6_id_ocupacion_O3',\n",
       "       'p7_id_actividad_economica', 'p7v_lugar_inicio_dia',\n",
       "       'p8v_barrio_vereda', 'p9v_id_municipio', 'p9v_municipio',\n",
       "       'p10v_hora_salida', 'p11v_condujo_vehiculo', 'p13v_condujo_bicicleta',\n",
       "       'p15v_subsidio_SITP', 'Sexo'],\n",
       "      dtype='object')"
      ]
     },
     "execution_count": 19,
     "metadata": {},
     "output_type": "execute_result"
    }
   ],
   "source": [
    "great_df.columns"
   ]
  },
  {
   "cell_type": "code",
   "execution_count": 65,
   "metadata": {},
   "outputs": [
    {
     "data": {
      "text/plain": [
       "[1001.0,\n",
       " 1003.0,\n",
       " 1006.0,\n",
       " 1008.0,\n",
       " 1009.0,\n",
       " 1010.0,\n",
       " 1011.0,\n",
       " 1012.0,\n",
       " 1016.0,\n",
       " 1017.0,\n",
       " 1019.0,\n",
       " 1020.0,\n",
       " 1021.0,\n",
       " 1022.0,\n",
       " 1023.0,\n",
       " 1024.0,\n",
       " 1025.0,\n",
       " 1026.0,\n",
       " 1028.0,\n",
       " 1032.0,\n",
       " 1034.0,\n",
       " 1035.0,\n",
       " 1036.0,\n",
       " 1037.0,\n",
       " 1038.0,\n",
       " 1040.0,\n",
       " 1042.0,\n",
       " 1043.0,\n",
       " 1045.0,\n",
       " 1046.0,\n",
       " 1047.0,\n",
       " 1048.0,\n",
       " 1049.0,\n",
       " 1050.0,\n",
       " 1051.0,\n",
       " 1052.0,\n",
       " 1054.0,\n",
       " 1056.0,\n",
       " 1057.0,\n",
       " 1059.0,\n",
       " 1062.0,\n",
       " 1065.0,\n",
       " 1066.0,\n",
       " 1069.0,\n",
       " 1070.0,\n",
       " 1071.0,\n",
       " 1141.0,\n",
       " 1908.0]"
      ]
     },
     "execution_count": 65,
     "metadata": {},
     "output_type": "execute_result"
    }
   ],
   "source": [
    "sorted(great_df[great_df['zat_destino'] > 999]['zat_destino'].unique())"
   ]
  },
  {
   "cell_type": "markdown",
   "metadata": {},
   "source": [
    "## Series de tiempo"
   ]
  },
  {
   "cell_type": "markdown",
   "metadata": {},
   "source": [
    "En esta secion se estudiara como cambian las cantidades propias de las redes dependiendo de la hora del dia."
   ]
  },
  {
   "cell_type": "code",
   "execution_count": 10,
   "metadata": {},
   "outputs": [
    {
     "data": {
      "text/html": [
       "<div>\n",
       "<style scoped>\n",
       "    .dataframe tbody tr th:only-of-type {\n",
       "        vertical-align: middle;\n",
       "    }\n",
       "\n",
       "    .dataframe tbody tr th {\n",
       "        vertical-align: top;\n",
       "    }\n",
       "\n",
       "    .dataframe thead th {\n",
       "        text-align: right;\n",
       "    }\n",
       "</style>\n",
       "<table border=\"1\" class=\"dataframe\">\n",
       "  <thead>\n",
       "    <tr style=\"text-align: right;\">\n",
       "      <th></th>\n",
       "      <th>zat_origen</th>\n",
       "      <th>zat_destino</th>\n",
       "      <th>hora_inicio_viaje</th>\n",
       "      <th>hora_llegada</th>\n",
       "      <th>viajes</th>\n",
       "    </tr>\n",
       "  </thead>\n",
       "  <tbody>\n",
       "    <tr>\n",
       "      <th>0</th>\n",
       "      <td>0.0</td>\n",
       "      <td>0.0</td>\n",
       "      <td>12:45:00</td>\n",
       "      <td>13:00:00</td>\n",
       "      <td>1</td>\n",
       "    </tr>\n",
       "    <tr>\n",
       "      <th>1</th>\n",
       "      <td>0.0</td>\n",
       "      <td>60.0</td>\n",
       "      <td>16:30:00</td>\n",
       "      <td>18:00:00</td>\n",
       "      <td>1</td>\n",
       "    </tr>\n",
       "    <tr>\n",
       "      <th>2</th>\n",
       "      <td>0.0</td>\n",
       "      <td>66.0</td>\n",
       "      <td>16:20:00</td>\n",
       "      <td>16:25:00</td>\n",
       "      <td>1</td>\n",
       "    </tr>\n",
       "    <tr>\n",
       "      <th>3</th>\n",
       "      <td>0.0</td>\n",
       "      <td>85.0</td>\n",
       "      <td>21:30:00</td>\n",
       "      <td>22:30:00</td>\n",
       "      <td>1</td>\n",
       "    </tr>\n",
       "    <tr>\n",
       "      <th>4</th>\n",
       "      <td>0.0</td>\n",
       "      <td>93.0</td>\n",
       "      <td>16:00:00</td>\n",
       "      <td>17:00:00</td>\n",
       "      <td>1</td>\n",
       "    </tr>\n",
       "    <tr>\n",
       "      <th>...</th>\n",
       "      <td>...</td>\n",
       "      <td>...</td>\n",
       "      <td>...</td>\n",
       "      <td>...</td>\n",
       "      <td>...</td>\n",
       "    </tr>\n",
       "    <tr>\n",
       "      <th>105471</th>\n",
       "      <td>1141.0</td>\n",
       "      <td>225.0</td>\n",
       "      <td>18:00:00</td>\n",
       "      <td>18:10:00</td>\n",
       "      <td>1</td>\n",
       "    </tr>\n",
       "    <tr>\n",
       "      <th>105472</th>\n",
       "      <td>1141.0</td>\n",
       "      <td>247.0</td>\n",
       "      <td>14:00:00</td>\n",
       "      <td>15:20:00</td>\n",
       "      <td>1</td>\n",
       "    </tr>\n",
       "    <tr>\n",
       "      <th>105473</th>\n",
       "      <td>1141.0</td>\n",
       "      <td>252.0</td>\n",
       "      <td>07:00:00</td>\n",
       "      <td>07:15:00</td>\n",
       "      <td>1</td>\n",
       "    </tr>\n",
       "    <tr>\n",
       "      <th>105474</th>\n",
       "      <td>1141.0</td>\n",
       "      <td>477.0</td>\n",
       "      <td>15:30:00</td>\n",
       "      <td>16:15:00</td>\n",
       "      <td>1</td>\n",
       "    </tr>\n",
       "    <tr>\n",
       "      <th>105475</th>\n",
       "      <td>1908.0</td>\n",
       "      <td>933.0</td>\n",
       "      <td>07:00:00</td>\n",
       "      <td>07:10:00</td>\n",
       "      <td>1</td>\n",
       "    </tr>\n",
       "  </tbody>\n",
       "</table>\n",
       "<p>105476 rows × 5 columns</p>\n",
       "</div>"
      ],
      "text/plain": [
       "        zat_origen  zat_destino hora_inicio_viaje hora_llegada  viajes\n",
       "0              0.0          0.0          12:45:00     13:00:00       1\n",
       "1              0.0         60.0          16:30:00     18:00:00       1\n",
       "2              0.0         66.0          16:20:00     16:25:00       1\n",
       "3              0.0         85.0          21:30:00     22:30:00       1\n",
       "4              0.0         93.0          16:00:00     17:00:00       1\n",
       "...            ...          ...               ...          ...     ...\n",
       "105471      1141.0        225.0          18:00:00     18:10:00       1\n",
       "105472      1141.0        247.0          14:00:00     15:20:00       1\n",
       "105473      1141.0        252.0          07:00:00     07:15:00       1\n",
       "105474      1141.0        477.0          15:30:00     16:15:00       1\n",
       "105475      1908.0        933.0          07:00:00     07:10:00       1\n",
       "\n",
       "[105476 rows x 5 columns]"
      ]
     },
     "execution_count": 10,
     "metadata": {},
     "output_type": "execute_result"
    }
   ],
   "source": [
    "df_time = (great_df[['zat_origen','zat_destino', 'hora_inicio_viaje', 'hora_llegada']]\n",
    "                    .sort_values(by = ['zat_origen','zat_destino'])\n",
    "                    .dropna()\n",
    "                    .reset_index())\n",
    "df_time['viajes'] = 1\n",
    "df_time = df_time.drop(columns  = ['index'])\n",
    "df_time['hora_inicio_viaje'] = to_time(df_time['hora_inicio_viaje'])\n",
    "df_time['hora_llegada'] = to_time(df_time['hora_llegada'])\n",
    "df_time"
   ]
  },
  {
   "cell_type": "code",
   "execution_count": 143,
   "metadata": {},
   "outputs": [],
   "source": [
    "def make_matrix(df):\n",
    "    matrix = (df[['zat_origen', 'zat_destino', 'viajes']].drop_duplicates()\n",
    "                .pivot_table(values = ('viajes'), index = 'zat_origen', columns = 'zat_destino')\n",
    "                .fillna(0))\n",
    "    matrix[959] = 0\n",
    "    matrix[1061] = 0\n",
    "    matrix.loc[308] = 0\n",
    "    matrix.loc[478] = 0\n",
    "    return matrix"
   ]
  },
  {
   "cell_type": "code",
   "execution_count": 13,
   "metadata": {},
   "outputs": [
    {
     "data": {
      "text/html": [
       "<div>\n",
       "<style scoped>\n",
       "    .dataframe tbody tr th:only-of-type {\n",
       "        vertical-align: middle;\n",
       "    }\n",
       "\n",
       "    .dataframe tbody tr th {\n",
       "        vertical-align: top;\n",
       "    }\n",
       "\n",
       "    .dataframe thead th {\n",
       "        text-align: right;\n",
       "    }\n",
       "</style>\n",
       "<table border=\"1\" class=\"dataframe\">\n",
       "  <thead>\n",
       "    <tr style=\"text-align: right;\">\n",
       "      <th></th>\n",
       "      <th>zat_origen</th>\n",
       "      <th>zat_destino</th>\n",
       "      <th>hora_inicio_viaje</th>\n",
       "      <th>hora_llegada</th>\n",
       "      <th>viajes</th>\n",
       "    </tr>\n",
       "  </thead>\n",
       "  <tbody>\n",
       "    <tr>\n",
       "      <th>30</th>\n",
       "      <td>0.0</td>\n",
       "      <td>543.0</td>\n",
       "      <td>06:00:00</td>\n",
       "      <td>08:35:00</td>\n",
       "      <td>1</td>\n",
       "    </tr>\n",
       "    <tr>\n",
       "      <th>36</th>\n",
       "      <td>0.0</td>\n",
       "      <td>640.0</td>\n",
       "      <td>06:30:00</td>\n",
       "      <td>07:55:00</td>\n",
       "      <td>1</td>\n",
       "    </tr>\n",
       "    <tr>\n",
       "      <th>52</th>\n",
       "      <td>0.0</td>\n",
       "      <td>1051.0</td>\n",
       "      <td>06:30:00</td>\n",
       "      <td>08:12:00</td>\n",
       "      <td>1</td>\n",
       "    </tr>\n",
       "    <tr>\n",
       "      <th>224</th>\n",
       "      <td>7.0</td>\n",
       "      <td>1050.0</td>\n",
       "      <td>06:45:00</td>\n",
       "      <td>07:45:00</td>\n",
       "      <td>1</td>\n",
       "    </tr>\n",
       "    <tr>\n",
       "      <th>226</th>\n",
       "      <td>7.0</td>\n",
       "      <td>1059.0</td>\n",
       "      <td>06:45:00</td>\n",
       "      <td>07:56:00</td>\n",
       "      <td>1</td>\n",
       "    </tr>\n",
       "    <tr>\n",
       "      <th>...</th>\n",
       "      <td>...</td>\n",
       "      <td>...</td>\n",
       "      <td>...</td>\n",
       "      <td>...</td>\n",
       "      <td>...</td>\n",
       "    </tr>\n",
       "    <tr>\n",
       "      <th>105198</th>\n",
       "      <td>1050.0</td>\n",
       "      <td>786.0</td>\n",
       "      <td>06:00:00</td>\n",
       "      <td>07:30:00</td>\n",
       "      <td>1</td>\n",
       "    </tr>\n",
       "    <tr>\n",
       "      <th>105240</th>\n",
       "      <td>1050.0</td>\n",
       "      <td>1050.0</td>\n",
       "      <td>06:20:00</td>\n",
       "      <td>07:20:00</td>\n",
       "      <td>1</td>\n",
       "    </tr>\n",
       "    <tr>\n",
       "      <th>105266</th>\n",
       "      <td>1050.0</td>\n",
       "      <td>1050.0</td>\n",
       "      <td>06:00:00</td>\n",
       "      <td>07:30:00</td>\n",
       "      <td>1</td>\n",
       "    </tr>\n",
       "    <tr>\n",
       "      <th>105346</th>\n",
       "      <td>1051.0</td>\n",
       "      <td>1051.0</td>\n",
       "      <td>06:00:00</td>\n",
       "      <td>07:30:00</td>\n",
       "      <td>1</td>\n",
       "    </tr>\n",
       "    <tr>\n",
       "      <th>105438</th>\n",
       "      <td>1070.0</td>\n",
       "      <td>150.0</td>\n",
       "      <td>06:40:00</td>\n",
       "      <td>07:45:00</td>\n",
       "      <td>1</td>\n",
       "    </tr>\n",
       "  </tbody>\n",
       "</table>\n",
       "<p>4588 rows × 5 columns</p>\n",
       "</div>"
      ],
      "text/plain": [
       "        zat_origen  zat_destino hora_inicio_viaje hora_llegada  viajes\n",
       "30             0.0        543.0          06:00:00     08:35:00       1\n",
       "36             0.0        640.0          06:30:00     07:55:00       1\n",
       "52             0.0       1051.0          06:30:00     08:12:00       1\n",
       "224            7.0       1050.0          06:45:00     07:45:00       1\n",
       "226            7.0       1059.0          06:45:00     07:56:00       1\n",
       "...            ...          ...               ...          ...     ...\n",
       "105198      1050.0        786.0          06:00:00     07:30:00       1\n",
       "105240      1050.0       1050.0          06:20:00     07:20:00       1\n",
       "105266      1050.0       1050.0          06:00:00     07:30:00       1\n",
       "105346      1051.0       1051.0          06:00:00     07:30:00       1\n",
       "105438      1070.0        150.0          06:40:00     07:45:00       1\n",
       "\n",
       "[4588 rows x 5 columns]"
      ]
     },
     "execution_count": 13,
     "metadata": {},
     "output_type": "execute_result"
    }
   ],
   "source": [
    "df_time[(df_time['hora_inicio_viaje'] < datetime.time(7,0)) & (df_time['hora_llegada'] > datetime.time(7,0))]"
   ]
  },
  {
   "cell_type": "code",
   "execution_count": 144,
   "metadata": {},
   "outputs": [
    {
     "data": {
      "text/html": [
       "<div>\n",
       "<style scoped>\n",
       "    .dataframe tbody tr th:only-of-type {\n",
       "        vertical-align: middle;\n",
       "    }\n",
       "\n",
       "    .dataframe tbody tr th {\n",
       "        vertical-align: top;\n",
       "    }\n",
       "\n",
       "    .dataframe thead th {\n",
       "        text-align: right;\n",
       "    }\n",
       "</style>\n",
       "<table border=\"1\" class=\"dataframe\">\n",
       "  <thead>\n",
       "    <tr style=\"text-align: right;\">\n",
       "      <th></th>\n",
       "      <th>zat_origen</th>\n",
       "      <th>zat_destino</th>\n",
       "      <th>viajes</th>\n",
       "    </tr>\n",
       "  </thead>\n",
       "  <tbody>\n",
       "    <tr>\n",
       "      <th>0</th>\n",
       "      <td>0.0</td>\n",
       "      <td>0.0</td>\n",
       "      <td>1</td>\n",
       "    </tr>\n",
       "    <tr>\n",
       "      <th>1</th>\n",
       "      <td>0.0</td>\n",
       "      <td>60.0</td>\n",
       "      <td>1</td>\n",
       "    </tr>\n",
       "    <tr>\n",
       "      <th>2</th>\n",
       "      <td>0.0</td>\n",
       "      <td>66.0</td>\n",
       "      <td>1</td>\n",
       "    </tr>\n",
       "    <tr>\n",
       "      <th>3</th>\n",
       "      <td>0.0</td>\n",
       "      <td>85.0</td>\n",
       "      <td>1</td>\n",
       "    </tr>\n",
       "    <tr>\n",
       "      <th>4</th>\n",
       "      <td>0.0</td>\n",
       "      <td>93.0</td>\n",
       "      <td>1</td>\n",
       "    </tr>\n",
       "    <tr>\n",
       "      <th>...</th>\n",
       "      <td>...</td>\n",
       "      <td>...</td>\n",
       "      <td>...</td>\n",
       "    </tr>\n",
       "    <tr>\n",
       "      <th>105471</th>\n",
       "      <td>1141.0</td>\n",
       "      <td>225.0</td>\n",
       "      <td>1</td>\n",
       "    </tr>\n",
       "    <tr>\n",
       "      <th>105472</th>\n",
       "      <td>1141.0</td>\n",
       "      <td>247.0</td>\n",
       "      <td>1</td>\n",
       "    </tr>\n",
       "    <tr>\n",
       "      <th>105473</th>\n",
       "      <td>1141.0</td>\n",
       "      <td>252.0</td>\n",
       "      <td>1</td>\n",
       "    </tr>\n",
       "    <tr>\n",
       "      <th>105474</th>\n",
       "      <td>1141.0</td>\n",
       "      <td>477.0</td>\n",
       "      <td>1</td>\n",
       "    </tr>\n",
       "    <tr>\n",
       "      <th>105475</th>\n",
       "      <td>1908.0</td>\n",
       "      <td>933.0</td>\n",
       "      <td>1</td>\n",
       "    </tr>\n",
       "  </tbody>\n",
       "</table>\n",
       "<p>105476 rows × 3 columns</p>\n",
       "</div>"
      ],
      "text/plain": [
       "        zat_origen  zat_destino  viajes\n",
       "0              0.0          0.0       1\n",
       "1              0.0         60.0       1\n",
       "2              0.0         66.0       1\n",
       "3              0.0         85.0       1\n",
       "4              0.0         93.0       1\n",
       "...            ...          ...     ...\n",
       "105471      1141.0        225.0       1\n",
       "105472      1141.0        247.0       1\n",
       "105473      1141.0        252.0       1\n",
       "105474      1141.0        477.0       1\n",
       "105475      1908.0        933.0       1\n",
       "\n",
       "[105476 rows x 3 columns]"
      ]
     },
     "execution_count": 144,
     "metadata": {},
     "output_type": "execute_result"
    }
   ],
   "source": [
    "df_time[['zat_origen', 'zat_destino', 'viajes']]"
   ]
  },
  {
   "cell_type": "code",
   "execution_count": 78,
   "metadata": {},
   "outputs": [],
   "source": [
    "hora1 = datetime.time(0,0)\n",
    "df_7am = df_time[(df_time['hora_inicio_viaje'] < hora1) & (df_time['hora_llegada'] > hora1)]\n",
    "matrix_7am = make_matrix(df_7am) \n",
    "index7, columns7 = what_index_columns(matrix_7am)\n",
    "index_columns(matrix_7am, index7, columns7)\n",
    "#matrix_7am = matrix_7am.to_numpy()\n",
    "#G_7am = nx.from_numpy_matrix(matrix_7am)"
   ]
  },
  {
   "cell_type": "code",
   "execution_count": 102,
   "metadata": {},
   "outputs": [
    {
     "data": {
      "text/html": [
       "<div>\n",
       "<style scoped>\n",
       "    .dataframe tbody tr th:only-of-type {\n",
       "        vertical-align: middle;\n",
       "    }\n",
       "\n",
       "    .dataframe tbody tr th {\n",
       "        vertical-align: top;\n",
       "    }\n",
       "\n",
       "    .dataframe thead th {\n",
       "        text-align: right;\n",
       "    }\n",
       "</style>\n",
       "<table border=\"1\" class=\"dataframe\">\n",
       "  <thead>\n",
       "    <tr style=\"text-align: right;\">\n",
       "      <th></th>\n",
       "      <th>zat_origen</th>\n",
       "      <th>zat_destino</th>\n",
       "      <th>hora_inicio_viaje</th>\n",
       "      <th>hora_llegada</th>\n",
       "      <th>viajes</th>\n",
       "    </tr>\n",
       "  </thead>\n",
       "  <tbody>\n",
       "    <tr>\n",
       "      <th>17</th>\n",
       "      <td>0.0</td>\n",
       "      <td>298.0</td>\n",
       "      <td>07:00:00</td>\n",
       "      <td>08:00:00</td>\n",
       "      <td>1</td>\n",
       "    </tr>\n",
       "    <tr>\n",
       "      <th>29</th>\n",
       "      <td>0.0</td>\n",
       "      <td>509.0</td>\n",
       "      <td>05:30:00</td>\n",
       "      <td>05:40:00</td>\n",
       "      <td>1</td>\n",
       "    </tr>\n",
       "    <tr>\n",
       "      <th>30</th>\n",
       "      <td>0.0</td>\n",
       "      <td>543.0</td>\n",
       "      <td>06:00:00</td>\n",
       "      <td>08:35:00</td>\n",
       "      <td>1</td>\n",
       "    </tr>\n",
       "    <tr>\n",
       "      <th>34</th>\n",
       "      <td>0.0</td>\n",
       "      <td>621.0</td>\n",
       "      <td>06:00:00</td>\n",
       "      <td>06:30:00</td>\n",
       "      <td>1</td>\n",
       "    </tr>\n",
       "    <tr>\n",
       "      <th>36</th>\n",
       "      <td>0.0</td>\n",
       "      <td>640.0</td>\n",
       "      <td>06:30:00</td>\n",
       "      <td>07:55:00</td>\n",
       "      <td>1</td>\n",
       "    </tr>\n",
       "    <tr>\n",
       "      <th>...</th>\n",
       "      <td>...</td>\n",
       "      <td>...</td>\n",
       "      <td>...</td>\n",
       "      <td>...</td>\n",
       "      <td>...</td>\n",
       "    </tr>\n",
       "    <tr>\n",
       "      <th>105455</th>\n",
       "      <td>1070.0</td>\n",
       "      <td>1017.0</td>\n",
       "      <td>06:30:00</td>\n",
       "      <td>07:00:00</td>\n",
       "      <td>1</td>\n",
       "    </tr>\n",
       "    <tr>\n",
       "      <th>105459</th>\n",
       "      <td>1071.0</td>\n",
       "      <td>13.0</td>\n",
       "      <td>06:20:00</td>\n",
       "      <td>06:40:00</td>\n",
       "      <td>1</td>\n",
       "    </tr>\n",
       "    <tr>\n",
       "      <th>105461</th>\n",
       "      <td>1071.0</td>\n",
       "      <td>135.0</td>\n",
       "      <td>07:30:00</td>\n",
       "      <td>08:20:00</td>\n",
       "      <td>1</td>\n",
       "    </tr>\n",
       "    <tr>\n",
       "      <th>105473</th>\n",
       "      <td>1141.0</td>\n",
       "      <td>252.0</td>\n",
       "      <td>07:00:00</td>\n",
       "      <td>07:15:00</td>\n",
       "      <td>1</td>\n",
       "    </tr>\n",
       "    <tr>\n",
       "      <th>105475</th>\n",
       "      <td>1908.0</td>\n",
       "      <td>933.0</td>\n",
       "      <td>07:00:00</td>\n",
       "      <td>07:10:00</td>\n",
       "      <td>1</td>\n",
       "    </tr>\n",
       "  </tbody>\n",
       "</table>\n",
       "<p>23882 rows × 5 columns</p>\n",
       "</div>"
      ],
      "text/plain": [
       "        zat_origen  zat_destino hora_inicio_viaje hora_llegada  viajes\n",
       "17             0.0        298.0          07:00:00     08:00:00       1\n",
       "29             0.0        509.0          05:30:00     05:40:00       1\n",
       "30             0.0        543.0          06:00:00     08:35:00       1\n",
       "34             0.0        621.0          06:00:00     06:30:00       1\n",
       "36             0.0        640.0          06:30:00     07:55:00       1\n",
       "...            ...          ...               ...          ...     ...\n",
       "105455      1070.0       1017.0          06:30:00     07:00:00       1\n",
       "105459      1071.0         13.0          06:20:00     06:40:00       1\n",
       "105461      1071.0        135.0          07:30:00     08:20:00       1\n",
       "105473      1141.0        252.0          07:00:00     07:15:00       1\n",
       "105475      1908.0        933.0          07:00:00     07:10:00       1\n",
       "\n",
       "[23882 rows x 5 columns]"
      ]
     },
     "execution_count": 102,
     "metadata": {},
     "output_type": "execute_result"
    }
   ],
   "source": [
    "df_time[(df_time['hora_inicio_viaje']  > datetime.time(5,0)) & (df_time['hora_llegada'] < datetime.time(9,0))]"
   ]
  },
  {
   "cell_type": "code",
   "execution_count": 26,
   "metadata": {},
   "outputs": [
    {
     "data": {
      "text/plain": [
       "0.011403839514145009"
      ]
     },
     "execution_count": 26,
     "metadata": {},
     "output_type": "execute_result"
    }
   ],
   "source": [
    "2*G_7am.number_of_edges()/(len(G_7am)**2-1)"
   ]
  },
  {
   "cell_type": "code",
   "execution_count": 23,
   "metadata": {},
   "outputs": [
    {
     "name": "stdout",
     "output_type": "stream",
     "text": [
      "832\n",
      "3947\n",
      "0.04328654977434571\n"
     ]
    }
   ],
   "source": [
    "print(len(G_7am))\n",
    "print(G_7am.number_of_edges())\n",
    "print(nx.average_clustering(G_7am))"
   ]
  },
  {
   "cell_type": "code",
   "execution_count": 145,
   "metadata": {},
   "outputs": [],
   "source": [
    "horas = []\n",
    "meandegree = []\n",
    "num_nodes = []\n",
    "num_edges = []\n",
    "density_ = []\n",
    "avg_clustering = []\n",
    "\n",
    "hora = datetime.time(0, 0)\n",
    "hora_out = datetime.time(22, 0)\n",
    "hora_in = datetime.time(2,0)\n",
    "df = df_time[(df_time['hora_inicio_viaje'] >= hora_out) & \n",
    "             (df_time['hora_llegada'] <= hora_in) &\n",
    "             (df_time['hora_inicio_viaje'] <= datetime.time(23, 59)) & \n",
    "             (df_time['hora_llegada'] >= hora)]\n",
    "matrix = make_matrix(df) \n",
    "index, columns = what_index_columns(matrix)\n",
    "index_columns(matrix, index, columns)\n",
    "matrix = matrix.to_numpy()\n",
    "G = nx.from_numpy_matrix(matrix)\n",
    "horas.append(0)\n",
    "meandegree.append(mean_degree(G))\n",
    "num_nodes.append(len(G))\n",
    "num_edges.append(G.number_of_edges())\n",
    "density_.append(density(G))\n",
    "avg_clustering.append(nx.average_clustering(G))\n",
    "\n",
    "for i in range(1,24):\n",
    "    hora = datetime.time(i, 0)\n",
    "    df = df_time[(df_time['hora_inicio_viaje'] <= hora) & (df_time['hora_llegada'] >= hora)]\n",
    "    matrix = make_matrix(df) \n",
    "    index, columns = what_index_columns(matrix)\n",
    "    index_columns(matrix, index, columns)\n",
    "    matrix = matrix.to_numpy()\n",
    "    G = nx.from_numpy_matrix(matrix)\n",
    "    horas.append(i)\n",
    "    meandegree.append(mean_degree(G))\n",
    "    num_nodes.append(len(G))\n",
    "    num_edges.append(G.number_of_edges())\n",
    "    density_.append(density(G))\n",
    "    avg_clustering.append(nx.average_clustering(G))\n",
    "    del G\n",
    "    del df\n",
    "    del matrix"
   ]
  },
  {
   "cell_type": "code",
   "execution_count": 147,
   "metadata": {},
   "outputs": [
    {
     "data": {
      "text/plain": [
       "[]"
      ]
     },
     "execution_count": 147,
     "metadata": {},
     "output_type": "execute_result"
    },
    {
     "data": {
      "image/png": "[encoded data removed]",
      "text/plain": [
       "<Figure size 720x504 with 1 Axes>"
      ]
     },
     "metadata": {
      "needs_background": "light"
     },
     "output_type": "display_data"
    }
   ],
   "source": [
    "plt.figure(figsize = (10, 7))\n",
    "#plt.plot(horas, meandegree, 'o', linestyle = '-', label = 'Grado medio')\n",
    "#plt.plot(horas, num_nodes, '*', color = 'r', linestyle = '-', label = 'Nodos en la red')\n",
    "#plt.plot(horas, num_edges, 'v', color = 'g', linestyle = '-', label = 'Conexiones en la red')\n",
    "plt.plot(horas, density_, '^', color = 'goldenrod', linestyle = '-', label = 'Densidad')\n",
    "plt.plot(horas, avg_clustering, 's', color = 'indigo', linestyle = '-', label = 'Clustering medio')\n",
    "plt.xlabel('Hora', fontsize = 14)\n",
    "plt.legend()\n",
    "plt.grid()\n",
    "plt.plot()"
   ]
  },
  {
   "cell_type": "code",
   "execution_count": 146,
   "metadata": {},
   "outputs": [
    {
     "data": {
      "text/plain": [
       "[]"
      ]
     },
     "execution_count": 146,
     "metadata": {},
     "output_type": "execute_result"
    },
    {
     "data": {
      "image/png": "[encoded data removed]",
      "text/plain": [
       "<Figure size 720x504 with 1 Axes>"
      ]
     },
     "metadata": {
      "needs_background": "light"
     },
     "output_type": "display_data"
    }
   ],
   "source": [
    "plt.figure(figsize = (10, 7))\n",
    "plt.plot(horas, meandegree, 'o', linestyle = '-', label = 'Grado medio')\n",
    "#plt.plot(horas, num_nodes, '*', color = 'r', linestyle = '-', label = 'Nodos en la red')\n",
    "#plt.plot(horas, num_edges, 'v', color = 'g', linestyle = '-', label = 'Conexiones en la red')\n",
    "#plt.plot(horas, density_, '^', color = 'goldenrod', linestyle = '-', label = 'Densidad')\n",
    "#plt.plot(horas, avg_clustering, 's', color = 'indigo', linestyle = '-', label = 'Clustering medio')\n",
    "plt.xlabel('Hora', fontsize = 14)\n",
    "plt.legend()\n",
    "plt.grid()\n",
    "plt.plot()"
   ]
  },
  {
   "cell_type": "code",
   "execution_count": 148,
   "metadata": {},
   "outputs": [
    {
     "data": {
      "text/plain": [
       "[]"
      ]
     },
     "execution_count": 148,
     "metadata": {},
     "output_type": "execute_result"
    },
    {
     "data": {
      "image/png": "[encoded data removed]",
      "text/plain": [
       "<Figure size 720x504 with 1 Axes>"
      ]
     },
     "metadata": {
      "needs_background": "light"
     },
     "output_type": "display_data"
    }
   ],
   "source": [
    "plt.figure(figsize = (10, 7))\n",
    "#plt.plot(horas, meandegree, 'o', linestyle = '-', label = 'Grado medio')\n",
    "plt.plot(horas, num_nodes, '*', color = 'r', linestyle = '-', label = 'Nodos en la red')\n",
    "#plt.plot(horas, num_edges, 'v', color = 'g', linestyle = '-', label = 'Conexiones en la red')\n",
    "#plt.plot(horas, density_, '^', color = 'goldenrod', linestyle = '-', label = 'Densidad')\n",
    "#plt.plot(horas, avg_clustering, 's', color = 'indigo', linestyle = '-', label = 'Clustering medio')\n",
    "plt.xlabel('Hora', fontsize = 14)\n",
    "plt.legend()\n",
    "plt.grid()\n",
    "plt.plot()"
   ]
  },
  {
   "cell_type": "code",
   "execution_count": 149,
   "metadata": {},
   "outputs": [
    {
     "data": {
      "text/plain": [
       "[]"
      ]
     },
     "execution_count": 149,
     "metadata": {},
     "output_type": "execute_result"
    },
    {
     "data": {
      "image/png": "[encoded data removed]",
      "text/plain": [
       "<Figure size 720x504 with 1 Axes>"
      ]
     },
     "metadata": {
      "needs_background": "light"
     },
     "output_type": "display_data"
    }
   ],
   "source": [
    "plt.figure(figsize = (10, 7))\n",
    "#plt.plot(horas, meandegree, 'o', linestyle = '-', label = 'Grado medio')\n",
    "#plt.plot(horas, num_nodes, '*', color = 'r', linestyle = '-', label = 'Nodos en la red')\n",
    "plt.plot(horas, num_edges, 'v', color = 'g', linestyle = '-', label = 'Conexiones en la red')\n",
    "#plt.plot(horas, density_, '^', color = 'goldenrod', linestyle = '-', label = 'Densidad')\n",
    "#plt.plot(horas, avg_clustering, 's', color = 'indigo', linestyle = '-', label = 'Clustering medio')\n",
    "plt.xlabel('Hora', fontsize = 14)\n",
    "plt.legend()\n",
    "plt.grid()\n",
    "plt.plot()"
   ]
  },
  {
   "cell_type": "markdown",
   "metadata": {},
   "source": [
    "Como se puede ver en todos los parametros estudiados, la red de movilidad puede tomarse como una red dinamica en la cual, dependiendo de la hora del dia, el sistema cambia su estructura, al menos para el caso del grado, de una manera muy similar a como cambia el numero de viajes realizados a una determinada hora, de hecho ambas graficas son muy similares, con ligeras diferencias en la manera de como crece el numero de viajes y el grado promedio de la red, pero si se nota que un mayor grado coincide con las horas pico. Algo interesante es la cantidad de nodos en la red, la cual se mantiene constante entre 6 AM y 6 PM, donde comienza a decender."
   ]
  },
  {
   "cell_type": "markdown",
   "metadata": {},
   "source": [
    "## Prueba de Newman \n",
    "\n",
    "Aca se hara una prueba del algoritmo de newman "
   ]
  },
  {
   "cell_type": "code",
   "execution_count": 152,
   "metadata": {},
   "outputs": [],
   "source": [
    "array = [1,4,8,2,46,4,95,1,5,84,1,7,9,2,65,3,7]\n",
    "array_nw = []\n",
    "for i in range(len(array)):\n",
    "    suma = sum(array[i:])\n",
    "    array_nw.append(suma)"
   ]
  },
  {
   "cell_type": "code",
   "execution_count": 153,
   "metadata": {},
   "outputs": [
    {
     "data": {
      "text/plain": [
       "[344, 343, 339, 331, 329, 283, 279, 184, 183, 178, 94, 93, 86, 77, 75, 10, 7]"
      ]
     },
     "execution_count": 153,
     "metadata": {},
     "output_type": "execute_result"
    }
   ],
   "source": []
  },
  {
   "cell_type": "markdown",
   "metadata": {},
   "source": [
    "## Proximamente\n",
    "\n",
    "Calcular la entropia del grado y de cada propiedad que se me pase por delante :v\n",
    "\n",
    "Revisar a profundidad la naturaleza de las redes, al menos algo de lo que estoy seguro es que los grados estan bien XD.\n",
    "\n",
    "Calcular y sacar las propiedades de las redes en funcion del tiempo."
   ]
  },
  {
   "cell_type": "markdown",
   "metadata": {},
   "source": [
    "## Importante \n",
    "\n",
    "Que constantes pueden mantenerse en algo tan dinamico como lo es la movilidad en una ciudad, encontrar cantidades conservadas podria dar mucha informacion de como se comporta el sistema, y pues aja, son muchos los sistemas que su resolucion se basa en encontrar cantidades conservadas. El hecho de que las distribuciones de grado sean leyes exponenciales (al parecer :v) dan razon de que si existen estas cantidades."
   ]
  },
  {
   "cell_type": "code",
   "execution_count": null,
   "metadata": {},
   "outputs": [],
   "source": []
  }
 ],
 "metadata": {
  "kernelspec": {
   "display_name": "Python 3",
   "language": "python",
   "name": "python3"
  },
  "language_info": {
   "codemirror_mode": {
    "name": "ipython",
    "version": 3
   },
   "file_extension": ".py",
   "mimetype": "text/x-python",
   "name": "python",
   "nbconvert_exporter": "python",
   "pygments_lexer": "ipython3",
   "version": "3.7.6"
  }
 },
 "nbformat": 4,
 "nbformat_minor": 4
}
