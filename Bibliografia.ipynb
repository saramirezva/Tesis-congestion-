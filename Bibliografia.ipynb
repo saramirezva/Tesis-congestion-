{
 "cells": [
  {
   "cell_type": "markdown",
   "metadata": {},
   "source": [
    "# Orden del documento"
   ]
  },
  {
   "cell_type": "markdown",
   "metadata": {},
   "source": [
    "En este documento se haran las debidas referencias de los libros y articulos estudiados para el desarrollo de mi tesis, junto con borradores del estado del arte y paulatinamente marco teorico."
   ]
  },
  {
   "cell_type": "markdown",
   "metadata": {},
   "source": [
    "Los primeros libros que se deben tener en cuenta son los que son meramente de redes, como el Wasserman, el Newman y si se necesitan modelos mas complejos de redes hay mas.\n",
    "\n",
    "En segundo lugar van todos los artuculos que he buscado (y leido paulatinamente) sobre el fenomeno de congestion en redes complejas, con una particular importancia el trabajo de Arenas y su planteamento del parametro de orden."
   ]
  },
  {
   "cell_type": "markdown",
   "metadata": {},
   "source": [
    "## Lista de referencias \n",
    "\n",
    "- *__Wasserman, S., & Faust, K. (1994). Social network analysis: Methods and applications.__*\n",
    "Libro clasico para el estudio de teoria de grafos y sus aplicaciones, es el primer libro a consultar del tema.\n",
    "\n",
    "- *__Zinoviev, D. (2018). Complex network analysis in Python: Recognize-construct-visualize-analyze-interpret. Pragmatic Bookshelf.__*\n",
    "En este libro se muestra como se utiliza la libreria NetworkX de python, la cual se utiliza para la creacion y analisis de redes complejas.\n",
    "\n",
    "- *__Echenique, P., Gómez-Gardenes, J., & Moreno, Y. (2005). Dynamics of jamming transitions in complex networks. EPL (Europhysics Letters), 71(2), 325.__*\n",
    "Este articulo estudia la congestion en una red compleja por la cual viajan paquetes. Cada nodo tiene una rata de produccion de y procesamiento de paquetes (enviar y recivir), a partir de esto se analisan los eventos que dan razon de una congestion y un algoritmo para evitarla.\n",
    "\n",
    "- *__De Martino, D., Dall’Asta, L., Bianconi, G., & Marsili, M. (2009). Congestion phenomena on complex networks. Physical Review E, 79(1), 015101.__*\n",
    "Primer articulo que lei acerca del tema de congestion, en este se plantean modelos mas complicados, en los cuales se hacen calculos analiticos a partir de lo que creo que son ecuaciones maestras, para hacer lo que supongo que son predicciones, y tambien estudian el fenomeno de congestion a partir de dichos modelos. Tal vex deba volver a leerlo.\n",
    "\n",
    "- *__Tan, F., Wu, J., Xia, Y., & Chi, K. T. (2014). Traffic congestion in interconnected complex networks. Physical Review E, 89(6), 062813.__*\n",
    "Articulo en el cual se crea un modelo mas bien simple en el cual tambien se envian paquetes por una red de escala libre de Barabasi y Albert (ley de potencias) y se analiza la congestion. El caso de este estudio es particular porque se comparo esta red con un caso de la vida real, las conecciones de internet en Japon y Corea del sur, red que se comporta como un multigrafo compuesto de dos grafos. La simulacion se realizo teniendo en cuenta eso y los dos grafos se conectaban bajo ciertas reglas que se ajustaban al caso real y minimizaban la congestion.\n",
    "\n",
    "- *__Arenas, A., Díaz-Guilera, A., & Guimera, R. (2001). Communication in networks with hierarchical branching. Physical review letters, 86(14), 3196.__*\n",
    "Este texto es __FUNDAMENTAL__ para el claro entendimiento de esta area. En dicho trabajo se presenta por primera vez el parametro de orden $\\rho$, el cual muestra el cambio de estado de trafico libre a congestionado en una red por donde se mueven paquetes. Todos los trabajos que trabajan el tema referencian este trabajo dado que en todos los estudios se utiliza dicho parametro. *Falta por leer*.\n",
    "\n",
    "- *__Lotero, L., Hurtado, R. G., Floría, L. M., & Gómez-Gardeñes, J. (2016). Rich do not rise early: spatio-temporal patterns in the mobility networks of different socio-economic classes. Royal Society open science, 3(10), 150654.__*\n",
    "En este documento se hace un analisis de movilidad en base al estrato socioeconomico en las ciudades de medellin y manizales, en donde llegan a la conclusion de que los ricos no madrugan.\n",
    "\n",
    "- *__Lotero Vélez, L. Model for the analysis of urban mobility using the complex networks formalism. Escuela de Sistemas.__* \n",
    "Esta es casi que la piedra angular de mi tesis, me lei todo el formalismo de esta cosa y basicamente mi tesis seria un plagio (en varias cosas) si no la referencio como se debe."
   ]
  },
  {
   "cell_type": "markdown",
   "metadata": {},
   "source": [
    "Para complementar dicha bibliografia lo que me toca hacer es leer los articulos que tengo guardados en la carpeta de modelos de congestion, junto con los de movilidad, y muy importante, volver a leer la tesis de Laura para tomar inspiracion y mas rumbos de que es lo que debo hacer, por otra parte debo buscar los articulos que hace dias habia visto en Scopus dobre comlpx system cities, para ver que hay por ahi XD."
   ]
  },
  {
   "cell_type": "markdown",
   "metadata": {},
   "source": []
  },
  {
   "cell_type": "code",
   "execution_count": null,
   "metadata": {},
   "outputs": [],
   "source": []
  }
 ],
 "metadata": {
  "kernelspec": {
   "display_name": "Python 3",
   "language": "python",
   "name": "python3"
  },
  "language_info": {
   "codemirror_mode": {
    "name": "ipython",
    "version": 3
   },
   "file_extension": ".py",
   "mimetype": "text/x-python",
   "name": "python",
   "nbconvert_exporter": "python",
   "pygments_lexer": "ipython3",
   "version": "3.7.6"
  }
 },
 "nbformat": 4,
 "nbformat_minor": 4
}
